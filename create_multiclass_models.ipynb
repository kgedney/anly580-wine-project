{
  "nbformat": 4,
  "nbformat_minor": 0,
  "metadata": {
    "colab": {
      "name": "create_multiclass_models.ipynb",
      "version": "0.3.2",
      "provenance": [],
      "toc_visible": true
    },
    "kernelspec": {
      "name": "python3",
      "display_name": "Python 3"
    },
    "accelerator": "GPU"
  },
  "cells": [
    {
      "metadata": {
        "id": "j7fJyy-R5YV6",
        "colab_type": "code",
        "colab": {}
      },
      "cell_type": "code",
      "source": [
        "# use kaggle data to train models\n",
        "# then will test on my scraped dataset"
      ],
      "execution_count": 0,
      "outputs": []
    },
    {
      "metadata": {
        "id": "W4lzqdzW5YV-",
        "colab_type": "text"
      },
      "cell_type": "markdown",
      "source": [
        "#### Objective: \n",
        "I plan to use the Word2Vec algorithm to train a new set of embeddings representative of the wine domain, then use those embeddings to fit a LTSM classification model. I also will plan on implementing a more simple, baseline model such as an SVM. "
      ]
    },
    {
      "metadata": {
        "id": "nwCkUsrR5YV_",
        "colab_type": "code",
        "colab": {}
      },
      "cell_type": "code",
      "source": [
        ""
      ],
      "execution_count": 0,
      "outputs": []
    },
    {
      "metadata": {
        "id": "ESaLvEbD5YWC",
        "colab_type": "text"
      },
      "cell_type": "markdown",
      "source": [
        "#### Prep"
      ]
    },
    {
      "metadata": {
        "id": "8j-yN72_5YWC",
        "colab_type": "code",
        "colab": {}
      },
      "cell_type": "code",
      "source": [
        "# set working directory\n",
        "import os\n",
        "import sys\n",
        "project_root = '/Users/kgedney/Documents/georgetown/anly580/anly580-wine-project'\n",
        "os.chdir(project_root)"
      ],
      "execution_count": 0,
      "outputs": []
    },
    {
      "metadata": {
        "id": "PXaO7Cyw5YWH",
        "colab_type": "code",
        "colab": {}
      },
      "cell_type": "code",
      "source": [
        "# install packages\n",
        "import numpy as np\n",
        "import pandas as pd\n",
        "\n",
        "\n",
        "from sklearn import metrics\n",
        "from sklearn.model_selection import train_test_split\n",
        "from sklearn.feature_extraction.text import CountVectorizer, TfidfVectorizer"
      ],
      "execution_count": 0,
      "outputs": []
    },
    {
      "metadata": {
        "id": "4h4T14wU5YWK",
        "colab_type": "code",
        "colab": {}
      },
      "cell_type": "code",
      "source": [
        "# kaggle load data \n",
        "# ref: https://www.kaggle.com/zynicide/wine-reviews#winemag-data_first150k.csv\n",
        "df_full = pd.read_csv('data/winemag-data_first150k.csv', encoding='utf8')"
      ],
      "execution_count": 0,
      "outputs": []
    },
    {
      "metadata": {
        "id": "kgdoQ1t95YWL",
        "colab_type": "code",
        "colab": {},
        "outputId": "d993630c-e237-4b83-a40d-080bdb0f3c5d"
      },
      "cell_type": "code",
      "source": [
        "df_full.columns"
      ],
      "execution_count": 0,
      "outputs": [
        {
          "output_type": "execute_result",
          "data": {
            "text/plain": [
              "Index(['Unnamed: 0', 'country', 'description', 'designation', 'points',\n",
              "       'price', 'province', 'region_1', 'region_2', 'variety', 'winery'],\n",
              "      dtype='object')"
            ]
          },
          "metadata": {
            "tags": []
          },
          "execution_count": 81
        }
      ]
    },
    {
      "metadata": {
        "id": "SXfF_Kjg52kx",
        "colab_type": "text"
      },
      "cell_type": "markdown",
      "source": [
        "#### Google Colab Prep"
      ]
    },
    {
      "metadata": {
        "id": "JPTGVwPV6KSx",
        "colab_type": "code",
        "colab": {}
      },
      "cell_type": "code",
      "source": [
        "# install packages\n",
        "import numpy as np\n",
        "import pandas as pd\n",
        "\n",
        "\n",
        "from sklearn import metrics\n",
        "from sklearn.model_selection import train_test_split\n",
        "from sklearn.feature_extraction.text import CountVectorizer, TfidfVectorizer"
      ],
      "execution_count": 0,
      "outputs": []
    },
    {
      "metadata": {
        "id": "WhQbk3r654-b",
        "colab_type": "code",
        "colab": {
          "base_uri": "https://localhost:8080/",
          "height": 122
        },
        "outputId": "1037fc33-3cf3-47e4-9fcc-6655d30defcc"
      },
      "cell_type": "code",
      "source": [
        "# get data from Google drive\n",
        "from google.colab import drive\n",
        "drive.mount('/content/gdrive')"
      ],
      "execution_count": 1,
      "outputs": [
        {
          "output_type": "stream",
          "text": [
            "Go to this URL in a browser: https://accounts.google.com/o/oauth2/auth?client_id=947318989803-6bn6qk8qdgf4n4g3pfee6491hc0brc4i.apps.googleusercontent.com&redirect_uri=urn%3Aietf%3Awg%3Aoauth%3A2.0%3Aoob&scope=email%20https%3A%2F%2Fwww.googleapis.com%2Fauth%2Fdocs.test%20https%3A%2F%2Fwww.googleapis.com%2Fauth%2Fdrive%20https%3A%2F%2Fwww.googleapis.com%2Fauth%2Fdrive.photos.readonly%20https%3A%2F%2Fwww.googleapis.com%2Fauth%2Fpeopleapi.readonly&response_type=code\n",
            "\n",
            "Enter your authorization code:\n",
            "··········\n",
            "Mounted at /content/gdrive\n"
          ],
          "name": "stdout"
        }
      ]
    },
    {
      "metadata": {
        "id": "YriGqz6k55BU",
        "colab_type": "code",
        "colab": {
          "base_uri": "https://localhost:8080/",
          "height": 530
        },
        "outputId": "0beb7183-191e-4fc5-9d38-5ea55bb9fd32"
      },
      "cell_type": "code",
      "source": [
        "# manually add file from local to drive\n",
        "df_full = pd.read_csv('winemag-data_first150k.csv', encoding='utf8')\n",
        "df_full.head()"
      ],
      "execution_count": 7,
      "outputs": [
        {
          "output_type": "execute_result",
          "data": {
            "text/html": [
              "<div>\n",
              "<style scoped>\n",
              "    .dataframe tbody tr th:only-of-type {\n",
              "        vertical-align: middle;\n",
              "    }\n",
              "\n",
              "    .dataframe tbody tr th {\n",
              "        vertical-align: top;\n",
              "    }\n",
              "\n",
              "    .dataframe thead th {\n",
              "        text-align: right;\n",
              "    }\n",
              "</style>\n",
              "<table border=\"1\" class=\"dataframe\">\n",
              "  <thead>\n",
              "    <tr style=\"text-align: right;\">\n",
              "      <th></th>\n",
              "      <th>Unnamed: 0</th>\n",
              "      <th>country</th>\n",
              "      <th>description</th>\n",
              "      <th>designation</th>\n",
              "      <th>points</th>\n",
              "      <th>price</th>\n",
              "      <th>province</th>\n",
              "      <th>region_1</th>\n",
              "      <th>region_2</th>\n",
              "      <th>variety</th>\n",
              "      <th>winery</th>\n",
              "    </tr>\n",
              "  </thead>\n",
              "  <tbody>\n",
              "    <tr>\n",
              "      <th>0</th>\n",
              "      <td>0</td>\n",
              "      <td>US</td>\n",
              "      <td>This tremendous 100% varietal wine hails from ...</td>\n",
              "      <td>Martha's Vineyard</td>\n",
              "      <td>96</td>\n",
              "      <td>235.0</td>\n",
              "      <td>California</td>\n",
              "      <td>Napa Valley</td>\n",
              "      <td>Napa</td>\n",
              "      <td>Cabernet Sauvignon</td>\n",
              "      <td>Heitz</td>\n",
              "    </tr>\n",
              "    <tr>\n",
              "      <th>1</th>\n",
              "      <td>1</td>\n",
              "      <td>Spain</td>\n",
              "      <td>Ripe aromas of fig, blackberry and cassis are ...</td>\n",
              "      <td>Carodorum Selección Especial Reserva</td>\n",
              "      <td>96</td>\n",
              "      <td>110.0</td>\n",
              "      <td>Northern Spain</td>\n",
              "      <td>Toro</td>\n",
              "      <td>NaN</td>\n",
              "      <td>Tinta de Toro</td>\n",
              "      <td>Bodega Carmen Rodríguez</td>\n",
              "    </tr>\n",
              "    <tr>\n",
              "      <th>2</th>\n",
              "      <td>2</td>\n",
              "      <td>US</td>\n",
              "      <td>Mac Watson honors the memory of a wine once ma...</td>\n",
              "      <td>Special Selected Late Harvest</td>\n",
              "      <td>96</td>\n",
              "      <td>90.0</td>\n",
              "      <td>California</td>\n",
              "      <td>Knights Valley</td>\n",
              "      <td>Sonoma</td>\n",
              "      <td>Sauvignon Blanc</td>\n",
              "      <td>Macauley</td>\n",
              "    </tr>\n",
              "    <tr>\n",
              "      <th>3</th>\n",
              "      <td>3</td>\n",
              "      <td>US</td>\n",
              "      <td>This spent 20 months in 30% new French oak, an...</td>\n",
              "      <td>Reserve</td>\n",
              "      <td>96</td>\n",
              "      <td>65.0</td>\n",
              "      <td>Oregon</td>\n",
              "      <td>Willamette Valley</td>\n",
              "      <td>Willamette Valley</td>\n",
              "      <td>Pinot Noir</td>\n",
              "      <td>Ponzi</td>\n",
              "    </tr>\n",
              "    <tr>\n",
              "      <th>4</th>\n",
              "      <td>4</td>\n",
              "      <td>France</td>\n",
              "      <td>This is the top wine from La Bégude, named aft...</td>\n",
              "      <td>La Brûlade</td>\n",
              "      <td>95</td>\n",
              "      <td>66.0</td>\n",
              "      <td>Provence</td>\n",
              "      <td>Bandol</td>\n",
              "      <td>NaN</td>\n",
              "      <td>Provence red blend</td>\n",
              "      <td>Domaine de la Bégude</td>\n",
              "    </tr>\n",
              "  </tbody>\n",
              "</table>\n",
              "</div>"
            ],
            "text/plain": [
              "   Unnamed: 0 country                                        description  \\\n",
              "0           0      US  This tremendous 100% varietal wine hails from ...   \n",
              "1           1   Spain  Ripe aromas of fig, blackberry and cassis are ...   \n",
              "2           2      US  Mac Watson honors the memory of a wine once ma...   \n",
              "3           3      US  This spent 20 months in 30% new French oak, an...   \n",
              "4           4  France  This is the top wine from La Bégude, named aft...   \n",
              "\n",
              "                            designation  points  price        province  \\\n",
              "0                     Martha's Vineyard      96  235.0      California   \n",
              "1  Carodorum Selección Especial Reserva      96  110.0  Northern Spain   \n",
              "2         Special Selected Late Harvest      96   90.0      California   \n",
              "3                               Reserve      96   65.0          Oregon   \n",
              "4                            La Brûlade      95   66.0        Provence   \n",
              "\n",
              "            region_1           region_2             variety  \\\n",
              "0        Napa Valley               Napa  Cabernet Sauvignon   \n",
              "1               Toro                NaN       Tinta de Toro   \n",
              "2     Knights Valley             Sonoma     Sauvignon Blanc   \n",
              "3  Willamette Valley  Willamette Valley          Pinot Noir   \n",
              "4             Bandol                NaN  Provence red blend   \n",
              "\n",
              "                    winery  \n",
              "0                    Heitz  \n",
              "1  Bodega Carmen Rodríguez  \n",
              "2                 Macauley  \n",
              "3                    Ponzi  \n",
              "4     Domaine de la Bégude  "
            ]
          },
          "metadata": {
            "tags": []
          },
          "execution_count": 7
        }
      ]
    },
    {
      "metadata": {
        "id": "Wp8CzUeO55D6",
        "colab_type": "code",
        "colab": {}
      },
      "cell_type": "code",
      "source": [
        ""
      ],
      "execution_count": 0,
      "outputs": []
    },
    {
      "metadata": {
        "id": "zL0qZWEE5YWQ",
        "colab_type": "text"
      },
      "cell_type": "markdown",
      "source": [
        "#### Define Classes"
      ]
    },
    {
      "metadata": {
        "id": "WQ_EZ8QL5YWR",
        "colab_type": "code",
        "colab": {
          "base_uri": "https://localhost:8080/",
          "height": 34
        },
        "outputId": "09d84bb1-2ac9-4a25-d3de-fe744585b94f"
      },
      "cell_type": "code",
      "source": [
        "# select wines with over 1050 tasting notes (to make an even 30 varities)\n",
        "variety_counts = pd.DataFrame(df_full['variety'].value_counts())\n",
        "varieties      = list(variety_counts.index[variety_counts['variety'] > 1050])\n",
        "len(varieties)"
      ],
      "execution_count": 8,
      "outputs": [
        {
          "output_type": "execute_result",
          "data": {
            "text/plain": [
              "30"
            ]
          },
          "metadata": {
            "tags": []
          },
          "execution_count": 8
        }
      ]
    },
    {
      "metadata": {
        "id": "EikPaJjW5YWU",
        "colab_type": "code",
        "colab": {}
      },
      "cell_type": "code",
      "source": [
        "df = df_full[df_full['variety'].isin(varieties)]"
      ],
      "execution_count": 0,
      "outputs": []
    },
    {
      "metadata": {
        "id": "_uma7LO15YWW",
        "colab_type": "code",
        "colab": {
          "base_uri": "https://localhost:8080/",
          "height": 544
        },
        "outputId": "c2f6ed4c-e53b-494e-d12c-31638187974e"
      },
      "cell_type": "code",
      "source": [
        "df.variety.value_counts()"
      ],
      "execution_count": 10,
      "outputs": [
        {
          "output_type": "execute_result",
          "data": {
            "text/plain": [
              "Chardonnay                       14482\n",
              "Pinot Noir                       14291\n",
              "Cabernet Sauvignon               12800\n",
              "Red Blend                        10062\n",
              "Bordeaux-style Red Blend          7347\n",
              "Sauvignon Blanc                   6320\n",
              "Syrah                             5825\n",
              "Riesling                          5524\n",
              "Merlot                            5070\n",
              "Zinfandel                         3799\n",
              "Sangiovese                        3345\n",
              "Malbec                            3208\n",
              "White Blend                       2824\n",
              "Rosé                              2817\n",
              "Tempranillo                       2556\n",
              "Nebbiolo                          2241\n",
              "Portuguese Red                    2216\n",
              "Sparkling Blend                   2004\n",
              "Shiraz                            1970\n",
              "Corvina, Rondinella, Molinara     1682\n",
              "Rhône-style Red Blend             1505\n",
              "Barbera                           1365\n",
              "Pinot Gris                        1365\n",
              "Cabernet Franc                    1363\n",
              "Sangiovese Grosso                 1346\n",
              "Pinot Grigio                      1305\n",
              "Viognier                          1263\n",
              "Bordeaux-style White Blend        1261\n",
              "Champagne Blend                   1238\n",
              "Port                              1058\n",
              "Name: variety, dtype: int64"
            ]
          },
          "metadata": {
            "tags": []
          },
          "execution_count": 10
        }
      ]
    },
    {
      "metadata": {
        "id": "TsmDSzBB5YWZ",
        "colab_type": "code",
        "colab": {
          "base_uri": "https://localhost:8080/",
          "height": 139
        },
        "outputId": "f36e255f-78d5-4e71-ca9f-0383e1163876"
      },
      "cell_type": "code",
      "source": [
        "# map classes to integers\n",
        "df['variety_code'] = pd.Categorical(df.variety).codes"
      ],
      "execution_count": 11,
      "outputs": [
        {
          "output_type": "stream",
          "text": [
            "/usr/local/lib/python3.6/dist-packages/ipykernel_launcher.py:1: SettingWithCopyWarning: \n",
            "A value is trying to be set on a copy of a slice from a DataFrame.\n",
            "Try using .loc[row_indexer,col_indexer] = value instead\n",
            "\n",
            "See the caveats in the documentation: http://pandas.pydata.org/pandas-docs/stable/indexing.html#indexing-view-versus-copy\n",
            "  \"\"\"Entry point for launching an IPython kernel.\n"
          ],
          "name": "stderr"
        }
      ]
    },
    {
      "metadata": {
        "id": "GFyRpBzo5YWb",
        "colab_type": "code",
        "colab": {}
      },
      "cell_type": "code",
      "source": [
        "# set classes\n",
        "x = df.description.values\n",
        "y = df.variety_code.values"
      ],
      "execution_count": 0,
      "outputs": []
    },
    {
      "metadata": {
        "id": "qDcMXThl5YWe",
        "colab_type": "code",
        "colab": {}
      },
      "cell_type": "code",
      "source": [
        "# split test and train\n",
        "x_train, x_test, y_train, y_test = train_test_split(x, y, test_size=0.2, random_state=522)"
      ],
      "execution_count": 0,
      "outputs": []
    },
    {
      "metadata": {
        "id": "Kcgu9sP45YWg",
        "colab_type": "text"
      },
      "cell_type": "markdown",
      "source": [
        "#### Baseline: Linear SVM"
      ]
    },
    {
      "metadata": {
        "id": "a-Ct-AsL5YWg",
        "colab_type": "code",
        "colab": {},
        "outputId": "1ee35b34-372d-4c9a-bec8-4859c8c9dc6d"
      },
      "cell_type": "code",
      "source": [
        "# majority class prediction\n",
        "np.mean(y_test == 6)"
      ],
      "execution_count": 0,
      "outputs": [
        {
          "output_type": "execute_result",
          "data": {
            "text/plain": [
              "0.11562917662306103"
            ]
          },
          "metadata": {
            "tags": []
          },
          "execution_count": 51
        }
      ]
    },
    {
      "metadata": {
        "id": "8I6Iwosn5YWk",
        "colab_type": "code",
        "colab": {},
        "outputId": "c8e0f0ac-ad28-414f-9a99-bc38ba802aac"
      },
      "cell_type": "code",
      "source": [
        "# data preprocess\n",
        "tfidf_vec   = TfidfVectorizer()\n",
        "x_train_vec = tfidf_vec.fit_transform(x_train)\n",
        "x_test_vec  = tfidf_vec.transform(x_test)\n",
        "x_train_vec.shape"
      ],
      "execution_count": 0,
      "outputs": [
        {
          "output_type": "stream",
          "text": [
            "/Users/kgedney/anaconda/lib/python3.6/site-packages/sklearn/feature_extraction/text.py:1059: FutureWarning: Conversion of the second argument of issubdtype from `float` to `np.floating` is deprecated. In future, it will be treated as `np.float64 == np.dtype(float).type`.\n",
            "  if hasattr(X, 'dtype') and np.issubdtype(X.dtype, np.float):\n"
          ],
          "name": "stderr"
        },
        {
          "output_type": "execute_result",
          "data": {
            "text/plain": [
              "(98761, 26413)"
            ]
          },
          "metadata": {
            "tags": []
          },
          "execution_count": 44
        }
      ]
    },
    {
      "metadata": {
        "id": "SIzGl6yr5YWo",
        "colab_type": "code",
        "colab": {},
        "outputId": "521ddf29-1073-408f-e1b1-bafba63224d9"
      },
      "cell_type": "code",
      "source": [
        "# fit model\n",
        "from sklearn.svm import LinearSVC\n",
        "clf             = LinearSVC().fit(x_train_vec, y_train)\n",
        "predicted       = clf.predict(x_test_vec)\n",
        "predicted_score = clf.decision_function(x_test_vec)\n",
        "print('accuracy', metrics.accuracy_score(y_test, predicted))"
      ],
      "execution_count": 0,
      "outputs": [
        {
          "output_type": "stream",
          "text": [
            "accuracy 0.8066906970151068\n"
          ],
          "name": "stdout"
        }
      ]
    },
    {
      "metadata": {
        "id": "WVZ6oq3m5YWs",
        "colab_type": "code",
        "colab": {},
        "outputId": "62afa088-8a43-4330-9c51-9272470d59d0"
      },
      "cell_type": "code",
      "source": [
        "# grid search on C\n",
        "def fit_svc(C=1):\n",
        "    clf             = LinearSVC(C=C).fit(x_train_vec, y_train)\n",
        "    predicted       = clf.predict(x_test_vec)\n",
        "    predicted_score = clf.decision_function(x_test_vec)\n",
        "    return metrics.accuracy_score(y_test, predicted)\n",
        "\n",
        "for C in [0.1, 0.5, 1, 2, 4, 8]:\n",
        "    print(fit_svc(C=C))\n"
      ],
      "execution_count": 0,
      "outputs": [
        {
          "output_type": "stream",
          "text": [
            "0.7500708760277024\n",
            "0.7957150378680491\n",
            "0.8066906970151068\n",
            "0.8143048074197076\n",
            "0.8170183467660281\n",
            "0.8142238062451905\n"
          ],
          "name": "stdout"
        }
      ]
    },
    {
      "metadata": {
        "id": "0rPb-8xZ5YWv",
        "colab_type": "text"
      },
      "cell_type": "markdown",
      "source": [
        "#### Preprocess Data for Keras Models"
      ]
    },
    {
      "metadata": {
        "id": "r_5PEhu75YWv",
        "colab_type": "code",
        "colab": {}
      },
      "cell_type": "code",
      "source": [
        "import keras\n",
        "from keras import optimizers\n",
        "import tensorflow as tf\n",
        "\n",
        "from keras.utils import np_utils\n",
        "from keras.preprocessing import sequence\n",
        "from keras.preprocessing.text import Tokenizer\n",
        "\n",
        "from keras.models import Model, Sequential\n",
        "from keras.layers import Input, Dense, CuDNNLSTM, LSTM, Embedding, Bidirectional, GlobalAveragePooling1D, Conv1D, Activation, Flatten, Dropout, MaxPooling1D, Embedding, GlobalMaxPooling1D\n",
        "\n",
        "from keras.layers.core import Dense, Dropout"
      ],
      "execution_count": 0,
      "outputs": []
    },
    {
      "metadata": {
        "id": "84a3busx5YWx",
        "colab_type": "code",
        "colab": {
          "base_uri": "https://localhost:8080/",
          "height": 34
        },
        "outputId": "88772b64-1796-48cf-de41-97aa7e440e87"
      },
      "cell_type": "code",
      "source": [
        "# data preprocess\n",
        "x = df.description.values\n",
        "y = df.variety_code.values\n",
        "\n",
        "# create sequences\n",
        "max_features = 25000\n",
        "tokenizer    = Tokenizer(num_words = max_features)\n",
        "tokenizer.fit_on_texts(x)\n",
        "x_sequences  = tokenizer.texts_to_sequences(x)\n",
        "\n",
        "# pad each sequence to be max length\n",
        "maxlen = max(len(x) for x in x_sequences)\n",
        "print(maxlen)\n",
        "x_sequences = sequence.pad_sequences(x_sequences, maxlen)"
      ],
      "execution_count": 15,
      "outputs": [
        {
          "output_type": "stream",
          "text": [
            "136\n"
          ],
          "name": "stdout"
        }
      ]
    },
    {
      "metadata": {
        "id": "gZOYUkni5YW0",
        "colab_type": "code",
        "colab": {}
      },
      "cell_type": "code",
      "source": [
        "# split test and train\n",
        "x_train, x_test, y_train, y_test = train_test_split(x_sequences, y, test_size=0.20, random_state=22)"
      ],
      "execution_count": 0,
      "outputs": []
    },
    {
      "metadata": {
        "id": "0uaLe4TK5YW2",
        "colab_type": "text"
      },
      "cell_type": "markdown",
      "source": [
        "#### 1. Simple Model"
      ]
    },
    {
      "metadata": {
        "id": "0MkWeNw45YW4",
        "colab_type": "code",
        "colab": {}
      },
      "cell_type": "code",
      "source": [
        "model1 = Sequential()\n",
        "model1.add(Embedding(input_dim=max_features,\n",
        "                    output_dim=256))\n",
        "\n",
        "# we add a GlobalAveragePooling1D, which will average the embeddings\n",
        "# of all words in the document\n",
        "model1.add(GlobalAveragePooling1D())\n",
        "model1.add(Dropout(0.5))\n",
        "\n",
        "model1.add(Dense(100, activation=\"softmax\"))"
      ],
      "execution_count": 0,
      "outputs": []
    },
    {
      "metadata": {
        "id": "nvRsfCDD5YW6",
        "colab_type": "code",
        "colab": {}
      },
      "cell_type": "code",
      "source": [
        "opt = keras.optimizers.Adam(lr=0.01) # speed up optimization\n",
        "model1.compile(optimizer=opt, loss=\"sparse_categorical_crossentropy\", metrics=[\"acc\"])"
      ],
      "execution_count": 0,
      "outputs": []
    },
    {
      "metadata": {
        "id": "gAqAdW-g5YW9",
        "colab_type": "code",
        "colab": {
          "base_uri": "https://localhost:8080/",
          "height": 666
        },
        "outputId": "2ab614d0-8711-472e-c385-cb6f5ab510b6"
      },
      "cell_type": "code",
      "source": [
        "history1 = model1.fit(x_train, y_train,\n",
        "            batch_size=512,\n",
        "            epochs=18,\n",
        "            validation_data=(x_test, y_test))"
      ],
      "execution_count": 29,
      "outputs": [
        {
          "output_type": "stream",
          "text": [
            "Train on 98761 samples, validate on 24691 samples\n",
            "Epoch 1/18\n",
            "98761/98761 [==============================] - 4s 42us/step - loss: 2.3973 - acc: 0.3500 - val_loss: 1.5000 - val_acc: 0.5619\n",
            "Epoch 2/18\n",
            "98761/98761 [==============================] - 4s 37us/step - loss: 1.2228 - acc: 0.6442 - val_loss: 1.0088 - val_acc: 0.7044\n",
            "Epoch 3/18\n",
            "98761/98761 [==============================] - 4s 37us/step - loss: 0.8892 - acc: 0.7392 - val_loss: 0.8584 - val_acc: 0.7437\n",
            "Epoch 4/18\n",
            "98761/98761 [==============================] - 4s 37us/step - loss: 0.7388 - acc: 0.7823 - val_loss: 0.7914 - val_acc: 0.7643\n",
            "Epoch 5/18\n",
            "98761/98761 [==============================] - 4s 37us/step - loss: 0.6371 - acc: 0.8123 - val_loss: 0.7583 - val_acc: 0.7742\n",
            "Epoch 6/18\n",
            "98761/98761 [==============================] - 4s 37us/step - loss: 0.5582 - acc: 0.8364 - val_loss: 0.7206 - val_acc: 0.7875\n",
            "Epoch 7/18\n",
            "98761/98761 [==============================] - 4s 36us/step - loss: 0.4981 - acc: 0.8543 - val_loss: 0.6996 - val_acc: 0.7968\n",
            "Epoch 8/18\n",
            "98761/98761 [==============================] - 4s 36us/step - loss: 0.4487 - acc: 0.8694 - val_loss: 0.6995 - val_acc: 0.7981\n",
            "Epoch 9/18\n",
            "98761/98761 [==============================] - 4s 36us/step - loss: 0.4067 - acc: 0.8812 - val_loss: 0.6830 - val_acc: 0.8056\n",
            "Epoch 10/18\n",
            "98761/98761 [==============================] - 4s 36us/step - loss: 0.3719 - acc: 0.8919 - val_loss: 0.6850 - val_acc: 0.8116\n",
            "Epoch 11/18\n",
            "98761/98761 [==============================] - 4s 36us/step - loss: 0.3418 - acc: 0.8990 - val_loss: 0.6837 - val_acc: 0.8148\n",
            "Epoch 12/18\n",
            "98761/98761 [==============================] - 4s 36us/step - loss: 0.3188 - acc: 0.9059 - val_loss: 0.6901 - val_acc: 0.8172\n",
            "Epoch 13/18\n",
            "98761/98761 [==============================] - 4s 36us/step - loss: 0.2951 - acc: 0.9141 - val_loss: 0.7031 - val_acc: 0.8199\n",
            "Epoch 14/18\n",
            "98761/98761 [==============================] - 4s 36us/step - loss: 0.2782 - acc: 0.9186 - val_loss: 0.7097 - val_acc: 0.8181\n",
            "Epoch 15/18\n",
            "98761/98761 [==============================] - 4s 36us/step - loss: 0.2581 - acc: 0.9233 - val_loss: 0.7247 - val_acc: 0.8201\n",
            "Epoch 16/18\n",
            "98761/98761 [==============================] - 4s 36us/step - loss: 0.2457 - acc: 0.9277 - val_loss: 0.7332 - val_acc: 0.8223\n",
            "Epoch 17/18\n",
            "98761/98761 [==============================] - 4s 36us/step - loss: 0.2338 - acc: 0.9310 - val_loss: 0.7588 - val_acc: 0.8203\n",
            "Epoch 18/18\n",
            "98761/98761 [==============================] - 4s 36us/step - loss: 0.2214 - acc: 0.9333 - val_loss: 0.7639 - val_acc: 0.8245\n"
          ],
          "name": "stdout"
        }
      ]
    },
    {
      "metadata": {
        "id": "GyiNfL5P5YW_",
        "colab_type": "code",
        "colab": {
          "base_uri": "https://localhost:8080/",
          "height": 51
        },
        "outputId": "95ed2fd5-9ec6-432c-c573-eb63b162efe2"
      },
      "cell_type": "code",
      "source": [
        "print('accuracy', model1.evaluate(x_test, y_test)[1])"
      ],
      "execution_count": 31,
      "outputs": [
        {
          "output_type": "stream",
          "text": [
            "24691/24691 [==============================] - 1s 57us/step\n",
            "accuracy 0.8244704548433212\n"
          ],
          "name": "stdout"
        }
      ]
    },
    {
      "metadata": {
        "id": "gUYdY-J75YXC",
        "colab_type": "code",
        "colab": {
          "base_uri": "https://localhost:8080/",
          "height": 51
        },
        "outputId": "400cbf80-a195-43c6-93ac-524ccd544a5c"
      },
      "cell_type": "code",
      "source": [
        "print('train accuracy', model1.evaluate(x_train, y_train)[1])"
      ],
      "execution_count": 32,
      "outputs": [
        {
          "output_type": "stream",
          "text": [
            "98761/98761 [==============================] - 6s 56us/step\n",
            "train accuracy 0.9617460333538502\n"
          ],
          "name": "stdout"
        }
      ]
    },
    {
      "metadata": {
        "id": "BBghZiiK5YXE",
        "colab_type": "code",
        "colab": {}
      },
      "cell_type": "code",
      "source": [
        ""
      ],
      "execution_count": 0,
      "outputs": []
    },
    {
      "metadata": {
        "id": "QB2eXK125YXG",
        "colab_type": "text"
      },
      "cell_type": "markdown",
      "source": [
        "#### 2. LSTM"
      ]
    },
    {
      "metadata": {
        "id": "le5sEc_L5YXG",
        "colab_type": "code",
        "colab": {}
      },
      "cell_type": "code",
      "source": [
        "# ref: https://keras.io/layers/recurrent/#cudnnlstm\n",
        "# faster LSTM implementation\n",
        "\n",
        "model2 = Sequential()\n",
        "model2.add(Embedding(input_dim=max_features,\n",
        "                     output_dim=128))\n",
        "model2.add(CuDNNLSTM(128))\n",
        "model2.add(Dropout(0.5))\n",
        "model2.add(Dense(100, activation=\"softmax\"))\n",
        "\n",
        "model2.compile(optimizer=\"adam\", loss=\"sparse_categorical_crossentropy\", metrics=[\"acc\"])"
      ],
      "execution_count": 0,
      "outputs": []
    },
    {
      "metadata": {
        "id": "BvuAZMX45YXJ",
        "colab_type": "code",
        "colab": {}
      },
      "cell_type": "code",
      "source": [
        "opt = keras.optimizers.Adam(lr=0.01) # speed up optimization\n",
        "model2.compile(optimizer=opt, loss=\"sparse_categorical_crossentropy\", metrics=[\"acc\"])"
      ],
      "execution_count": 0,
      "outputs": []
    },
    {
      "metadata": {
        "id": "PIzj8eQT5YXM",
        "colab_type": "code",
        "colab": {
          "base_uri": "https://localhost:8080/",
          "height": 598
        },
        "outputId": "094fe123-4a19-4d2f-fffd-6e27372f39ca"
      },
      "cell_type": "code",
      "source": [
        "history2 = model2.fit(x_train, y_train,\n",
        "            batch_size=512,\n",
        "            epochs=16,\n",
        "            validation_data=(x_test, y_test))"
      ],
      "execution_count": 44,
      "outputs": [
        {
          "output_type": "stream",
          "text": [
            "Train on 98761 samples, validate on 24691 samples\n",
            "Epoch 1/16\n",
            "98761/98761 [==============================] - 16s 158us/step - loss: 2.4456 - acc: 0.2941 - val_loss: 1.4972 - val_acc: 0.5468\n",
            "Epoch 2/16\n",
            "98761/98761 [==============================] - 15s 150us/step - loss: 1.2121 - acc: 0.6418 - val_loss: 0.9497 - val_acc: 0.7169\n",
            "Epoch 3/16\n",
            "98761/98761 [==============================] - 15s 149us/step - loss: 0.8531 - acc: 0.7501 - val_loss: 0.8561 - val_acc: 0.7483\n",
            "Epoch 4/16\n",
            "98761/98761 [==============================] - 15s 150us/step - loss: 0.6800 - acc: 0.7982 - val_loss: 0.8172 - val_acc: 0.7657\n",
            "Epoch 5/16\n",
            "98761/98761 [==============================] - 15s 150us/step - loss: 0.5685 - acc: 0.8304 - val_loss: 0.8123 - val_acc: 0.7815\n",
            "Epoch 6/16\n",
            "98761/98761 [==============================] - 15s 150us/step - loss: 0.4869 - acc: 0.8560 - val_loss: 0.8212 - val_acc: 0.7884\n",
            "Epoch 7/16\n",
            "98761/98761 [==============================] - 15s 149us/step - loss: 0.4279 - acc: 0.8734 - val_loss: 0.8400 - val_acc: 0.7910\n",
            "Epoch 8/16\n",
            "98761/98761 [==============================] - 15s 149us/step - loss: 0.3899 - acc: 0.8832 - val_loss: 0.8784 - val_acc: 0.7913\n",
            "Epoch 9/16\n",
            "98761/98761 [==============================] - 15s 149us/step - loss: 0.3609 - acc: 0.8922 - val_loss: 0.8804 - val_acc: 0.7983\n",
            "Epoch 10/16\n",
            "98761/98761 [==============================] - 15s 150us/step - loss: 0.3343 - acc: 0.9009 - val_loss: 0.9002 - val_acc: 0.7975\n",
            "Epoch 11/16\n",
            "98761/98761 [==============================] - 15s 149us/step - loss: 0.3229 - acc: 0.9032 - val_loss: 0.9361 - val_acc: 0.7976\n",
            "Epoch 12/16\n",
            "98761/98761 [==============================] - 15s 150us/step - loss: 0.3040 - acc: 0.9089 - val_loss: 0.9342 - val_acc: 0.7977\n",
            "Epoch 13/16\n",
            "98761/98761 [==============================] - 15s 149us/step - loss: 0.2931 - acc: 0.9118 - val_loss: 0.9645 - val_acc: 0.8018\n",
            "Epoch 14/16\n",
            "98761/98761 [==============================] - 15s 150us/step - loss: 0.2818 - acc: 0.9159 - val_loss: 0.9670 - val_acc: 0.8013\n",
            "Epoch 15/16\n",
            "98761/98761 [==============================] - 15s 150us/step - loss: 0.2774 - acc: 0.9171 - val_loss: 0.9621 - val_acc: 0.7994\n",
            "Epoch 16/16\n",
            "98761/98761 [==============================] - 15s 152us/step - loss: 0.2692 - acc: 0.9184 - val_loss: 0.9833 - val_acc: 0.8064\n"
          ],
          "name": "stdout"
        }
      ]
    },
    {
      "metadata": {
        "id": "jM0tI56s5YXS",
        "colab_type": "code",
        "colab": {
          "base_uri": "https://localhost:8080/",
          "height": 51
        },
        "outputId": "3120a769-11bc-40ee-8a33-159f9067f289"
      },
      "cell_type": "code",
      "source": [
        "print('accuracy', model2.evaluate(x_test, y_test)[1])"
      ],
      "execution_count": 45,
      "outputs": [
        {
          "output_type": "stream",
          "text": [
            "24691/24691 [==============================] - 9s 380us/step\n",
            "accuracy 0.8064476934843136\n"
          ],
          "name": "stdout"
        }
      ]
    },
    {
      "metadata": {
        "id": "E7VZGLF45YXU",
        "colab_type": "code",
        "colab": {}
      },
      "cell_type": "code",
      "source": [
        ""
      ],
      "execution_count": 0,
      "outputs": []
    },
    {
      "metadata": {
        "id": "iAfZtqp_5YXW",
        "colab_type": "code",
        "colab": {}
      },
      "cell_type": "code",
      "source": [
        ""
      ],
      "execution_count": 0,
      "outputs": []
    },
    {
      "metadata": {
        "id": "PGZb0_fOCtFy",
        "colab_type": "text"
      },
      "cell_type": "markdown",
      "source": [
        "#### 3. Bidirectional LSTM"
      ]
    },
    {
      "metadata": {
        "id": "tmhmapAuCuT-",
        "colab_type": "code",
        "colab": {}
      },
      "cell_type": "code",
      "source": [
        "model3 = Sequential()\n",
        "model3.add(Embedding(input_dim=max_features,\n",
        "                     output_dim=128))\n",
        "model3.add(Bidirectional(CuDNNLSTM(128)))\n",
        "model3.add(Dropout(0.5))\n",
        "model3.add(Dense(100, activation=\"softmax\"))\n",
        "\n",
        "model3.compile(optimizer=\"adam\", loss=\"sparse_categorical_crossentropy\", metrics=[\"acc\"])"
      ],
      "execution_count": 0,
      "outputs": []
    },
    {
      "metadata": {
        "id": "d_ir_RxYCuWf",
        "colab_type": "code",
        "colab": {}
      },
      "cell_type": "code",
      "source": [
        "opt = keras.optimizers.Adam(lr=0.01) # speed up optimization\n",
        "model3.compile(optimizer=opt, loss=\"sparse_categorical_crossentropy\", metrics=[\"acc\"])"
      ],
      "execution_count": 0,
      "outputs": []
    },
    {
      "metadata": {
        "id": "Whjxkmj8CuZK",
        "colab_type": "code",
        "colab": {
          "base_uri": "https://localhost:8080/",
          "height": 734
        },
        "outputId": "12f433bf-9ff0-4c6c-a283-7537fb4ec0cf"
      },
      "cell_type": "code",
      "source": [
        "history3 = model3.fit(x_train, y_train,\n",
        "            batch_size=512,\n",
        "            epochs=20,\n",
        "            validation_data=(x_test, y_test))"
      ],
      "execution_count": 52,
      "outputs": [
        {
          "output_type": "stream",
          "text": [
            "Train on 98761 samples, validate on 24691 samples\n",
            "Epoch 1/20\n",
            "98761/98761 [==============================] - 29s 296us/step - loss: 2.2821 - acc: 0.3401 - val_loss: 1.2230 - val_acc: 0.6307\n",
            "Epoch 2/20\n",
            "98761/98761 [==============================] - 28s 282us/step - loss: 1.0640 - acc: 0.6843 - val_loss: 0.8841 - val_acc: 0.7335\n",
            "Epoch 3/20\n",
            "98761/98761 [==============================] - 28s 282us/step - loss: 0.7778 - acc: 0.7721 - val_loss: 0.8180 - val_acc: 0.7609\n",
            "Epoch 4/20\n",
            "98761/98761 [==============================] - 28s 282us/step - loss: 0.6127 - acc: 0.8196 - val_loss: 0.7905 - val_acc: 0.7757\n",
            "Epoch 5/20\n",
            "98761/98761 [==============================] - 28s 284us/step - loss: 0.5099 - acc: 0.8495 - val_loss: 0.7899 - val_acc: 0.7881\n",
            "Epoch 6/20\n",
            "98761/98761 [==============================] - 28s 283us/step - loss: 0.4372 - acc: 0.8717 - val_loss: 0.7809 - val_acc: 0.7919\n",
            "Epoch 7/20\n",
            "98761/98761 [==============================] - 28s 283us/step - loss: 0.3921 - acc: 0.8838 - val_loss: 0.7993 - val_acc: 0.8006\n",
            "Epoch 8/20\n",
            "98761/98761 [==============================] - 28s 281us/step - loss: 0.3585 - acc: 0.8930 - val_loss: 0.8268 - val_acc: 0.8005\n",
            "Epoch 9/20\n",
            "98761/98761 [==============================] - 28s 282us/step - loss: 0.3366 - acc: 0.9003 - val_loss: 0.8404 - val_acc: 0.7999\n",
            "Epoch 10/20\n",
            "98761/98761 [==============================] - 28s 282us/step - loss: 0.3214 - acc: 0.9034 - val_loss: 0.8584 - val_acc: 0.8063\n",
            "Epoch 11/20\n",
            "98761/98761 [==============================] - 28s 282us/step - loss: 0.3092 - acc: 0.9090 - val_loss: 0.8614 - val_acc: 0.8056\n",
            "Epoch 12/20\n",
            "98761/98761 [==============================] - 28s 280us/step - loss: 0.2939 - acc: 0.9130 - val_loss: 0.8932 - val_acc: 0.8062\n",
            "Epoch 13/20\n",
            "98761/98761 [==============================] - 28s 284us/step - loss: 0.2779 - acc: 0.9174 - val_loss: 0.9060 - val_acc: 0.8084\n",
            "Epoch 14/20\n",
            "98761/98761 [==============================] - 28s 283us/step - loss: 0.2765 - acc: 0.9180 - val_loss: 0.9354 - val_acc: 0.8038\n",
            "Epoch 15/20\n",
            "98761/98761 [==============================] - 28s 283us/step - loss: 0.2917 - acc: 0.9136 - val_loss: 0.9219 - val_acc: 0.8086\n",
            "Epoch 16/20\n",
            "98761/98761 [==============================] - 28s 280us/step - loss: 0.2718 - acc: 0.9185 - val_loss: 0.9058 - val_acc: 0.8097\n",
            "Epoch 17/20\n",
            "98761/98761 [==============================] - 28s 284us/step - loss: 0.2625 - acc: 0.9214 - val_loss: 0.9239 - val_acc: 0.8087\n",
            "Epoch 18/20\n",
            "98761/98761 [==============================] - 28s 283us/step - loss: 0.2512 - acc: 0.9248 - val_loss: 0.9371 - val_acc: 0.8108\n",
            "Epoch 19/20\n",
            "98761/98761 [==============================] - 28s 283us/step - loss: 0.2536 - acc: 0.9249 - val_loss: 0.9520 - val_acc: 0.8098\n",
            "Epoch 20/20\n",
            "98761/98761 [==============================] - 28s 282us/step - loss: 0.2640 - acc: 0.9220 - val_loss: 0.9487 - val_acc: 0.8076\n"
          ],
          "name": "stdout"
        }
      ]
    },
    {
      "metadata": {
        "id": "thZqEIqNCubM",
        "colab_type": "code",
        "colab": {
          "base_uri": "https://localhost:8080/",
          "height": 51
        },
        "outputId": "5fc7eda0-8769-413a-d2ac-1adb9badc9d7"
      },
      "cell_type": "code",
      "source": [
        "print('accuracy', model3.evaluate(x_test, y_test)[1])"
      ],
      "execution_count": 53,
      "outputs": [
        {
          "output_type": "stream",
          "text": [
            "24691/24691 [==============================] - 14s 547us/step\n",
            "accuracy 0.8075817099444501\n"
          ],
          "name": "stdout"
        }
      ]
    },
    {
      "metadata": {
        "id": "TlTDYChxCudw",
        "colab_type": "code",
        "colab": {}
      },
      "cell_type": "code",
      "source": [
        ""
      ],
      "execution_count": 0,
      "outputs": []
    },
    {
      "metadata": {
        "id": "Dg-nibblCugL",
        "colab_type": "code",
        "colab": {}
      },
      "cell_type": "code",
      "source": [
        ""
      ],
      "execution_count": 0,
      "outputs": []
    },
    {
      "metadata": {
        "id": "V_2XEgYM-AjP",
        "colab_type": "text"
      },
      "cell_type": "markdown",
      "source": [
        "#### Plots and Compare"
      ]
    },
    {
      "metadata": {
        "id": "gKXaL0JP5YXX",
        "colab_type": "code",
        "colab": {}
      },
      "cell_type": "code",
      "source": [
        "import seaborn as sns\n",
        "import matplotlib.pyplot as plt\n",
        "sns.set_style(\"ticks\")"
      ],
      "execution_count": 0,
      "outputs": []
    },
    {
      "metadata": {
        "id": "bai3ZC8P-FFG",
        "colab_type": "code",
        "colab": {
          "base_uri": "https://localhost:8080/",
          "height": 119
        },
        "outputId": "692d9343-0452-4e24-8337-b20f642245bd"
      },
      "cell_type": "code",
      "source": [
        "# plot accuracy rates by author from best model\n",
        "from sklearn.metrics import classification_report, accuracy_score, confusion_matrix\n",
        "import numpy as np\n",
        "\n",
        "y_pred1 = model1.predict_classes(x_test)\n",
        "# print(classification_report(y_test, y_pred4))\n",
        "\n",
        "cm = confusion_matrix(y_test, y_pred1) # only works with sparse\n",
        "cm = cm.astype('float') / cm.sum(axis=1)[:, np.newaxis]\n",
        "accuracies = cm.diagonal()\n",
        "accuracies"
      ],
      "execution_count": 57,
      "outputs": [
        {
          "output_type": "execute_result",
          "data": {
            "text/plain": [
              "array([0.91085271, 0.83524646, 0.75403226, 0.6137931 , 0.79166667,\n",
              "       0.69827586, 0.92042714, 0.91071429, 0.73344103, 0.74650699,\n",
              "       0.9064588 , 0.79377432, 0.70072993, 0.90663827, 0.67757009,\n",
              "       0.66741573, 0.76526055, 0.7375    , 0.90369037, 0.87249545,\n",
              "       0.79376855, 0.90909091, 0.87022901, 0.75771971, 0.84251969,\n",
              "       0.76950998, 0.69444444, 0.75203252, 0.79370629, 0.83662714])"
            ]
          },
          "metadata": {
            "tags": []
          },
          "execution_count": 57
        }
      ]
    },
    {
      "metadata": {
        "id": "oWSs3ftkIyb_",
        "colab_type": "code",
        "colab": {
          "base_uri": "https://localhost:8080/",
          "height": 511
        },
        "outputId": "ff7012ec-1320-44db-89a2-30b2b1302fd1"
      },
      "cell_type": "code",
      "source": [
        "v_lookup = df[['variety_code', 'variety']].drop_duplicates().set_index('variety_code').to_dict()\n",
        "v_lookup = v_lookup['variety']\n",
        "\n",
        "y_test_name = np.array([v_lookup[yy] for yy in y_test])\n",
        "y_pred_name = np.array([v_lookup[yy] for yy in y_pred1])\n",
        "\n",
        "to_plot = pd.crosstab(y_test_name, y_pred_name, normalize='index')\n",
        "sns.heatmap(to_plot)"
      ],
      "execution_count": 92,
      "outputs": [
        {
          "output_type": "execute_result",
          "data": {
            "text/plain": [
              "<matplotlib.axes._subplots.AxesSubplot at 0x7f65382e47f0>"
            ]
          },
          "metadata": {
            "tags": []
          },
          "execution_count": 92
        },
        {
          "output_type": "display_data",
          "data": {
            "image/png": "[encoded data removed]",
            "text/plain": [
              "<matplotlib.figure.Figure at 0x7f65382e4fd0>"
            ]
          },
          "metadata": {
            "tags": []
          }
        }
      ]
    },
    {
      "metadata": {
        "id": "mycdURDQ-HGe",
        "colab_type": "code",
        "colab": {
          "base_uri": "https://localhost:8080/",
          "height": 382
        },
        "outputId": "cf381533-99e6-491b-ca50-73878327f9cf"
      },
      "cell_type": "code",
      "source": [
        "plt.hist(accuracies, bins=6, color='navy')\n",
        "plt.title('Test Accuracy by Variety', fontweight=\"bold\")\n",
        "plt.xlabel('Accuracy')\n",
        "sns.despine()\n",
        "plt.show()"
      ],
      "execution_count": 93,
      "outputs": [
        {
          "output_type": "display_data",
          "data": {
            "image/png": "[encoded data removed]",
            "text/plain": [
              "<matplotlib.figure.Figure at 0x7f6538302dd8>"
            ]
          },
          "metadata": {
            "tags": []
          }
        }
      ]
    },
    {
      "metadata": {
        "id": "b68CHyhy-HI4",
        "colab_type": "code",
        "colab": {}
      },
      "cell_type": "code",
      "source": [
        ""
      ],
      "execution_count": 0,
      "outputs": []
    },
    {
      "metadata": {
        "id": "2fOHoH_4-HLK",
        "colab_type": "code",
        "colab": {
          "base_uri": "https://localhost:8080/",
          "height": 51
        },
        "outputId": "429805d7-b267-430e-ad70-fe4570f55b40"
      },
      "cell_type": "code",
      "source": [
        "print(accuracies.max())\n",
        "print(accuracies.argmax())"
      ],
      "execution_count": 61,
      "outputs": [
        {
          "output_type": "stream",
          "text": [
            "0.9204271443334482\n",
            "6\n"
          ],
          "name": "stdout"
        }
      ]
    },
    {
      "metadata": {
        "id": "67nUz8TlIehu",
        "colab_type": "code",
        "colab": {
          "base_uri": "https://localhost:8080/",
          "height": 496
        },
        "outputId": "ff115fb4-a939-40f0-aa91-5bdcc83bfd3b"
      },
      "cell_type": "code",
      "source": [
        "df[df['variety_code'] == 6].head()"
      ],
      "execution_count": 64,
      "outputs": [
        {
          "output_type": "execute_result",
          "data": {
            "text/html": [
              "<div>\n",
              "<style scoped>\n",
              "    .dataframe tbody tr th:only-of-type {\n",
              "        vertical-align: middle;\n",
              "    }\n",
              "\n",
              "    .dataframe tbody tr th {\n",
              "        vertical-align: top;\n",
              "    }\n",
              "\n",
              "    .dataframe thead th {\n",
              "        text-align: right;\n",
              "    }\n",
              "</style>\n",
              "<table border=\"1\" class=\"dataframe\">\n",
              "  <thead>\n",
              "    <tr style=\"text-align: right;\">\n",
              "      <th></th>\n",
              "      <th>Unnamed: 0</th>\n",
              "      <th>country</th>\n",
              "      <th>description</th>\n",
              "      <th>designation</th>\n",
              "      <th>points</th>\n",
              "      <th>price</th>\n",
              "      <th>province</th>\n",
              "      <th>region_1</th>\n",
              "      <th>region_2</th>\n",
              "      <th>variety</th>\n",
              "      <th>winery</th>\n",
              "      <th>variety_code</th>\n",
              "    </tr>\n",
              "  </thead>\n",
              "  <tbody>\n",
              "    <tr>\n",
              "      <th>15</th>\n",
              "      <td>15</td>\n",
              "      <td>US</td>\n",
              "      <td>First made in 2006, this succulent luscious Ch...</td>\n",
              "      <td>Sigrid</td>\n",
              "      <td>95</td>\n",
              "      <td>90.0</td>\n",
              "      <td>Oregon</td>\n",
              "      <td>Willamette Valley</td>\n",
              "      <td>Willamette Valley</td>\n",
              "      <td>Chardonnay</td>\n",
              "      <td>Bergström</td>\n",
              "      <td>6</td>\n",
              "    </tr>\n",
              "    <tr>\n",
              "      <th>23</th>\n",
              "      <td>23</td>\n",
              "      <td>US</td>\n",
              "      <td>The apogee of this ambitious winery's white wi...</td>\n",
              "      <td>Giallo Solare</td>\n",
              "      <td>95</td>\n",
              "      <td>60.0</td>\n",
              "      <td>California</td>\n",
              "      <td>Edna Valley</td>\n",
              "      <td>Central Coast</td>\n",
              "      <td>Chardonnay</td>\n",
              "      <td>Center of Effort</td>\n",
              "      <td>6</td>\n",
              "    </tr>\n",
              "    <tr>\n",
              "      <th>25</th>\n",
              "      <td>25</td>\n",
              "      <td>New Zealand</td>\n",
              "      <td>Yields were down in 2015, but intensity is up,...</td>\n",
              "      <td>Maté's Vineyard</td>\n",
              "      <td>94</td>\n",
              "      <td>57.0</td>\n",
              "      <td>Kumeu</td>\n",
              "      <td>NaN</td>\n",
              "      <td>NaN</td>\n",
              "      <td>Chardonnay</td>\n",
              "      <td>Kumeu River</td>\n",
              "      <td>6</td>\n",
              "    </tr>\n",
              "    <tr>\n",
              "      <th>31</th>\n",
              "      <td>31</td>\n",
              "      <td>US</td>\n",
              "      <td>Steely and perfumed, this wine sees only 20% n...</td>\n",
              "      <td>Babushka</td>\n",
              "      <td>90</td>\n",
              "      <td>37.0</td>\n",
              "      <td>California</td>\n",
              "      <td>Russian River Valley</td>\n",
              "      <td>Sonoma</td>\n",
              "      <td>Chardonnay</td>\n",
              "      <td>Zepaltas</td>\n",
              "      <td>6</td>\n",
              "    </tr>\n",
              "    <tr>\n",
              "      <th>34</th>\n",
              "      <td>34</td>\n",
              "      <td>US</td>\n",
              "      <td>The aromas entice with notes of wet stone, hon...</td>\n",
              "      <td>Conner Lee Vineyard</td>\n",
              "      <td>90</td>\n",
              "      <td>42.0</td>\n",
              "      <td>Washington</td>\n",
              "      <td>Columbia Valley (WA)</td>\n",
              "      <td>Columbia Valley</td>\n",
              "      <td>Chardonnay</td>\n",
              "      <td>Buty</td>\n",
              "      <td>6</td>\n",
              "    </tr>\n",
              "  </tbody>\n",
              "</table>\n",
              "</div>"
            ],
            "text/plain": [
              "    Unnamed: 0      country  \\\n",
              "15          15           US   \n",
              "23          23           US   \n",
              "25          25  New Zealand   \n",
              "31          31           US   \n",
              "34          34           US   \n",
              "\n",
              "                                          description          designation  \\\n",
              "15  First made in 2006, this succulent luscious Ch...               Sigrid   \n",
              "23  The apogee of this ambitious winery's white wi...        Giallo Solare   \n",
              "25  Yields were down in 2015, but intensity is up,...      Maté's Vineyard   \n",
              "31  Steely and perfumed, this wine sees only 20% n...             Babushka   \n",
              "34  The aromas entice with notes of wet stone, hon...  Conner Lee Vineyard   \n",
              "\n",
              "    points  price    province              region_1           region_2  \\\n",
              "15      95   90.0      Oregon     Willamette Valley  Willamette Valley   \n",
              "23      95   60.0  California           Edna Valley      Central Coast   \n",
              "25      94   57.0       Kumeu                   NaN                NaN   \n",
              "31      90   37.0  California  Russian River Valley             Sonoma   \n",
              "34      90   42.0  Washington  Columbia Valley (WA)    Columbia Valley   \n",
              "\n",
              "       variety            winery  variety_code  \n",
              "15  Chardonnay         Bergström             6  \n",
              "23  Chardonnay  Center of Effort             6  \n",
              "25  Chardonnay       Kumeu River             6  \n",
              "31  Chardonnay          Zepaltas             6  \n",
              "34  Chardonnay              Buty             6  "
            ]
          },
          "metadata": {
            "tags": []
          },
          "execution_count": 64
        }
      ]
    },
    {
      "metadata": {
        "id": "QeVuh0vnHziV",
        "colab_type": "text"
      },
      "cell_type": "markdown",
      "source": [
        "#### Plot Class Output"
      ]
    },
    {
      "metadata": {
        "id": "SwlAMmcXFyRd",
        "colab_type": "code",
        "colab": {}
      },
      "cell_type": "code",
      "source": [
        "# plot of classes after being fit for the simple model\n",
        "# ref: http://www.jacobsilterra.com/2017/05/06/classifying-text-with-keras-visualization/\n",
        "\n",
        "# get values of last layer for each class and plot them to see which are most similar"
      ],
      "execution_count": 0,
      "outputs": []
    },
    {
      "metadata": {
        "id": "k3e7nvjPFyUA",
        "colab_type": "code",
        "colab": {}
      },
      "cell_type": "code",
      "source": [
        ""
      ],
      "execution_count": 0,
      "outputs": []
    }
  ]
}