{
  "nbformat": 4,
  "nbformat_minor": 0,
  "metadata": {
    "colab": {
      "name": "create_multiclass_models.ipynb",
      "version": "0.3.2",
      "provenance": [],
      "toc_visible": true
    },
    "kernelspec": {
      "name": "python3",
      "display_name": "Python 3"
    },
    "accelerator": "GPU"
  },
  "cells": [
    {
      "metadata": {
        "id": "j7fJyy-R5YV6",
        "colab_type": "code",
        "colab": {}
      },
      "cell_type": "code",
      "source": [
        "# use kaggle data to train models\n",
        "# then will test on my scraped dataset"
      ],
      "execution_count": 0,
      "outputs": []
    },
    {
      "metadata": {
        "id": "ESaLvEbD5YWC",
        "colab_type": "text"
      },
      "cell_type": "markdown",
      "source": [
        "#### Prep"
      ]
    },
    {
      "metadata": {
        "id": "8j-yN72_5YWC",
        "colab_type": "code",
        "colab": {}
      },
      "cell_type": "code",
      "source": [
        "# set working directory\n",
        "import os\n",
        "import sys\n",
        "project_root = '/Users/kgedney/Documents/georgetown/anly580/anly580-wine-project'\n",
        "os.chdir(project_root)"
      ],
      "execution_count": 0,
      "outputs": []
    },
    {
      "metadata": {
        "id": "PXaO7Cyw5YWH",
        "colab_type": "code",
        "colab": {}
      },
      "cell_type": "code",
      "source": [
        "# install packages\n",
        "import numpy as np\n",
        "import pandas as pd\n",
        "\n",
        "\n",
        "from sklearn import metrics\n",
        "from sklearn.model_selection import train_test_split\n",
        "from sklearn.feature_extraction.text import CountVectorizer, TfidfVectorizer"
      ],
      "execution_count": 0,
      "outputs": []
    },
    {
      "metadata": {
        "id": "4h4T14wU5YWK",
        "colab_type": "code",
        "colab": {}
      },
      "cell_type": "code",
      "source": [
        "# kaggle load data \n",
        "# ref: https://www.kaggle.com/zynicide/wine-reviews#winemag-data_first150k.csv\n",
        "df_full = pd.read_csv('data/winemag-data_first150k.csv', encoding='utf8')"
      ],
      "execution_count": 0,
      "outputs": []
    },
    {
      "metadata": {
        "id": "kgdoQ1t95YWL",
        "colab_type": "code",
        "colab": {},
        "outputId": "d993630c-e237-4b83-a40d-080bdb0f3c5d"
      },
      "cell_type": "code",
      "source": [
        "df_full.columns"
      ],
      "execution_count": 0,
      "outputs": [
        {
          "output_type": "execute_result",
          "data": {
            "text/plain": [
              "Index(['Unnamed: 0', 'country', 'description', 'designation', 'points',\n",
              "       'price', 'province', 'region_1', 'region_2', 'variety', 'winery'],\n",
              "      dtype='object')"
            ]
          },
          "metadata": {
            "tags": []
          },
          "execution_count": 81
        }
      ]
    },
    {
      "metadata": {
        "id": "SXfF_Kjg52kx",
        "colab_type": "text"
      },
      "cell_type": "markdown",
      "source": [
        "#### Google Colab Prep"
      ]
    },
    {
      "metadata": {
        "id": "JPTGVwPV6KSx",
        "colab_type": "code",
        "colab": {}
      },
      "cell_type": "code",
      "source": [
        "# install packages\n",
        "import numpy as np\n",
        "import pandas as pd\n",
        "\n",
        "\n",
        "from sklearn import metrics\n",
        "from sklearn.model_selection import train_test_split\n",
        "from sklearn.feature_extraction.text import CountVectorizer, TfidfVectorizer"
      ],
      "execution_count": 0,
      "outputs": []
    },
    {
      "metadata": {
        "id": "WhQbk3r654-b",
        "colab_type": "code",
        "colab": {
          "base_uri": "https://localhost:8080/",
          "height": 122
        },
        "outputId": "b946de05-ffb5-4e20-f2ad-f71253cbf740"
      },
      "cell_type": "code",
      "source": [
        "# get data from Google drive\n",
        "from google.colab import drive\n",
        "drive.mount('/content/gdrive')"
      ],
      "execution_count": 164,
      "outputs": [
        {
          "output_type": "stream",
          "text": [
            "Go to this URL in a browser: https://accounts.google.com/o/oauth2/auth?client_id=947318989803-6bn6qk8qdgf4n4g3pfee6491hc0brc4i.apps.googleusercontent.com&redirect_uri=urn%3Aietf%3Awg%3Aoauth%3A2.0%3Aoob&scope=email%20https%3A%2F%2Fwww.googleapis.com%2Fauth%2Fdocs.test%20https%3A%2F%2Fwww.googleapis.com%2Fauth%2Fdrive%20https%3A%2F%2Fwww.googleapis.com%2Fauth%2Fdrive.photos.readonly%20https%3A%2F%2Fwww.googleapis.com%2Fauth%2Fpeopleapi.readonly&response_type=code\n",
            "\n",
            "Enter your authorization code:\n",
            "··········\n",
            "Mounted at /content/gdrive\n"
          ],
          "name": "stdout"
        }
      ]
    },
    {
      "metadata": {
        "id": "YriGqz6k55BU",
        "colab_type": "code",
        "colab": {
          "base_uri": "https://localhost:8080/",
          "height": 530
        },
        "outputId": "37d1315e-a87f-4e1b-9c87-997a0d27e259"
      },
      "cell_type": "code",
      "source": [
        "# manually add file from local to drive\n",
        "df_full = pd.read_csv('winemag-data_first150k.csv', encoding='utf8')\n",
        "df_full.head()"
      ],
      "execution_count": 95,
      "outputs": [
        {
          "output_type": "execute_result",
          "data": {
            "text/html": [
              "<div>\n",
              "<style scoped>\n",
              "    .dataframe tbody tr th:only-of-type {\n",
              "        vertical-align: middle;\n",
              "    }\n",
              "\n",
              "    .dataframe tbody tr th {\n",
              "        vertical-align: top;\n",
              "    }\n",
              "\n",
              "    .dataframe thead th {\n",
              "        text-align: right;\n",
              "    }\n",
              "</style>\n",
              "<table border=\"1\" class=\"dataframe\">\n",
              "  <thead>\n",
              "    <tr style=\"text-align: right;\">\n",
              "      <th></th>\n",
              "      <th>Unnamed: 0</th>\n",
              "      <th>country</th>\n",
              "      <th>description</th>\n",
              "      <th>designation</th>\n",
              "      <th>points</th>\n",
              "      <th>price</th>\n",
              "      <th>province</th>\n",
              "      <th>region_1</th>\n",
              "      <th>region_2</th>\n",
              "      <th>variety</th>\n",
              "      <th>winery</th>\n",
              "    </tr>\n",
              "  </thead>\n",
              "  <tbody>\n",
              "    <tr>\n",
              "      <th>0</th>\n",
              "      <td>0</td>\n",
              "      <td>US</td>\n",
              "      <td>This tremendous 100% varietal wine hails from ...</td>\n",
              "      <td>Martha's Vineyard</td>\n",
              "      <td>96</td>\n",
              "      <td>235.0</td>\n",
              "      <td>California</td>\n",
              "      <td>Napa Valley</td>\n",
              "      <td>Napa</td>\n",
              "      <td>Cabernet Sauvignon</td>\n",
              "      <td>Heitz</td>\n",
              "    </tr>\n",
              "    <tr>\n",
              "      <th>1</th>\n",
              "      <td>1</td>\n",
              "      <td>Spain</td>\n",
              "      <td>Ripe aromas of fig, blackberry and cassis are ...</td>\n",
              "      <td>Carodorum Selección Especial Reserva</td>\n",
              "      <td>96</td>\n",
              "      <td>110.0</td>\n",
              "      <td>Northern Spain</td>\n",
              "      <td>Toro</td>\n",
              "      <td>NaN</td>\n",
              "      <td>Tinta de Toro</td>\n",
              "      <td>Bodega Carmen Rodríguez</td>\n",
              "    </tr>\n",
              "    <tr>\n",
              "      <th>2</th>\n",
              "      <td>2</td>\n",
              "      <td>US</td>\n",
              "      <td>Mac Watson honors the memory of a wine once ma...</td>\n",
              "      <td>Special Selected Late Harvest</td>\n",
              "      <td>96</td>\n",
              "      <td>90.0</td>\n",
              "      <td>California</td>\n",
              "      <td>Knights Valley</td>\n",
              "      <td>Sonoma</td>\n",
              "      <td>Sauvignon Blanc</td>\n",
              "      <td>Macauley</td>\n",
              "    </tr>\n",
              "    <tr>\n",
              "      <th>3</th>\n",
              "      <td>3</td>\n",
              "      <td>US</td>\n",
              "      <td>This spent 20 months in 30% new French oak, an...</td>\n",
              "      <td>Reserve</td>\n",
              "      <td>96</td>\n",
              "      <td>65.0</td>\n",
              "      <td>Oregon</td>\n",
              "      <td>Willamette Valley</td>\n",
              "      <td>Willamette Valley</td>\n",
              "      <td>Pinot Noir</td>\n",
              "      <td>Ponzi</td>\n",
              "    </tr>\n",
              "    <tr>\n",
              "      <th>4</th>\n",
              "      <td>4</td>\n",
              "      <td>France</td>\n",
              "      <td>This is the top wine from La Bégude, named aft...</td>\n",
              "      <td>La Brûlade</td>\n",
              "      <td>95</td>\n",
              "      <td>66.0</td>\n",
              "      <td>Provence</td>\n",
              "      <td>Bandol</td>\n",
              "      <td>NaN</td>\n",
              "      <td>Provence red blend</td>\n",
              "      <td>Domaine de la Bégude</td>\n",
              "    </tr>\n",
              "  </tbody>\n",
              "</table>\n",
              "</div>"
            ],
            "text/plain": [
              "   Unnamed: 0 country                                        description  \\\n",
              "0           0      US  This tremendous 100% varietal wine hails from ...   \n",
              "1           1   Spain  Ripe aromas of fig, blackberry and cassis are ...   \n",
              "2           2      US  Mac Watson honors the memory of a wine once ma...   \n",
              "3           3      US  This spent 20 months in 30% new French oak, an...   \n",
              "4           4  France  This is the top wine from La Bégude, named aft...   \n",
              "\n",
              "                            designation  points  price        province  \\\n",
              "0                     Martha's Vineyard      96  235.0      California   \n",
              "1  Carodorum Selección Especial Reserva      96  110.0  Northern Spain   \n",
              "2         Special Selected Late Harvest      96   90.0      California   \n",
              "3                               Reserve      96   65.0          Oregon   \n",
              "4                            La Brûlade      95   66.0        Provence   \n",
              "\n",
              "            region_1           region_2             variety  \\\n",
              "0        Napa Valley               Napa  Cabernet Sauvignon   \n",
              "1               Toro                NaN       Tinta de Toro   \n",
              "2     Knights Valley             Sonoma     Sauvignon Blanc   \n",
              "3  Willamette Valley  Willamette Valley          Pinot Noir   \n",
              "4             Bandol                NaN  Provence red blend   \n",
              "\n",
              "                    winery  \n",
              "0                    Heitz  \n",
              "1  Bodega Carmen Rodríguez  \n",
              "2                 Macauley  \n",
              "3                    Ponzi  \n",
              "4     Domaine de la Bégude  "
            ]
          },
          "metadata": {
            "tags": []
          },
          "execution_count": 95
        }
      ]
    },
    {
      "metadata": {
        "id": "Wp8CzUeO55D6",
        "colab_type": "code",
        "colab": {}
      },
      "cell_type": "code",
      "source": [
        ""
      ],
      "execution_count": 0,
      "outputs": []
    },
    {
      "metadata": {
        "id": "zL0qZWEE5YWQ",
        "colab_type": "text"
      },
      "cell_type": "markdown",
      "source": [
        "#### Define Classes"
      ]
    },
    {
      "metadata": {
        "id": "WQ_EZ8QL5YWR",
        "colab_type": "code",
        "colab": {}
      },
      "cell_type": "code",
      "source": [
        "# select wines with over 1050 tasting notes (to make an even 30 varities)\n",
        "variety_counts = pd.DataFrame(df_full['variety'].value_counts())\n",
        "varieties      = list(variety_counts.index[variety_counts['variety'] > 1000])\n",
        "\n",
        "# remove blends\n",
        "varieties.remove('Red Blend')\n",
        "varieties.remove('White Blend')\n",
        "varieties.remove('Sparkling Blend')\n",
        "\n",
        "len(varieties)"
      ],
      "execution_count": 0,
      "outputs": []
    },
    {
      "metadata": {
        "id": "EikPaJjW5YWU",
        "colab_type": "code",
        "colab": {}
      },
      "cell_type": "code",
      "source": [
        "df = df_full[df_full['variety'].isin(varieties)]"
      ],
      "execution_count": 0,
      "outputs": []
    },
    {
      "metadata": {
        "id": "_uma7LO15YWW",
        "colab_type": "code",
        "colab": {
          "base_uri": "https://localhost:8080/",
          "height": 510
        },
        "outputId": "abdc86ae-86d5-4ee2-a73a-61670262958e"
      },
      "cell_type": "code",
      "source": [
        "df.variety.value_counts()"
      ],
      "execution_count": 114,
      "outputs": [
        {
          "output_type": "execute_result",
          "data": {
            "text/plain": [
              "Chardonnay                       14482\n",
              "Pinot Noir                       14291\n",
              "Cabernet Sauvignon               12800\n",
              "Bordeaux-style Red Blend          7347\n",
              "Sauvignon Blanc                   6320\n",
              "Syrah                             5825\n",
              "Riesling                          5524\n",
              "Merlot                            5070\n",
              "Zinfandel                         3799\n",
              "Sangiovese                        3345\n",
              "Malbec                            3208\n",
              "Rosé                              2817\n",
              "Tempranillo                       2556\n",
              "Nebbiolo                          2241\n",
              "Portuguese Red                    2216\n",
              "Shiraz                            1970\n",
              "Corvina, Rondinella, Molinara     1682\n",
              "Rhône-style Red Blend             1505\n",
              "Barbera                           1365\n",
              "Pinot Gris                        1365\n",
              "Cabernet Franc                    1363\n",
              "Sangiovese Grosso                 1346\n",
              "Pinot Grigio                      1305\n",
              "Viognier                          1263\n",
              "Bordeaux-style White Blend        1261\n",
              "Champagne Blend                   1238\n",
              "Port                              1058\n",
              "Grüner Veltliner                  1042\n",
              "Name: variety, dtype: int64"
            ]
          },
          "metadata": {
            "tags": []
          },
          "execution_count": 114
        }
      ]
    },
    {
      "metadata": {
        "id": "TsmDSzBB5YWZ",
        "colab_type": "code",
        "colab": {
          "base_uri": "https://localhost:8080/",
          "height": 139
        },
        "outputId": "5c705e17-2c2b-4fa0-d6be-f43f7f71018a"
      },
      "cell_type": "code",
      "source": [
        "# map classes to integers\n",
        "df['variety_code'] = pd.Categorical(df.variety).codes"
      ],
      "execution_count": 115,
      "outputs": [
        {
          "output_type": "stream",
          "text": [
            "/usr/local/lib/python3.6/dist-packages/ipykernel_launcher.py:1: SettingWithCopyWarning: \n",
            "A value is trying to be set on a copy of a slice from a DataFrame.\n",
            "Try using .loc[row_indexer,col_indexer] = value instead\n",
            "\n",
            "See the caveats in the documentation: http://pandas.pydata.org/pandas-docs/stable/indexing.html#indexing-view-versus-copy\n",
            "  \"\"\"Entry point for launching an IPython kernel.\n"
          ],
          "name": "stderr"
        }
      ]
    },
    {
      "metadata": {
        "id": "GFyRpBzo5YWb",
        "colab_type": "code",
        "colab": {}
      },
      "cell_type": "code",
      "source": [
        "# set classes\n",
        "x = df.description.values\n",
        "y = df.variety_code.values"
      ],
      "execution_count": 0,
      "outputs": []
    },
    {
      "metadata": {
        "id": "qDcMXThl5YWe",
        "colab_type": "code",
        "colab": {}
      },
      "cell_type": "code",
      "source": [
        "# split test and train\n",
        "x_train, x_test, y_train, y_test = train_test_split(x, y, test_size=0.2, random_state=522)"
      ],
      "execution_count": 0,
      "outputs": []
    },
    {
      "metadata": {
        "id": "Kcgu9sP45YWg",
        "colab_type": "text"
      },
      "cell_type": "markdown",
      "source": [
        "#### Baseline: Linear SVM"
      ]
    },
    {
      "metadata": {
        "id": "a-Ct-AsL5YWg",
        "colab_type": "code",
        "colab": {
          "base_uri": "https://localhost:8080/",
          "height": 34
        },
        "outputId": "71b2798b-5cea-41f5-a564-bdcca529effd"
      },
      "cell_type": "code",
      "source": [
        "# majority class prediction\n",
        "np.mean(y_test == 6)"
      ],
      "execution_count": 118,
      "outputs": [
        {
          "output_type": "execute_result",
          "data": {
            "text/plain": [
              "0.1315177227316272"
            ]
          },
          "metadata": {
            "tags": []
          },
          "execution_count": 118
        }
      ]
    },
    {
      "metadata": {
        "id": "8I6Iwosn5YWk",
        "colab_type": "code",
        "colab": {
          "base_uri": "https://localhost:8080/",
          "height": 34
        },
        "outputId": "e8a1e74f-6882-4584-8ab3-bac51cb742a9"
      },
      "cell_type": "code",
      "source": [
        "# data preprocess\n",
        "tfidf_vec   = TfidfVectorizer()\n",
        "x_train_vec = tfidf_vec.fit_transform(x_train)\n",
        "x_test_vec  = tfidf_vec.transform(x_test)\n",
        "x_train_vec.shape"
      ],
      "execution_count": 119,
      "outputs": [
        {
          "output_type": "execute_result",
          "data": {
            "text/plain": [
              "(87683, 24457)"
            ]
          },
          "metadata": {
            "tags": []
          },
          "execution_count": 119
        }
      ]
    },
    {
      "metadata": {
        "id": "SIzGl6yr5YWo",
        "colab_type": "code",
        "colab": {
          "base_uri": "https://localhost:8080/",
          "height": 34
        },
        "outputId": "e61434d6-9f10-41ca-8352-4c63734a43a6"
      },
      "cell_type": "code",
      "source": [
        "# fit model\n",
        "from sklearn.svm import LinearSVC\n",
        "clf             = LinearSVC().fit(x_train_vec, y_train)\n",
        "predicted       = clf.predict(x_test_vec)\n",
        "predicted_score = clf.decision_function(x_test_vec)\n",
        "print('accuracy', metrics.accuracy_score(y_test, predicted))"
      ],
      "execution_count": 120,
      "outputs": [
        {
          "output_type": "stream",
          "text": [
            "accuracy 0.827927558049359\n"
          ],
          "name": "stdout"
        }
      ]
    },
    {
      "metadata": {
        "id": "WVZ6oq3m5YWs",
        "colab_type": "code",
        "colab": {
          "base_uri": "https://localhost:8080/",
          "height": 119
        },
        "outputId": "009b405c-e690-4d6b-9467-cf5232657600"
      },
      "cell_type": "code",
      "source": [
        "# grid search on C\n",
        "def fit_svc(C=1):\n",
        "    clf             = LinearSVC(C=C).fit(x_train_vec, y_train)\n",
        "    predicted       = clf.predict(x_test_vec)\n",
        "    predicted_score = clf.decision_function(x_test_vec)\n",
        "    return metrics.accuracy_score(y_test, predicted)\n",
        "\n",
        "for C in [0.1, 0.5, 1, 2, 4, 8]:\n",
        "    print(fit_svc(C=C))\n"
      ],
      "execution_count": 121,
      "outputs": [
        {
          "output_type": "stream",
          "text": [
            "0.7747821723461521\n",
            "0.815519364992473\n",
            "0.827927558049359\n",
            "0.8339035627936682\n",
            "0.8335386159390539\n",
            "0.8319419734501163\n"
          ],
          "name": "stdout"
        }
      ]
    },
    {
      "metadata": {
        "id": "0rPb-8xZ5YWv",
        "colab_type": "text"
      },
      "cell_type": "markdown",
      "source": [
        "#### Preprocess Data for Keras Models"
      ]
    },
    {
      "metadata": {
        "id": "r_5PEhu75YWv",
        "colab_type": "code",
        "colab": {}
      },
      "cell_type": "code",
      "source": [
        "import keras\n",
        "from keras import optimizers\n",
        "import tensorflow as tf\n",
        "\n",
        "from keras.utils import np_utils\n",
        "from keras.preprocessing import sequence\n",
        "from keras.preprocessing.text import Tokenizer\n",
        "\n",
        "from keras.models import Model, Sequential\n",
        "from keras.layers import Input, Dense, CuDNNLSTM, LSTM, Embedding, Bidirectional, GlobalAveragePooling1D, Conv1D, Activation, Flatten, Dropout, MaxPooling1D, Embedding, GlobalMaxPooling1D\n",
        "\n",
        "from keras.layers.core import Dense, Dropout"
      ],
      "execution_count": 0,
      "outputs": []
    },
    {
      "metadata": {
        "id": "84a3busx5YWx",
        "colab_type": "code",
        "colab": {
          "base_uri": "https://localhost:8080/",
          "height": 34
        },
        "outputId": "d6d2380f-6ba5-4d1f-ddd8-e78b75fbc716"
      },
      "cell_type": "code",
      "source": [
        "# data preprocess\n",
        "x = df.description.values\n",
        "y = df.variety_code.values\n",
        "\n",
        "# create sequences\n",
        "max_features = 25000\n",
        "tokenizer    = Tokenizer(num_words = max_features)\n",
        "tokenizer.fit_on_texts(x)\n",
        "x_sequences  = tokenizer.texts_to_sequences(x)\n",
        "\n",
        "# pad each sequence to be max length\n",
        "maxlen = max(len(x) for x in x_sequences)\n",
        "print(maxlen)\n",
        "x_sequences = sequence.pad_sequences(x_sequences, maxlen)"
      ],
      "execution_count": 124,
      "outputs": [
        {
          "output_type": "stream",
          "text": [
            "136\n"
          ],
          "name": "stdout"
        }
      ]
    },
    {
      "metadata": {
        "id": "gZOYUkni5YW0",
        "colab_type": "code",
        "colab": {}
      },
      "cell_type": "code",
      "source": [
        "# split test and train\n",
        "x_train, x_test, y_train, y_test = train_test_split(x_sequences, y, test_size=0.20, random_state=22)"
      ],
      "execution_count": 0,
      "outputs": []
    },
    {
      "metadata": {
        "id": "0uaLe4TK5YW2",
        "colab_type": "text"
      },
      "cell_type": "markdown",
      "source": [
        "#### 1. Simple Model"
      ]
    },
    {
      "metadata": {
        "id": "0MkWeNw45YW4",
        "colab_type": "code",
        "colab": {}
      },
      "cell_type": "code",
      "source": [
        "model1 = Sequential()\n",
        "model1.add(Embedding(input_dim=max_features,\n",
        "                    output_dim=256))\n",
        "\n",
        "# we add a GlobalAveragePooling1D, which will average the embeddings\n",
        "# of all words in the document\n",
        "model1.add(GlobalAveragePooling1D())\n",
        "model1.add(Dropout(0.5))\n",
        "\n",
        "model1.add(Dense(100, activation=\"softmax\"))"
      ],
      "execution_count": 0,
      "outputs": []
    },
    {
      "metadata": {
        "id": "nvRsfCDD5YW6",
        "colab_type": "code",
        "colab": {}
      },
      "cell_type": "code",
      "source": [
        "opt = keras.optimizers.Adam(lr=0.01) # speed up optimization\n",
        "model1.compile(optimizer=opt, loss=\"sparse_categorical_crossentropy\", metrics=[\"acc\"])"
      ],
      "execution_count": 0,
      "outputs": []
    },
    {
      "metadata": {
        "id": "gAqAdW-g5YW9",
        "colab_type": "code",
        "colab": {
          "base_uri": "https://localhost:8080/",
          "height": 802
        },
        "outputId": "cbe3379f-2bd6-4a8c-e397-8e5ed218782b"
      },
      "cell_type": "code",
      "source": [
        "history1 = model1.fit(x_train, y_train,\n",
        "            batch_size=512,\n",
        "            epochs=22,\n",
        "            validation_data=(x_test, y_test))"
      ],
      "execution_count": 145,
      "outputs": [
        {
          "output_type": "stream",
          "text": [
            "Train on 87683 samples, validate on 21921 samples\n",
            "Epoch 1/22\n",
            "87683/87683 [==============================] - 5s 52us/step - loss: 2.3754 - acc: 0.3520 - val_loss: 1.4760 - val_acc: 0.5710\n",
            "Epoch 2/22\n",
            "87683/87683 [==============================] - 3s 37us/step - loss: 1.1739 - acc: 0.6619 - val_loss: 0.9509 - val_acc: 0.7214\n",
            "Epoch 3/22\n",
            "87683/87683 [==============================] - 3s 37us/step - loss: 0.8283 - acc: 0.7579 - val_loss: 0.7825 - val_acc: 0.7656\n",
            "Epoch 4/22\n",
            "87683/87683 [==============================] - 3s 36us/step - loss: 0.6714 - acc: 0.8015 - val_loss: 0.7115 - val_acc: 0.7852\n",
            "Epoch 5/22\n",
            "87683/87683 [==============================] - 3s 36us/step - loss: 0.5740 - acc: 0.8299 - val_loss: 0.6670 - val_acc: 0.8012\n",
            "Epoch 6/22\n",
            "87683/87683 [==============================] - 3s 36us/step - loss: 0.5029 - acc: 0.8511 - val_loss: 0.6407 - val_acc: 0.8098\n",
            "Epoch 7/22\n",
            "87683/87683 [==============================] - 3s 36us/step - loss: 0.4432 - acc: 0.8693 - val_loss: 0.6312 - val_acc: 0.8147\n",
            "Epoch 8/22\n",
            "87683/87683 [==============================] - 3s 36us/step - loss: 0.3967 - acc: 0.8835 - val_loss: 0.6122 - val_acc: 0.8251\n",
            "Epoch 9/22\n",
            "87683/87683 [==============================] - 3s 36us/step - loss: 0.3580 - acc: 0.8943 - val_loss: 0.6237 - val_acc: 0.8230\n",
            "Epoch 10/22\n",
            "87683/87683 [==============================] - 3s 36us/step - loss: 0.3245 - acc: 0.9048 - val_loss: 0.6113 - val_acc: 0.8282\n",
            "Epoch 11/22\n",
            "87683/87683 [==============================] - 3s 36us/step - loss: 0.2966 - acc: 0.9130 - val_loss: 0.6060 - val_acc: 0.8333\n",
            "Epoch 12/22\n",
            "87683/87683 [==============================] - 3s 36us/step - loss: 0.2732 - acc: 0.9202 - val_loss: 0.6166 - val_acc: 0.8333\n",
            "Epoch 13/22\n",
            "87683/87683 [==============================] - 3s 36us/step - loss: 0.2529 - acc: 0.9266 - val_loss: 0.6173 - val_acc: 0.8355\n",
            "Epoch 14/22\n",
            "87683/87683 [==============================] - 3s 36us/step - loss: 0.2372 - acc: 0.9300 - val_loss: 0.6260 - val_acc: 0.8402\n",
            "Epoch 15/22\n",
            "87683/87683 [==============================] - 3s 36us/step - loss: 0.2206 - acc: 0.9348 - val_loss: 0.6378 - val_acc: 0.8380\n",
            "Epoch 16/22\n",
            "87683/87683 [==============================] - 3s 37us/step - loss: 0.2080 - acc: 0.9387 - val_loss: 0.6424 - val_acc: 0.8438\n",
            "Epoch 17/22\n",
            "87683/87683 [==============================] - 3s 37us/step - loss: 0.1948 - acc: 0.9423 - val_loss: 0.6582 - val_acc: 0.8421\n",
            "Epoch 18/22\n",
            "87683/87683 [==============================] - 3s 37us/step - loss: 0.1827 - acc: 0.9461 - val_loss: 0.6646 - val_acc: 0.8440\n",
            "Epoch 19/22\n",
            "87683/87683 [==============================] - 3s 37us/step - loss: 0.1746 - acc: 0.9480 - val_loss: 0.6742 - val_acc: 0.8446\n",
            "Epoch 20/22\n",
            "87683/87683 [==============================] - 3s 37us/step - loss: 0.1674 - acc: 0.9498 - val_loss: 0.6921 - val_acc: 0.8434\n",
            "Epoch 21/22\n",
            "87683/87683 [==============================] - 3s 37us/step - loss: 0.1557 - acc: 0.9529 - val_loss: 0.7139 - val_acc: 0.8424\n",
            "Epoch 22/22\n",
            "87683/87683 [==============================] - 3s 37us/step - loss: 0.1514 - acc: 0.9541 - val_loss: 0.7144 - val_acc: 0.8470\n"
          ],
          "name": "stdout"
        }
      ]
    },
    {
      "metadata": {
        "id": "GyiNfL5P5YW_",
        "colab_type": "code",
        "colab": {
          "base_uri": "https://localhost:8080/",
          "height": 51
        },
        "outputId": "17ef80d2-ad2b-4b7b-b9e1-7d42555b0d56"
      },
      "cell_type": "code",
      "source": [
        "print('accuracy', model1.evaluate(x_test, y_test)[1])"
      ],
      "execution_count": 142,
      "outputs": [
        {
          "output_type": "stream",
          "text": [
            "21921/21921 [==============================] - 1s 65us/step\n",
            "accuracy 0.8428903790885452\n"
          ],
          "name": "stdout"
        }
      ]
    },
    {
      "metadata": {
        "id": "gUYdY-J75YXC",
        "colab_type": "code",
        "colab": {
          "base_uri": "https://localhost:8080/",
          "height": 51
        },
        "outputId": "4b4bc4d0-71b6-4813-8220-4a74f4197e53"
      },
      "cell_type": "code",
      "source": [
        "print('train accuracy', model1.evaluate(x_train, y_train)[1])"
      ],
      "execution_count": 132,
      "outputs": [
        {
          "output_type": "stream",
          "text": [
            "87683/87683 [==============================] - 5s 62us/step\n",
            "train accuracy 0.9673596934411459\n"
          ],
          "name": "stdout"
        }
      ]
    },
    {
      "metadata": {
        "id": "QB2eXK125YXG",
        "colab_type": "text"
      },
      "cell_type": "markdown",
      "source": [
        "#### 2. LSTM"
      ]
    },
    {
      "metadata": {
        "id": "le5sEc_L5YXG",
        "colab_type": "code",
        "colab": {}
      },
      "cell_type": "code",
      "source": [
        "# ref: https://keras.io/layers/recurrent/#cudnnlstm\n",
        "# faster LSTM implementation\n",
        "\n",
        "model2 = Sequential()\n",
        "model2.add(Embedding(input_dim=max_features,\n",
        "                     output_dim=128))\n",
        "model2.add(CuDNNLSTM(128))\n",
        "model2.add(Dropout(0.5))\n",
        "model2.add(Dense(100, activation=\"softmax\"))\n",
        "\n",
        "model2.compile(optimizer=\"adam\", loss=\"sparse_categorical_crossentropy\", metrics=[\"acc\"])"
      ],
      "execution_count": 0,
      "outputs": []
    },
    {
      "metadata": {
        "id": "BvuAZMX45YXJ",
        "colab_type": "code",
        "colab": {}
      },
      "cell_type": "code",
      "source": [
        "opt = keras.optimizers.Adam(lr=0.01) # speed up optimization\n",
        "model2.compile(optimizer=opt, loss=\"sparse_categorical_crossentropy\", metrics=[\"acc\"])"
      ],
      "execution_count": 0,
      "outputs": []
    },
    {
      "metadata": {
        "id": "PIzj8eQT5YXM",
        "colab_type": "code",
        "colab": {
          "base_uri": "https://localhost:8080/",
          "height": 598
        },
        "outputId": "c26c6dd8-8101-4502-c953-7b349a3c1b88"
      },
      "cell_type": "code",
      "source": [
        "history2 = model2.fit(x_train, y_train,\n",
        "            batch_size=512,\n",
        "            epochs=16,\n",
        "            validation_data=(x_test, y_test))"
      ],
      "execution_count": 135,
      "outputs": [
        {
          "output_type": "stream",
          "text": [
            "Train on 87683 samples, validate on 21921 samples\n",
            "Epoch 1/16\n",
            "87683/87683 [==============================] - 14s 165us/step - loss: 2.3289 - acc: 0.3158 - val_loss: 1.3298 - val_acc: 0.5882\n",
            "Epoch 2/16\n",
            "87683/87683 [==============================] - 13s 149us/step - loss: 1.0701 - acc: 0.6824 - val_loss: 0.8765 - val_acc: 0.7382\n",
            "Epoch 3/16\n",
            "87683/87683 [==============================] - 13s 151us/step - loss: 0.7421 - acc: 0.7808 - val_loss: 0.7848 - val_acc: 0.7706\n",
            "Epoch 4/16\n",
            "87683/87683 [==============================] - 13s 152us/step - loss: 0.5787 - acc: 0.8279 - val_loss: 0.7526 - val_acc: 0.7920\n",
            "Epoch 5/16\n",
            "87683/87683 [==============================] - 13s 151us/step - loss: 0.4730 - acc: 0.8600 - val_loss: 0.7460 - val_acc: 0.8027\n",
            "Epoch 6/16\n",
            "87683/87683 [==============================] - 13s 151us/step - loss: 0.4084 - acc: 0.8783 - val_loss: 0.7651 - val_acc: 0.8050\n",
            "Epoch 7/16\n",
            "87683/87683 [==============================] - 13s 151us/step - loss: 0.3580 - acc: 0.8935 - val_loss: 0.7739 - val_acc: 0.8113\n",
            "Epoch 8/16\n",
            "87683/87683 [==============================] - 13s 149us/step - loss: 0.3212 - acc: 0.9048 - val_loss: 0.7795 - val_acc: 0.8141\n",
            "Epoch 9/16\n",
            "87683/87683 [==============================] - 13s 149us/step - loss: 0.2948 - acc: 0.9129 - val_loss: 0.8285 - val_acc: 0.8159\n",
            "Epoch 10/16\n",
            "87683/87683 [==============================] - 13s 150us/step - loss: 0.2790 - acc: 0.9177 - val_loss: 0.8387 - val_acc: 0.8173\n",
            "Epoch 11/16\n",
            "87683/87683 [==============================] - 13s 149us/step - loss: 0.2540 - acc: 0.9237 - val_loss: 0.8511 - val_acc: 0.8201\n",
            "Epoch 12/16\n",
            "87683/87683 [==============================] - 13s 149us/step - loss: 0.2404 - acc: 0.9285 - val_loss: 0.8795 - val_acc: 0.8202\n",
            "Epoch 13/16\n",
            "87683/87683 [==============================] - 13s 150us/step - loss: 0.2288 - acc: 0.9314 - val_loss: 0.8902 - val_acc: 0.8201\n",
            "Epoch 14/16\n",
            "87683/87683 [==============================] - 13s 150us/step - loss: 0.2321 - acc: 0.9310 - val_loss: 0.8818 - val_acc: 0.8217\n",
            "Epoch 15/16\n",
            "87683/87683 [==============================] - 13s 150us/step - loss: 0.2206 - acc: 0.9349 - val_loss: 0.9133 - val_acc: 0.8202\n",
            "Epoch 16/16\n",
            "87683/87683 [==============================] - 13s 150us/step - loss: 0.2145 - acc: 0.9360 - val_loss: 0.9551 - val_acc: 0.8171\n"
          ],
          "name": "stdout"
        }
      ]
    },
    {
      "metadata": {
        "id": "jM0tI56s5YXS",
        "colab_type": "code",
        "colab": {
          "base_uri": "https://localhost:8080/",
          "height": 51
        },
        "outputId": "2996fc59-64d4-4c40-c733-22dbb1510968"
      },
      "cell_type": "code",
      "source": [
        "print('accuracy', model2.evaluate(x_test, y_test)[1])"
      ],
      "execution_count": 136,
      "outputs": [
        {
          "output_type": "stream",
          "text": [
            "21921/21921 [==============================] - 7s 313us/step\n",
            "accuracy 0.8170703891245837\n"
          ],
          "name": "stdout"
        }
      ]
    },
    {
      "metadata": {
        "id": "PGZb0_fOCtFy",
        "colab_type": "text"
      },
      "cell_type": "markdown",
      "source": [
        "#### 3. Bidirectional LSTM"
      ]
    },
    {
      "metadata": {
        "id": "tmhmapAuCuT-",
        "colab_type": "code",
        "colab": {}
      },
      "cell_type": "code",
      "source": [
        "model3 = Sequential()\n",
        "model3.add(Embedding(input_dim=max_features,\n",
        "                     output_dim=128))\n",
        "model3.add(Bidirectional(CuDNNLSTM(128)))\n",
        "model3.add(Dropout(0.5))\n",
        "model3.add(Dense(100, activation=\"softmax\"))\n",
        "\n",
        "model3.compile(optimizer=\"adam\", loss=\"sparse_categorical_crossentropy\", metrics=[\"acc\"])"
      ],
      "execution_count": 0,
      "outputs": []
    },
    {
      "metadata": {
        "id": "d_ir_RxYCuWf",
        "colab_type": "code",
        "colab": {}
      },
      "cell_type": "code",
      "source": [
        "opt = keras.optimizers.Adam(lr=0.01) # speed up optimization\n",
        "model3.compile(optimizer=opt, loss=\"sparse_categorical_crossentropy\", metrics=[\"acc\"])"
      ],
      "execution_count": 0,
      "outputs": []
    },
    {
      "metadata": {
        "id": "Whjxkmj8CuZK",
        "colab_type": "code",
        "colab": {
          "base_uri": "https://localhost:8080/",
          "height": 734
        },
        "outputId": "29c38e98-ec26-4c9b-afb3-158abe9ec3ed"
      },
      "cell_type": "code",
      "source": [
        "history3 = model3.fit(x_train, y_train,\n",
        "            batch_size=512,\n",
        "            epochs=20,\n",
        "            validation_data=(x_test, y_test))"
      ],
      "execution_count": 139,
      "outputs": [
        {
          "output_type": "stream",
          "text": [
            "Train on 87683 samples, validate on 21921 samples\n",
            "Epoch 1/20\n",
            "87683/87683 [==============================] - 27s 305us/step - loss: 1.9903 - acc: 0.4142 - val_loss: 1.0667 - val_acc: 0.6767\n",
            "Epoch 2/20\n",
            "87683/87683 [==============================] - 25s 283us/step - loss: 0.8888 - acc: 0.7377 - val_loss: 0.7888 - val_acc: 0.7617\n",
            "Epoch 3/20\n",
            "87683/87683 [==============================] - 25s 280us/step - loss: 0.6310 - acc: 0.8122 - val_loss: 0.7106 - val_acc: 0.7929\n",
            "Epoch 4/20\n",
            "87683/87683 [==============================] - 25s 282us/step - loss: 0.4906 - acc: 0.8547 - val_loss: 0.6981 - val_acc: 0.8000\n",
            "Epoch 5/20\n",
            "87683/87683 [==============================] - 25s 282us/step - loss: 0.3985 - acc: 0.8819 - val_loss: 0.7086 - val_acc: 0.8145\n",
            "Epoch 6/20\n",
            "87683/87683 [==============================] - 25s 283us/step - loss: 0.3378 - acc: 0.8997 - val_loss: 0.7127 - val_acc: 0.8206\n",
            "Epoch 7/20\n",
            "87683/87683 [==============================] - 25s 281us/step - loss: 0.2889 - acc: 0.9145 - val_loss: 0.7179 - val_acc: 0.8258\n",
            "Epoch 8/20\n",
            "87683/87683 [==============================] - 25s 281us/step - loss: 0.2630 - acc: 0.9217 - val_loss: 0.7462 - val_acc: 0.8286\n",
            "Epoch 9/20\n",
            "87683/87683 [==============================] - 25s 283us/step - loss: 0.2421 - acc: 0.9282 - val_loss: 0.7605 - val_acc: 0.8309\n",
            "Epoch 10/20\n",
            "87683/87683 [==============================] - 25s 283us/step - loss: 0.2279 - acc: 0.9315 - val_loss: 0.8092 - val_acc: 0.8277\n",
            "Epoch 11/20\n",
            "87683/87683 [==============================] - 25s 284us/step - loss: 0.2233 - acc: 0.9323 - val_loss: 0.8064 - val_acc: 0.8302\n",
            "Epoch 12/20\n",
            "87683/87683 [==============================] - 25s 281us/step - loss: 0.2309 - acc: 0.9305 - val_loss: 0.8258 - val_acc: 0.8316\n",
            "Epoch 13/20\n",
            "87683/87683 [==============================] - 25s 283us/step - loss: 0.2212 - acc: 0.9340 - val_loss: 0.8268 - val_acc: 0.8320\n",
            "Epoch 14/20\n",
            "87683/87683 [==============================] - 25s 284us/step - loss: 0.2005 - acc: 0.9400 - val_loss: 0.8405 - val_acc: 0.8324\n",
            "Epoch 15/20\n",
            "87683/87683 [==============================] - 25s 282us/step - loss: 0.1996 - acc: 0.9408 - val_loss: 0.8622 - val_acc: 0.8305\n",
            "Epoch 16/20\n",
            "87683/87683 [==============================] - 25s 282us/step - loss: 0.2039 - acc: 0.9395 - val_loss: 0.8626 - val_acc: 0.8307\n",
            "Epoch 17/20\n",
            "87683/87683 [==============================] - 25s 282us/step - loss: 0.2163 - acc: 0.9351 - val_loss: 0.8646 - val_acc: 0.8285\n",
            "Epoch 18/20\n",
            "87683/87683 [==============================] - 25s 283us/step - loss: 0.2195 - acc: 0.9344 - val_loss: 0.8949 - val_acc: 0.8229\n",
            "Epoch 19/20\n",
            "87683/87683 [==============================] - 25s 281us/step - loss: 0.2284 - acc: 0.9314 - val_loss: 0.8396 - val_acc: 0.8274\n",
            "Epoch 20/20\n",
            "87683/87683 [==============================] - 25s 283us/step - loss: 0.2130 - acc: 0.9357 - val_loss: 0.8553 - val_acc: 0.8325\n"
          ],
          "name": "stdout"
        }
      ]
    },
    {
      "metadata": {
        "id": "thZqEIqNCubM",
        "colab_type": "code",
        "colab": {
          "base_uri": "https://localhost:8080/",
          "height": 51
        },
        "outputId": "7dfbfc97-8e0f-45da-d550-88b105a53a60"
      },
      "cell_type": "code",
      "source": [
        "print('accuracy', model3.evaluate(x_test, y_test)[1])"
      ],
      "execution_count": 140,
      "outputs": [
        {
          "output_type": "stream",
          "text": [
            "21921/21921 [==============================] - 11s 522us/step\n",
            "accuracy 0.8325350120888646\n"
          ],
          "name": "stdout"
        }
      ]
    },
    {
      "metadata": {
        "id": "V_2XEgYM-AjP",
        "colab_type": "text"
      },
      "cell_type": "markdown",
      "source": [
        "#### Plots and Compare"
      ]
    },
    {
      "metadata": {
        "id": "gKXaL0JP5YXX",
        "colab_type": "code",
        "colab": {}
      },
      "cell_type": "code",
      "source": [
        "import seaborn as sns\n",
        "import matplotlib.pyplot as plt\n",
        "sns.set_style(\"ticks\")"
      ],
      "execution_count": 0,
      "outputs": []
    },
    {
      "metadata": {
        "id": "bai3ZC8P-FFG",
        "colab_type": "code",
        "colab": {
          "base_uri": "https://localhost:8080/",
          "height": 119
        },
        "outputId": "e5d77dc8-cf08-404a-8417-1067d036654e"
      },
      "cell_type": "code",
      "source": [
        "# plot accuracy rates by author from best model\n",
        "from sklearn.metrics import classification_report, accuracy_score, confusion_matrix\n",
        "import numpy as np\n",
        "\n",
        "y_pred1 = model1.predict_classes(x_test)\n",
        "# print(classification_report(y_test, y_pred4))\n",
        "\n",
        "cm = confusion_matrix(y_test, y_pred1) # only works with sparse\n",
        "cm = cm.astype('float') / cm.sum(axis=1)[:, np.newaxis]\n",
        "accuracies = cm.diagonal()\n",
        "accuracies"
      ],
      "execution_count": 147,
      "outputs": [
        {
          "output_type": "execute_result",
          "data": {
            "text/plain": [
              "array([0.8778626 , 0.86810229, 0.77734375, 0.74538745, 0.82732968,\n",
              "       0.77862595, 0.9287419 , 0.86931818, 0.80193237, 0.72115385,\n",
              "       0.73770492, 0.90570175, 0.78059072, 0.73818182, 0.89303483,\n",
              "       0.72246696, 0.79147982, 0.81333333, 0.88301887, 0.84798535,\n",
              "       0.84921764, 0.90812721, 0.87032617, 0.81795511, 0.8042735 ,\n",
              "       0.7983871 , 0.73877551, 0.85413929])"
            ]
          },
          "metadata": {
            "tags": []
          },
          "execution_count": 147
        }
      ]
    },
    {
      "metadata": {
        "id": "oWSs3ftkIyb_",
        "colab_type": "code",
        "colab": {
          "base_uri": "https://localhost:8080/",
          "height": 511
        },
        "outputId": "b3202717-a503-4895-e46f-fbd094163204"
      },
      "cell_type": "code",
      "source": [
        "v_lookup = df[['variety_code', 'variety']].drop_duplicates().set_index('variety_code').to_dict()\n",
        "v_lookup = v_lookup['variety']\n",
        "\n",
        "y_test_name = np.array([v_lookup[y_code] for y_code in y_test])\n",
        "y_pred_name = np.array([v_lookup[y_code] for y_code in y_pred1])\n",
        "\n",
        "to_plot = pd.crosstab(y_test_name, y_pred_name, normalize='index')\n",
        "sns.heatmap(to_plot)"
      ],
      "execution_count": 148,
      "outputs": [
        {
          "output_type": "execute_result",
          "data": {
            "text/plain": [
              "<matplotlib.axes._subplots.AxesSubplot at 0x7f6530f10898>"
            ]
          },
          "metadata": {
            "tags": []
          },
          "execution_count": 148
        },
        {
          "output_type": "display_data",
          "data": {
            "image/png": "[encoded data removed]",
            "text/plain": [
              "<matplotlib.figure.Figure at 0x7f6530f10f28>"
            ]
          },
          "metadata": {
            "tags": []
          }
        }
      ]
    },
    {
      "metadata": {
        "id": "Jo-EO3g2oaxC",
        "colab_type": "code",
        "colab": {
          "base_uri": "https://localhost:8080/",
          "height": 436
        },
        "outputId": "9d3b8ffb-ab55-4670-fac1-a421f11e3b60"
      },
      "cell_type": "code",
      "source": [
        "# plot accuracy by wine another way\n",
        "\n",
        "sns.barplot(y=list(v_lookup.values()), x=accuracies)\n",
        "plt.title('Test Accuracy by Variety', fontweight=\"bold\")\n",
        "plt.xlabel('Accuracy')\n",
        "sns.despine()\n",
        "plt.show()"
      ],
      "execution_count": 162,
      "outputs": [
        {
          "output_type": "stream",
          "text": [
            "/usr/local/lib/python3.6/dist-packages/seaborn/categorical.py:1428: FutureWarning: remove_na is deprecated and is a private function. Do not use.\n",
            "  stat_data = remove_na(group_data)\n"
          ],
          "name": "stderr"
        },
        {
          "output_type": "display_data",
          "data": {
            "image/png": "[encoded data removed]",
            "text/plain": [
              "<matplotlib.figure.Figure at 0x7f6530c4df98>"
            ]
          },
          "metadata": {
            "tags": []
          }
        }
      ]
    },
    {
      "metadata": {
        "id": "mycdURDQ-HGe",
        "colab_type": "code",
        "colab": {
          "base_uri": "https://localhost:8080/",
          "height": 382
        },
        "outputId": "a1eeb587-669d-4181-acd7-60a70fd3556d"
      },
      "cell_type": "code",
      "source": [
        "# plot as histogram\n",
        "plt.hist(accuracies, bins=6, color='navy')\n",
        "plt.title('Test Accuracy by Variety', fontweight=\"bold\")\n",
        "plt.xlabel('Accuracy')\n",
        "sns.despine()\n",
        "plt.show()"
      ],
      "execution_count": 149,
      "outputs": [
        {
          "output_type": "display_data",
          "data": {
            "image/png": "[encoded data removed]",
            "text/plain": [
              "<matplotlib.figure.Figure at 0x7f6531419d68>"
            ]
          },
          "metadata": {
            "tags": []
          }
        }
      ]
    },
    {
      "metadata": {
        "id": "2fOHoH_4-HLK",
        "colab_type": "code",
        "colab": {
          "base_uri": "https://localhost:8080/",
          "height": 51
        },
        "outputId": "429805d7-b267-430e-ad70-fe4570f55b40"
      },
      "cell_type": "code",
      "source": [
        "print(accuracies.max())\n",
        "print(accuracies.argmax())"
      ],
      "execution_count": 61,
      "outputs": [
        {
          "output_type": "stream",
          "text": [
            "0.9204271443334482\n",
            "6\n"
          ],
          "name": "stdout"
        }
      ]
    },
    {
      "metadata": {
        "id": "QeVuh0vnHziV",
        "colab_type": "text"
      },
      "cell_type": "markdown",
      "source": [
        "#### Plot Class Output"
      ]
    },
    {
      "metadata": {
        "id": "SwlAMmcXFyRd",
        "colab_type": "code",
        "colab": {}
      },
      "cell_type": "code",
      "source": [
        "# plot of classes after being fit for the simple model\n",
        "# ref: http://www.jacobsilterra.com/2017/05/06/classifying-text-with-keras-visualization/\n",
        "\n",
        "# get values of last layer for each class and plot them to see which are most similar"
      ],
      "execution_count": 0,
      "outputs": []
    },
    {
      "metadata": {
        "id": "k3e7nvjPFyUA",
        "colab_type": "code",
        "colab": {}
      },
      "cell_type": "code",
      "source": [
        ""
      ],
      "execution_count": 0,
      "outputs": []
    },
    {
      "metadata": {
        "id": "-DqxrOeRqfsP",
        "colab_type": "code",
        "colab": {}
      },
      "cell_type": "code",
      "source": [
        ""
      ],
      "execution_count": 0,
      "outputs": []
    },
    {
      "metadata": {
        "id": "WVwzZvVvqyRj",
        "colab_type": "text"
      },
      "cell_type": "markdown",
      "source": [
        "#### Save Simple Model "
      ]
    },
    {
      "metadata": {
        "id": "i-02sn97q0ht",
        "colab_type": "code",
        "colab": {}
      },
      "cell_type": "code",
      "source": [
        "model1.save('/content/gdrive/My Drive/colab/wine_model_l.h5')"
      ],
      "execution_count": 0,
      "outputs": []
    }
  ]
}