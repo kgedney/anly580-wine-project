{
 "cells": [
  {
   "cell_type": "markdown",
   "metadata": {
    "colab_type": "text",
    "id": "ESaLvEbD5YWC"
   },
   "source": [
    "#### Prep"
   ]
  },
  {
   "cell_type": "code",
   "execution_count": 2,
   "metadata": {
    "colab": {},
    "colab_type": "code",
    "collapsed": true,
    "id": "8j-yN72_5YWC"
   },
   "outputs": [],
   "source": [
    "# set working directory\n",
    "import os\n",
    "import sys\n",
    "project_root = '/Users/kgedney/Documents/georgetown/anly580/anly580-wine-project'\n",
    "os.chdir(project_root)"
   ]
  },
  {
   "cell_type": "code",
   "execution_count": 3,
   "metadata": {
    "colab": {},
    "colab_type": "code",
    "collapsed": true,
    "id": "PXaO7Cyw5YWH"
   },
   "outputs": [],
   "source": [
    "# install packages\n",
    "import numpy as np\n",
    "import pandas as pd\n",
    "\n",
    "\n",
    "from sklearn import metrics\n",
    "from sklearn.model_selection import train_test_split\n",
    "from sklearn.feature_extraction.text import CountVectorizer, TfidfVectorizer"
   ]
  },
  {
   "cell_type": "code",
   "execution_count": 4,
   "metadata": {
    "colab": {},
    "colab_type": "code",
    "collapsed": true,
    "id": "4h4T14wU5YWK"
   },
   "outputs": [],
   "source": [
    "# kaggle load data \n",
    "# ref: https://www.kaggle.com/zynicide/wine-reviews#winemag-data_first150k.csv\n",
    "df_full = pd.read_csv('data/winemag-data_first150k.csv', encoding='utf8')"
   ]
  },
  {
   "cell_type": "code",
   "execution_count": 5,
   "metadata": {
    "colab": {},
    "colab_type": "code",
    "id": "kgdoQ1t95YWL",
    "outputId": "d993630c-e237-4b83-a40d-080bdb0f3c5d"
   },
   "outputs": [
    {
     "data": {
      "text/plain": [
       "Index(['Unnamed: 0', 'country', 'description', 'designation', 'points',\n",
       "       'price', 'province', 'region_1', 'region_2', 'variety', 'winery'],\n",
       "      dtype='object')"
      ]
     },
     "execution_count": 5,
     "metadata": {},
     "output_type": "execute_result"
    }
   ],
   "source": [
    "df_full.columns"
   ]
  },
  {
   "cell_type": "markdown",
   "metadata": {
    "colab_type": "text",
    "id": "SXfF_Kjg52kx"
   },
   "source": [
    "#### Google Colab Prep"
   ]
  },
  {
   "cell_type": "code",
   "execution_count": 0,
   "metadata": {
    "colab": {},
    "colab_type": "code",
    "collapsed": true,
    "id": "JPTGVwPV6KSx"
   },
   "outputs": [],
   "source": [
    "# install packages\n",
    "import numpy as np\n",
    "import pandas as pd\n",
    "\n",
    "\n",
    "from sklearn import metrics\n",
    "from sklearn.model_selection import train_test_split\n",
    "from sklearn.feature_extraction.text import CountVectorizer, TfidfVectorizer"
   ]
  },
  {
   "cell_type": "code",
   "execution_count": 164,
   "metadata": {
    "colab": {
     "base_uri": "https://localhost:8080/",
     "height": 122
    },
    "colab_type": "code",
    "id": "WhQbk3r654-b",
    "outputId": "b946de05-ffb5-4e20-f2ad-f71253cbf740"
   },
   "outputs": [
    {
     "name": "stdout",
     "output_type": "stream",
     "text": [
      "Go to this URL in a browser: https://accounts.google.com/o/oauth2/auth?client_id=947318989803-6bn6qk8qdgf4n4g3pfee6491hc0brc4i.apps.googleusercontent.com&redirect_uri=urn%3Aietf%3Awg%3Aoauth%3A2.0%3Aoob&scope=email%20https%3A%2F%2Fwww.googleapis.com%2Fauth%2Fdocs.test%20https%3A%2F%2Fwww.googleapis.com%2Fauth%2Fdrive%20https%3A%2F%2Fwww.googleapis.com%2Fauth%2Fdrive.photos.readonly%20https%3A%2F%2Fwww.googleapis.com%2Fauth%2Fpeopleapi.readonly&response_type=code\n",
      "\n",
      "Enter your authorization code:\n",
      "··········\n",
      "Mounted at /content/gdrive\n"
     ]
    }
   ],
   "source": [
    "# get data from Google drive\n",
    "from google.colab import drive\n",
    "drive.mount('/content/gdrive')"
   ]
  },
  {
   "cell_type": "code",
   "execution_count": 95,
   "metadata": {
    "colab": {
     "base_uri": "https://localhost:8080/",
     "height": 530
    },
    "colab_type": "code",
    "id": "YriGqz6k55BU",
    "outputId": "37d1315e-a87f-4e1b-9c87-997a0d27e259"
   },
   "outputs": [
    {
     "data": {
      "text/html": [
       "<div>\n",
       "<style scoped>\n",
       "    .dataframe tbody tr th:only-of-type {\n",
       "        vertical-align: middle;\n",
       "    }\n",
       "\n",
       "    .dataframe tbody tr th {\n",
       "        vertical-align: top;\n",
       "    }\n",
       "\n",
       "    .dataframe thead th {\n",
       "        text-align: right;\n",
       "    }\n",
       "</style>\n",
       "<table border=\"1\" class=\"dataframe\">\n",
       "  <thead>\n",
       "    <tr style=\"text-align: right;\">\n",
       "      <th></th>\n",
       "      <th>Unnamed: 0</th>\n",
       "      <th>country</th>\n",
       "      <th>description</th>\n",
       "      <th>designation</th>\n",
       "      <th>points</th>\n",
       "      <th>price</th>\n",
       "      <th>province</th>\n",
       "      <th>region_1</th>\n",
       "      <th>region_2</th>\n",
       "      <th>variety</th>\n",
       "      <th>winery</th>\n",
       "    </tr>\n",
       "  </thead>\n",
       "  <tbody>\n",
       "    <tr>\n",
       "      <th>0</th>\n",
       "      <td>0</td>\n",
       "      <td>US</td>\n",
       "      <td>This tremendous 100% varietal wine hails from ...</td>\n",
       "      <td>Martha's Vineyard</td>\n",
       "      <td>96</td>\n",
       "      <td>235.0</td>\n",
       "      <td>California</td>\n",
       "      <td>Napa Valley</td>\n",
       "      <td>Napa</td>\n",
       "      <td>Cabernet Sauvignon</td>\n",
       "      <td>Heitz</td>\n",
       "    </tr>\n",
       "    <tr>\n",
       "      <th>1</th>\n",
       "      <td>1</td>\n",
       "      <td>Spain</td>\n",
       "      <td>Ripe aromas of fig, blackberry and cassis are ...</td>\n",
       "      <td>Carodorum Selección Especial Reserva</td>\n",
       "      <td>96</td>\n",
       "      <td>110.0</td>\n",
       "      <td>Northern Spain</td>\n",
       "      <td>Toro</td>\n",
       "      <td>NaN</td>\n",
       "      <td>Tinta de Toro</td>\n",
       "      <td>Bodega Carmen Rodríguez</td>\n",
       "    </tr>\n",
       "    <tr>\n",
       "      <th>2</th>\n",
       "      <td>2</td>\n",
       "      <td>US</td>\n",
       "      <td>Mac Watson honors the memory of a wine once ma...</td>\n",
       "      <td>Special Selected Late Harvest</td>\n",
       "      <td>96</td>\n",
       "      <td>90.0</td>\n",
       "      <td>California</td>\n",
       "      <td>Knights Valley</td>\n",
       "      <td>Sonoma</td>\n",
       "      <td>Sauvignon Blanc</td>\n",
       "      <td>Macauley</td>\n",
       "    </tr>\n",
       "    <tr>\n",
       "      <th>3</th>\n",
       "      <td>3</td>\n",
       "      <td>US</td>\n",
       "      <td>This spent 20 months in 30% new French oak, an...</td>\n",
       "      <td>Reserve</td>\n",
       "      <td>96</td>\n",
       "      <td>65.0</td>\n",
       "      <td>Oregon</td>\n",
       "      <td>Willamette Valley</td>\n",
       "      <td>Willamette Valley</td>\n",
       "      <td>Pinot Noir</td>\n",
       "      <td>Ponzi</td>\n",
       "    </tr>\n",
       "    <tr>\n",
       "      <th>4</th>\n",
       "      <td>4</td>\n",
       "      <td>France</td>\n",
       "      <td>This is the top wine from La Bégude, named aft...</td>\n",
       "      <td>La Brûlade</td>\n",
       "      <td>95</td>\n",
       "      <td>66.0</td>\n",
       "      <td>Provence</td>\n",
       "      <td>Bandol</td>\n",
       "      <td>NaN</td>\n",
       "      <td>Provence red blend</td>\n",
       "      <td>Domaine de la Bégude</td>\n",
       "    </tr>\n",
       "  </tbody>\n",
       "</table>\n",
       "</div>"
      ],
      "text/plain": [
       "   Unnamed: 0 country                                        description  \\\n",
       "0           0      US  This tremendous 100% varietal wine hails from ...   \n",
       "1           1   Spain  Ripe aromas of fig, blackberry and cassis are ...   \n",
       "2           2      US  Mac Watson honors the memory of a wine once ma...   \n",
       "3           3      US  This spent 20 months in 30% new French oak, an...   \n",
       "4           4  France  This is the top wine from La Bégude, named aft...   \n",
       "\n",
       "                            designation  points  price        province  \\\n",
       "0                     Martha's Vineyard      96  235.0      California   \n",
       "1  Carodorum Selección Especial Reserva      96  110.0  Northern Spain   \n",
       "2         Special Selected Late Harvest      96   90.0      California   \n",
       "3                               Reserve      96   65.0          Oregon   \n",
       "4                            La Brûlade      95   66.0        Provence   \n",
       "\n",
       "            region_1           region_2             variety  \\\n",
       "0        Napa Valley               Napa  Cabernet Sauvignon   \n",
       "1               Toro                NaN       Tinta de Toro   \n",
       "2     Knights Valley             Sonoma     Sauvignon Blanc   \n",
       "3  Willamette Valley  Willamette Valley          Pinot Noir   \n",
       "4             Bandol                NaN  Provence red blend   \n",
       "\n",
       "                    winery  \n",
       "0                    Heitz  \n",
       "1  Bodega Carmen Rodríguez  \n",
       "2                 Macauley  \n",
       "3                    Ponzi  \n",
       "4     Domaine de la Bégude  "
      ]
     },
     "execution_count": 95,
     "metadata": {
      "tags": []
     },
     "output_type": "execute_result"
    }
   ],
   "source": [
    "# manually add file from local to drive\n",
    "df_full = pd.read_csv('winemag-data_first150k.csv', encoding='utf8')\n",
    "df_full.head()"
   ]
  },
  {
   "cell_type": "markdown",
   "metadata": {
    "colab_type": "text",
    "id": "zL0qZWEE5YWQ"
   },
   "source": [
    "#### Define Classes"
   ]
  },
  {
   "cell_type": "code",
   "execution_count": 6,
   "metadata": {
    "colab": {},
    "colab_type": "code",
    "id": "WQ_EZ8QL5YWR"
   },
   "outputs": [
    {
     "data": {
      "text/plain": [
       "28"
      ]
     },
     "execution_count": 6,
     "metadata": {},
     "output_type": "execute_result"
    }
   ],
   "source": [
    "# select wines with over 1050 tasting notes (to make an even 30 varities)\n",
    "variety_counts = pd.DataFrame(df_full['variety'].value_counts())\n",
    "varieties      = list(variety_counts.index[variety_counts['variety'] > 1000])\n",
    "\n",
    "# remove blends\n",
    "varieties.remove('Red Blend')\n",
    "varieties.remove('White Blend')\n",
    "varieties.remove('Sparkling Blend')\n",
    "\n",
    "len(varieties)"
   ]
  },
  {
   "cell_type": "code",
   "execution_count": 7,
   "metadata": {
    "colab": {},
    "colab_type": "code",
    "collapsed": true,
    "id": "EikPaJjW5YWU"
   },
   "outputs": [],
   "source": [
    "df = df_full[df_full['variety'].isin(varieties)]"
   ]
  },
  {
   "cell_type": "code",
   "execution_count": 8,
   "metadata": {
    "colab": {
     "base_uri": "https://localhost:8080/",
     "height": 510
    },
    "colab_type": "code",
    "id": "_uma7LO15YWW",
    "outputId": "abdc86ae-86d5-4ee2-a73a-61670262958e"
   },
   "outputs": [
    {
     "data": {
      "text/plain": [
       "Chardonnay                       14482\n",
       "Pinot Noir                       14291\n",
       "Cabernet Sauvignon               12800\n",
       "Bordeaux-style Red Blend          7347\n",
       "Sauvignon Blanc                   6320\n",
       "Syrah                             5825\n",
       "Riesling                          5524\n",
       "Merlot                            5070\n",
       "Zinfandel                         3799\n",
       "Sangiovese                        3345\n",
       "Malbec                            3208\n",
       "Rosé                              2817\n",
       "Tempranillo                       2556\n",
       "Nebbiolo                          2241\n",
       "Portuguese Red                    2216\n",
       "Shiraz                            1970\n",
       "Corvina, Rondinella, Molinara     1682\n",
       "Rhône-style Red Blend             1505\n",
       "Barbera                           1365\n",
       "Pinot Gris                        1365\n",
       "Cabernet Franc                    1363\n",
       "Sangiovese Grosso                 1346\n",
       "Pinot Grigio                      1305\n",
       "Viognier                          1263\n",
       "Bordeaux-style White Blend        1261\n",
       "Champagne Blend                   1238\n",
       "Port                              1058\n",
       "Grüner Veltliner                  1042\n",
       "Name: variety, dtype: int64"
      ]
     },
     "execution_count": 8,
     "metadata": {},
     "output_type": "execute_result"
    }
   ],
   "source": [
    "df.variety.value_counts()"
   ]
  },
  {
   "cell_type": "code",
   "execution_count": 9,
   "metadata": {
    "colab": {
     "base_uri": "https://localhost:8080/",
     "height": 139
    },
    "colab_type": "code",
    "id": "TsmDSzBB5YWZ",
    "outputId": "5c705e17-2c2b-4fa0-d6be-f43f7f71018a"
   },
   "outputs": [
    {
     "name": "stderr",
     "output_type": "stream",
     "text": [
      "/Users/kgedney/anaconda/lib/python3.6/site-packages/ipykernel_launcher.py:2: SettingWithCopyWarning: \n",
      "A value is trying to be set on a copy of a slice from a DataFrame.\n",
      "Try using .loc[row_indexer,col_indexer] = value instead\n",
      "\n",
      "See the caveats in the documentation: http://pandas.pydata.org/pandas-docs/stable/indexing.html#indexing-view-versus-copy\n",
      "  \n"
     ]
    }
   ],
   "source": [
    "# map classes to integers\n",
    "df['variety_code'] = pd.Categorical(df.variety).codes"
   ]
  },
  {
   "cell_type": "code",
   "execution_count": 0,
   "metadata": {
    "colab": {},
    "colab_type": "code",
    "collapsed": true,
    "id": "cR7Hba0M5zdz"
   },
   "outputs": [],
   "source": [
    "#df[['variety','variety_code']]"
   ]
  },
  {
   "cell_type": "code",
   "execution_count": 10,
   "metadata": {
    "colab": {},
    "colab_type": "code",
    "collapsed": true,
    "id": "GFyRpBzo5YWb"
   },
   "outputs": [],
   "source": [
    "# set classes\n",
    "x = df.description.values\n",
    "y = df.variety_code.values"
   ]
  },
  {
   "cell_type": "code",
   "execution_count": 11,
   "metadata": {
    "colab": {},
    "colab_type": "code",
    "collapsed": true,
    "id": "qDcMXThl5YWe"
   },
   "outputs": [],
   "source": [
    "# split test and train\n",
    "x_train, x_test, y_train, y_test = train_test_split(x, y, test_size=0.2, random_state=522)"
   ]
  },
  {
   "cell_type": "markdown",
   "metadata": {
    "colab_type": "text",
    "id": "Kcgu9sP45YWg"
   },
   "source": [
    "#### Baseline: Linear SVM"
   ]
  },
  {
   "cell_type": "code",
   "execution_count": 118,
   "metadata": {
    "colab": {
     "base_uri": "https://localhost:8080/",
     "height": 34
    },
    "colab_type": "code",
    "id": "a-Ct-AsL5YWg",
    "outputId": "71b2798b-5cea-41f5-a564-bdcca529effd"
   },
   "outputs": [
    {
     "data": {
      "text/plain": [
       "0.1315177227316272"
      ]
     },
     "execution_count": 118,
     "metadata": {
      "tags": []
     },
     "output_type": "execute_result"
    }
   ],
   "source": [
    "# majority class prediction\n",
    "np.mean(y_test == 6)"
   ]
  },
  {
   "cell_type": "code",
   "execution_count": 119,
   "metadata": {
    "colab": {
     "base_uri": "https://localhost:8080/",
     "height": 34
    },
    "colab_type": "code",
    "id": "8I6Iwosn5YWk",
    "outputId": "e8a1e74f-6882-4584-8ab3-bac51cb742a9"
   },
   "outputs": [
    {
     "data": {
      "text/plain": [
       "(87683, 24457)"
      ]
     },
     "execution_count": 119,
     "metadata": {
      "tags": []
     },
     "output_type": "execute_result"
    }
   ],
   "source": [
    "# data preprocess\n",
    "tfidf_vec   = TfidfVectorizer()\n",
    "x_train_vec = tfidf_vec.fit_transform(x_train)\n",
    "x_test_vec  = tfidf_vec.transform(x_test)\n",
    "x_train_vec.shape"
   ]
  },
  {
   "cell_type": "code",
   "execution_count": 120,
   "metadata": {
    "colab": {
     "base_uri": "https://localhost:8080/",
     "height": 34
    },
    "colab_type": "code",
    "id": "SIzGl6yr5YWo",
    "outputId": "e61434d6-9f10-41ca-8352-4c63734a43a6"
   },
   "outputs": [
    {
     "name": "stdout",
     "output_type": "stream",
     "text": [
      "accuracy 0.827927558049359\n"
     ]
    }
   ],
   "source": [
    "# fit model\n",
    "from sklearn.svm import LinearSVC\n",
    "clf             = LinearSVC().fit(x_train_vec, y_train)\n",
    "predicted       = clf.predict(x_test_vec)\n",
    "predicted_score = clf.decision_function(x_test_vec)\n",
    "print('accuracy', metrics.accuracy_score(y_test, predicted))"
   ]
  },
  {
   "cell_type": "code",
   "execution_count": 121,
   "metadata": {
    "colab": {
     "base_uri": "https://localhost:8080/",
     "height": 119
    },
    "colab_type": "code",
    "id": "WVZ6oq3m5YWs",
    "outputId": "009b405c-e690-4d6b-9467-cf5232657600"
   },
   "outputs": [
    {
     "name": "stdout",
     "output_type": "stream",
     "text": [
      "0.7747821723461521\n",
      "0.815519364992473\n",
      "0.827927558049359\n",
      "0.8339035627936682\n",
      "0.8335386159390539\n",
      "0.8319419734501163\n"
     ]
    }
   ],
   "source": [
    "# grid search on C\n",
    "def fit_svc(C=1):\n",
    "    clf             = LinearSVC(C=C).fit(x_train_vec, y_train)\n",
    "    predicted       = clf.predict(x_test_vec)\n",
    "    predicted_score = clf.decision_function(x_test_vec)\n",
    "    return metrics.accuracy_score(y_test, predicted)\n",
    "\n",
    "for C in [0.1, 0.5, 1, 2, 4, 8]:\n",
    "    print(fit_svc(C=C))\n"
   ]
  },
  {
   "cell_type": "markdown",
   "metadata": {
    "colab_type": "text",
    "id": "0rPb-8xZ5YWv"
   },
   "source": [
    "#### Preprocess Data for Keras Models"
   ]
  },
  {
   "cell_type": "code",
   "execution_count": 12,
   "metadata": {
    "colab": {},
    "colab_type": "code",
    "id": "r_5PEhu75YWv"
   },
   "outputs": [
    {
     "name": "stderr",
     "output_type": "stream",
     "text": [
      "/Users/kgedney/anaconda/lib/python3.6/site-packages/h5py/__init__.py:34: FutureWarning: Conversion of the second argument of issubdtype from `float` to `np.floating` is deprecated. In future, it will be treated as `np.float64 == np.dtype(float).type`.\n",
      "  from ._conv import register_converters as _register_converters\n",
      "Using TensorFlow backend.\n"
     ]
    }
   ],
   "source": [
    "import keras\n",
    "from keras import optimizers\n",
    "import tensorflow as tf\n",
    "\n",
    "from keras.utils import np_utils\n",
    "from keras.preprocessing import sequence\n",
    "from keras.preprocessing.text import Tokenizer\n",
    "\n",
    "from keras.models import Model, Sequential\n",
    "from keras.layers import Input, Dense, CuDNNLSTM, LSTM, Embedding, Bidirectional, GlobalAveragePooling1D, Conv1D, Activation, Flatten, Dropout, MaxPooling1D, Embedding, GlobalMaxPooling1D\n",
    "\n",
    "from keras.layers.core import Dense, Dropout"
   ]
  },
  {
   "cell_type": "code",
   "execution_count": 13,
   "metadata": {
    "colab": {
     "base_uri": "https://localhost:8080/",
     "height": 34
    },
    "colab_type": "code",
    "id": "84a3busx5YWx",
    "outputId": "d6d2380f-6ba5-4d1f-ddd8-e78b75fbc716"
   },
   "outputs": [
    {
     "name": "stdout",
     "output_type": "stream",
     "text": [
      "136\n"
     ]
    }
   ],
   "source": [
    "# data preprocess\n",
    "x = df.description.values\n",
    "y = df.variety_code.values\n",
    "\n",
    "# create sequences\n",
    "max_features = 25000\n",
    "tokenizer    = Tokenizer(num_words = max_features)\n",
    "tokenizer.fit_on_texts(x)\n",
    "x_sequences  = tokenizer.texts_to_sequences(x)\n",
    "\n",
    "# pad each sequence to be max length\n",
    "maxlen = max(len(x) for x in x_sequences)\n",
    "print(maxlen)\n",
    "x_sequences = sequence.pad_sequences(x_sequences, maxlen)"
   ]
  },
  {
   "cell_type": "code",
   "execution_count": 14,
   "metadata": {
    "colab": {},
    "colab_type": "code",
    "collapsed": true,
    "id": "gZOYUkni5YW0"
   },
   "outputs": [],
   "source": [
    "# split test and train\n",
    "x_train, x_test, y_train, y_test = train_test_split(x_sequences, y, test_size=0.20, random_state=22)"
   ]
  },
  {
   "cell_type": "markdown",
   "metadata": {
    "colab_type": "text",
    "id": "0uaLe4TK5YW2"
   },
   "source": [
    "#### 1. Simple Model"
   ]
  },
  {
   "cell_type": "code",
   "execution_count": 15,
   "metadata": {
    "colab": {},
    "colab_type": "code",
    "collapsed": true,
    "id": "0MkWeNw45YW4"
   },
   "outputs": [],
   "source": [
    "model1 = Sequential()\n",
    "model1.add(Embedding(input_dim=max_features,\n",
    "                    output_dim=256))\n",
    "\n",
    "# we add a GlobalAveragePooling1D, which will average the embeddings\n",
    "# of all words in the document\n",
    "model1.add(GlobalAveragePooling1D())\n",
    "model1.add(Dropout(0.5))\n",
    "\n",
    "model1.add(Dense(100, activation=\"softmax\"))"
   ]
  },
  {
   "cell_type": "code",
   "execution_count": 16,
   "metadata": {
    "colab": {},
    "colab_type": "code",
    "collapsed": true,
    "id": "nvRsfCDD5YW6"
   },
   "outputs": [],
   "source": [
    "opt = keras.optimizers.Adam(lr=0.01) # speed up optimization\n",
    "model1.compile(optimizer=opt, loss=\"sparse_categorical_crossentropy\", metrics=[\"acc\"])"
   ]
  },
  {
   "cell_type": "code",
   "execution_count": 17,
   "metadata": {
    "colab": {
     "base_uri": "https://localhost:8080/",
     "height": 802
    },
    "colab_type": "code",
    "id": "gAqAdW-g5YW9",
    "outputId": "cbe3379f-2bd6-4a8c-e397-8e5ed218782b"
   },
   "outputs": [
    {
     "name": "stdout",
     "output_type": "stream",
     "text": [
      "Train on 87683 samples, validate on 21921 samples\n",
      "Epoch 1/22\n",
      "87683/87683 [==============================] - 20s 225us/step - loss: 2.3757 - acc: 0.3536 - val_loss: 1.4685 - val_acc: 0.5842\n",
      "Epoch 2/22\n",
      "87683/87683 [==============================] - 21s 236us/step - loss: 1.1738 - acc: 0.6620 - val_loss: 0.9522 - val_acc: 0.7218\n",
      "Epoch 3/22\n",
      "87683/87683 [==============================] - 21s 242us/step - loss: 0.8299 - acc: 0.7571 - val_loss: 0.7937 - val_acc: 0.7583\n",
      "Epoch 4/22\n",
      "87683/87683 [==============================] - 21s 240us/step - loss: 0.6736 - acc: 0.8020 - val_loss: 0.7125 - val_acc: 0.7830\n",
      "Epoch 5/22\n",
      "87683/87683 [==============================] - 20s 230us/step - loss: 0.5730 - acc: 0.8311 - val_loss: 0.6764 - val_acc: 0.7966\n",
      "Epoch 6/22\n",
      "87683/87683 [==============================] - 21s 237us/step - loss: 0.5011 - acc: 0.8520 - val_loss: 0.6441 - val_acc: 0.8073\n",
      "Epoch 7/22\n",
      "87683/87683 [==============================] - 21s 245us/step - loss: 0.4449 - acc: 0.8695 - val_loss: 0.6201 - val_acc: 0.8189\n",
      "Epoch 8/22\n",
      "87683/87683 [==============================] - 21s 238us/step - loss: 0.3979 - acc: 0.8827 - val_loss: 0.6127 - val_acc: 0.8222\n",
      "Epoch 9/22\n",
      "87683/87683 [==============================] - 21s 236us/step - loss: 0.3576 - acc: 0.8961 - val_loss: 0.6075 - val_acc: 0.8260\n",
      "Epoch 10/22\n",
      "87683/87683 [==============================] - 20s 230us/step - loss: 0.3253 - acc: 0.9045 - val_loss: 0.6060 - val_acc: 0.8313\n",
      "Epoch 11/22\n",
      "87683/87683 [==============================] - 22s 251us/step - loss: 0.2974 - acc: 0.9125 - val_loss: 0.6078 - val_acc: 0.8350\n",
      "Epoch 12/22\n",
      "87683/87683 [==============================] - 22s 247us/step - loss: 0.2753 - acc: 0.9190 - val_loss: 0.6130 - val_acc: 0.8341\n",
      "Epoch 13/22\n",
      "87683/87683 [==============================] - 23s 263us/step - loss: 0.2531 - acc: 0.9254 - val_loss: 0.6198 - val_acc: 0.8360\n",
      "Epoch 14/22\n",
      "87683/87683 [==============================] - 21s 236us/step - loss: 0.2348 - acc: 0.9305 - val_loss: 0.6297 - val_acc: 0.8374\n",
      "Epoch 15/22\n",
      "87683/87683 [==============================] - 21s 243us/step - loss: 0.2201 - acc: 0.9344 - val_loss: 0.6364 - val_acc: 0.8405\n",
      "Epoch 16/22\n",
      "87683/87683 [==============================] - 22s 246us/step - loss: 0.2070 - acc: 0.9390 - val_loss: 0.6412 - val_acc: 0.8429\n",
      "Epoch 17/22\n",
      "87683/87683 [==============================] - 21s 234us/step - loss: 0.1961 - acc: 0.9411 - val_loss: 0.6552 - val_acc: 0.8418\n",
      "Epoch 18/22\n",
      "87683/87683 [==============================] - 21s 236us/step - loss: 0.1856 - acc: 0.9449 - val_loss: 0.6782 - val_acc: 0.8413\n",
      "Epoch 19/22\n",
      "87683/87683 [==============================] - 21s 243us/step - loss: 0.1756 - acc: 0.9480 - val_loss: 0.6843 - val_acc: 0.8424\n",
      "Epoch 20/22\n",
      "87683/87683 [==============================] - 23s 262us/step - loss: 0.1664 - acc: 0.9506 - val_loss: 0.6906 - val_acc: 0.8442\n",
      "Epoch 21/22\n",
      "87683/87683 [==============================] - 21s 243us/step - loss: 0.1576 - acc: 0.9533 - val_loss: 0.7109 - val_acc: 0.8450\n",
      "Epoch 22/22\n",
      "87683/87683 [==============================] - 21s 239us/step - loss: 0.1512 - acc: 0.9540 - val_loss: 0.7212 - val_acc: 0.8453\n"
     ]
    }
   ],
   "source": [
    "history1 = model1.fit(x_train, y_train,\n",
    "            batch_size=512,\n",
    "            epochs=22,\n",
    "            validation_data=(x_test, y_test))"
   ]
  },
  {
   "cell_type": "code",
   "execution_count": 18,
   "metadata": {
    "colab": {
     "base_uri": "https://localhost:8080/",
     "height": 51
    },
    "colab_type": "code",
    "id": "GyiNfL5P5YW_",
    "outputId": "17ef80d2-ad2b-4b7b-b9e1-7d42555b0d56"
   },
   "outputs": [
    {
     "name": "stdout",
     "output_type": "stream",
     "text": [
      "21921/21921 [==============================] - 1s 26us/step\n",
      "accuracy 0.8453081520003649\n"
     ]
    }
   ],
   "source": [
    "print('accuracy', model1.evaluate(x_test, y_test)[1])"
   ]
  },
  {
   "cell_type": "code",
   "execution_count": 132,
   "metadata": {
    "colab": {
     "base_uri": "https://localhost:8080/",
     "height": 51
    },
    "colab_type": "code",
    "id": "gUYdY-J75YXC",
    "outputId": "4b4bc4d0-71b6-4813-8220-4a74f4197e53"
   },
   "outputs": [
    {
     "name": "stdout",
     "output_type": "stream",
     "text": [
      "87683/87683 [==============================] - 5s 62us/step\n",
      "train accuracy 0.9673596934411459\n"
     ]
    }
   ],
   "source": [
    "print('train accuracy', model1.evaluate(x_train, y_train)[1])"
   ]
  },
  {
   "cell_type": "markdown",
   "metadata": {
    "colab_type": "text",
    "id": "QB2eXK125YXG"
   },
   "source": [
    "#### 2. LSTM"
   ]
  },
  {
   "cell_type": "code",
   "execution_count": 0,
   "metadata": {
    "colab": {},
    "colab_type": "code",
    "collapsed": true,
    "id": "le5sEc_L5YXG"
   },
   "outputs": [],
   "source": [
    "# ref: https://keras.io/layers/recurrent/#cudnnlstm\n",
    "# faster LSTM implementation\n",
    "\n",
    "model2 = Sequential()\n",
    "model2.add(Embedding(input_dim=max_features,\n",
    "                     output_dim=128))\n",
    "model2.add(CuDNNLSTM(128))\n",
    "model2.add(Dropout(0.5))\n",
    "model2.add(Dense(100, activation=\"softmax\"))\n",
    "\n",
    "model2.compile(optimizer=\"adam\", loss=\"sparse_categorical_crossentropy\", metrics=[\"acc\"])"
   ]
  },
  {
   "cell_type": "code",
   "execution_count": 0,
   "metadata": {
    "colab": {},
    "colab_type": "code",
    "collapsed": true,
    "id": "BvuAZMX45YXJ"
   },
   "outputs": [],
   "source": [
    "opt = keras.optimizers.Adam(lr=0.01) # speed up optimization\n",
    "model2.compile(optimizer=opt, loss=\"sparse_categorical_crossentropy\", metrics=[\"acc\"])"
   ]
  },
  {
   "cell_type": "code",
   "execution_count": 135,
   "metadata": {
    "colab": {
     "base_uri": "https://localhost:8080/",
     "height": 598
    },
    "colab_type": "code",
    "id": "PIzj8eQT5YXM",
    "outputId": "c26c6dd8-8101-4502-c953-7b349a3c1b88"
   },
   "outputs": [
    {
     "name": "stdout",
     "output_type": "stream",
     "text": [
      "Train on 87683 samples, validate on 21921 samples\n",
      "Epoch 1/16\n",
      "87683/87683 [==============================] - 14s 165us/step - loss: 2.3289 - acc: 0.3158 - val_loss: 1.3298 - val_acc: 0.5882\n",
      "Epoch 2/16\n",
      "87683/87683 [==============================] - 13s 149us/step - loss: 1.0701 - acc: 0.6824 - val_loss: 0.8765 - val_acc: 0.7382\n",
      "Epoch 3/16\n",
      "87683/87683 [==============================] - 13s 151us/step - loss: 0.7421 - acc: 0.7808 - val_loss: 0.7848 - val_acc: 0.7706\n",
      "Epoch 4/16\n",
      "87683/87683 [==============================] - 13s 152us/step - loss: 0.5787 - acc: 0.8279 - val_loss: 0.7526 - val_acc: 0.7920\n",
      "Epoch 5/16\n",
      "87683/87683 [==============================] - 13s 151us/step - loss: 0.4730 - acc: 0.8600 - val_loss: 0.7460 - val_acc: 0.8027\n",
      "Epoch 6/16\n",
      "87683/87683 [==============================] - 13s 151us/step - loss: 0.4084 - acc: 0.8783 - val_loss: 0.7651 - val_acc: 0.8050\n",
      "Epoch 7/16\n",
      "87683/87683 [==============================] - 13s 151us/step - loss: 0.3580 - acc: 0.8935 - val_loss: 0.7739 - val_acc: 0.8113\n",
      "Epoch 8/16\n",
      "87683/87683 [==============================] - 13s 149us/step - loss: 0.3212 - acc: 0.9048 - val_loss: 0.7795 - val_acc: 0.8141\n",
      "Epoch 9/16\n",
      "87683/87683 [==============================] - 13s 149us/step - loss: 0.2948 - acc: 0.9129 - val_loss: 0.8285 - val_acc: 0.8159\n",
      "Epoch 10/16\n",
      "87683/87683 [==============================] - 13s 150us/step - loss: 0.2790 - acc: 0.9177 - val_loss: 0.8387 - val_acc: 0.8173\n",
      "Epoch 11/16\n",
      "87683/87683 [==============================] - 13s 149us/step - loss: 0.2540 - acc: 0.9237 - val_loss: 0.8511 - val_acc: 0.8201\n",
      "Epoch 12/16\n",
      "87683/87683 [==============================] - 13s 149us/step - loss: 0.2404 - acc: 0.9285 - val_loss: 0.8795 - val_acc: 0.8202\n",
      "Epoch 13/16\n",
      "87683/87683 [==============================] - 13s 150us/step - loss: 0.2288 - acc: 0.9314 - val_loss: 0.8902 - val_acc: 0.8201\n",
      "Epoch 14/16\n",
      "87683/87683 [==============================] - 13s 150us/step - loss: 0.2321 - acc: 0.9310 - val_loss: 0.8818 - val_acc: 0.8217\n",
      "Epoch 15/16\n",
      "87683/87683 [==============================] - 13s 150us/step - loss: 0.2206 - acc: 0.9349 - val_loss: 0.9133 - val_acc: 0.8202\n",
      "Epoch 16/16\n",
      "87683/87683 [==============================] - 13s 150us/step - loss: 0.2145 - acc: 0.9360 - val_loss: 0.9551 - val_acc: 0.8171\n"
     ]
    }
   ],
   "source": [
    "history2 = model2.fit(x_train, y_train,\n",
    "            batch_size=512,\n",
    "            epochs=16,\n",
    "            validation_data=(x_test, y_test))"
   ]
  },
  {
   "cell_type": "code",
   "execution_count": 136,
   "metadata": {
    "colab": {
     "base_uri": "https://localhost:8080/",
     "height": 51
    },
    "colab_type": "code",
    "id": "jM0tI56s5YXS",
    "outputId": "2996fc59-64d4-4c40-c733-22dbb1510968"
   },
   "outputs": [
    {
     "name": "stdout",
     "output_type": "stream",
     "text": [
      "21921/21921 [==============================] - 7s 313us/step\n",
      "accuracy 0.8170703891245837\n"
     ]
    }
   ],
   "source": [
    "print('accuracy', model2.evaluate(x_test, y_test)[1])"
   ]
  },
  {
   "cell_type": "markdown",
   "metadata": {
    "colab_type": "text",
    "id": "PGZb0_fOCtFy"
   },
   "source": [
    "#### 3. Bidirectional LSTM"
   ]
  },
  {
   "cell_type": "code",
   "execution_count": 0,
   "metadata": {
    "colab": {},
    "colab_type": "code",
    "collapsed": true,
    "id": "tmhmapAuCuT-"
   },
   "outputs": [],
   "source": [
    "model3 = Sequential()\n",
    "model3.add(Embedding(input_dim=max_features,\n",
    "                     output_dim=128))\n",
    "model3.add(Bidirectional(CuDNNLSTM(128)))\n",
    "model3.add(Dropout(0.5))\n",
    "model3.add(Dense(100, activation=\"softmax\"))\n",
    "\n",
    "model3.compile(optimizer=\"adam\", loss=\"sparse_categorical_crossentropy\", metrics=[\"acc\"])"
   ]
  },
  {
   "cell_type": "code",
   "execution_count": 0,
   "metadata": {
    "colab": {},
    "colab_type": "code",
    "collapsed": true,
    "id": "d_ir_RxYCuWf"
   },
   "outputs": [],
   "source": [
    "opt = keras.optimizers.Adam(lr=0.01) # speed up optimization\n",
    "model3.compile(optimizer=opt, loss=\"sparse_categorical_crossentropy\", metrics=[\"acc\"])"
   ]
  },
  {
   "cell_type": "code",
   "execution_count": 139,
   "metadata": {
    "colab": {
     "base_uri": "https://localhost:8080/",
     "height": 734
    },
    "colab_type": "code",
    "id": "Whjxkmj8CuZK",
    "outputId": "29c38e98-ec26-4c9b-afb3-158abe9ec3ed"
   },
   "outputs": [
    {
     "name": "stdout",
     "output_type": "stream",
     "text": [
      "Train on 87683 samples, validate on 21921 samples\n",
      "Epoch 1/20\n",
      "87683/87683 [==============================] - 27s 305us/step - loss: 1.9903 - acc: 0.4142 - val_loss: 1.0667 - val_acc: 0.6767\n",
      "Epoch 2/20\n",
      "87683/87683 [==============================] - 25s 283us/step - loss: 0.8888 - acc: 0.7377 - val_loss: 0.7888 - val_acc: 0.7617\n",
      "Epoch 3/20\n",
      "87683/87683 [==============================] - 25s 280us/step - loss: 0.6310 - acc: 0.8122 - val_loss: 0.7106 - val_acc: 0.7929\n",
      "Epoch 4/20\n",
      "87683/87683 [==============================] - 25s 282us/step - loss: 0.4906 - acc: 0.8547 - val_loss: 0.6981 - val_acc: 0.8000\n",
      "Epoch 5/20\n",
      "87683/87683 [==============================] - 25s 282us/step - loss: 0.3985 - acc: 0.8819 - val_loss: 0.7086 - val_acc: 0.8145\n",
      "Epoch 6/20\n",
      "87683/87683 [==============================] - 25s 283us/step - loss: 0.3378 - acc: 0.8997 - val_loss: 0.7127 - val_acc: 0.8206\n",
      "Epoch 7/20\n",
      "87683/87683 [==============================] - 25s 281us/step - loss: 0.2889 - acc: 0.9145 - val_loss: 0.7179 - val_acc: 0.8258\n",
      "Epoch 8/20\n",
      "87683/87683 [==============================] - 25s 281us/step - loss: 0.2630 - acc: 0.9217 - val_loss: 0.7462 - val_acc: 0.8286\n",
      "Epoch 9/20\n",
      "87683/87683 [==============================] - 25s 283us/step - loss: 0.2421 - acc: 0.9282 - val_loss: 0.7605 - val_acc: 0.8309\n",
      "Epoch 10/20\n",
      "87683/87683 [==============================] - 25s 283us/step - loss: 0.2279 - acc: 0.9315 - val_loss: 0.8092 - val_acc: 0.8277\n",
      "Epoch 11/20\n",
      "87683/87683 [==============================] - 25s 284us/step - loss: 0.2233 - acc: 0.9323 - val_loss: 0.8064 - val_acc: 0.8302\n",
      "Epoch 12/20\n",
      "87683/87683 [==============================] - 25s 281us/step - loss: 0.2309 - acc: 0.9305 - val_loss: 0.8258 - val_acc: 0.8316\n",
      "Epoch 13/20\n",
      "87683/87683 [==============================] - 25s 283us/step - loss: 0.2212 - acc: 0.9340 - val_loss: 0.8268 - val_acc: 0.8320\n",
      "Epoch 14/20\n",
      "87683/87683 [==============================] - 25s 284us/step - loss: 0.2005 - acc: 0.9400 - val_loss: 0.8405 - val_acc: 0.8324\n",
      "Epoch 15/20\n",
      "87683/87683 [==============================] - 25s 282us/step - loss: 0.1996 - acc: 0.9408 - val_loss: 0.8622 - val_acc: 0.8305\n",
      "Epoch 16/20\n",
      "87683/87683 [==============================] - 25s 282us/step - loss: 0.2039 - acc: 0.9395 - val_loss: 0.8626 - val_acc: 0.8307\n",
      "Epoch 17/20\n",
      "87683/87683 [==============================] - 25s 282us/step - loss: 0.2163 - acc: 0.9351 - val_loss: 0.8646 - val_acc: 0.8285\n",
      "Epoch 18/20\n",
      "87683/87683 [==============================] - 25s 283us/step - loss: 0.2195 - acc: 0.9344 - val_loss: 0.8949 - val_acc: 0.8229\n",
      "Epoch 19/20\n",
      "87683/87683 [==============================] - 25s 281us/step - loss: 0.2284 - acc: 0.9314 - val_loss: 0.8396 - val_acc: 0.8274\n",
      "Epoch 20/20\n",
      "87683/87683 [==============================] - 25s 283us/step - loss: 0.2130 - acc: 0.9357 - val_loss: 0.8553 - val_acc: 0.8325\n"
     ]
    }
   ],
   "source": [
    "history3 = model3.fit(x_train, y_train,\n",
    "            batch_size=512,\n",
    "            epochs=20,\n",
    "            validation_data=(x_test, y_test))"
   ]
  },
  {
   "cell_type": "code",
   "execution_count": 140,
   "metadata": {
    "colab": {
     "base_uri": "https://localhost:8080/",
     "height": 51
    },
    "colab_type": "code",
    "id": "thZqEIqNCubM",
    "outputId": "7dfbfc97-8e0f-45da-d550-88b105a53a60"
   },
   "outputs": [
    {
     "name": "stdout",
     "output_type": "stream",
     "text": [
      "21921/21921 [==============================] - 11s 522us/step\n",
      "accuracy 0.8325350120888646\n"
     ]
    }
   ],
   "source": [
    "print('accuracy', model3.evaluate(x_test, y_test)[1])"
   ]
  },
  {
   "cell_type": "markdown",
   "metadata": {
    "colab_type": "text",
    "id": "V_2XEgYM-AjP"
   },
   "source": [
    "#### Plots and Compare"
   ]
  },
  {
   "cell_type": "code",
   "execution_count": 19,
   "metadata": {
    "colab": {},
    "colab_type": "code",
    "collapsed": true,
    "id": "gKXaL0JP5YXX"
   },
   "outputs": [],
   "source": [
    "import seaborn as sns\n",
    "import matplotlib.pyplot as plt\n",
    "sns.set_style(\"ticks\")"
   ]
  },
  {
   "cell_type": "code",
   "execution_count": 20,
   "metadata": {
    "colab": {
     "base_uri": "https://localhost:8080/",
     "height": 119
    },
    "colab_type": "code",
    "id": "bai3ZC8P-FFG",
    "outputId": "e5d77dc8-cf08-404a-8417-1067d036654e"
   },
   "outputs": [
    {
     "data": {
      "text/plain": [
       "array([0.8778626 , 0.82705249, 0.734375  , 0.74538745, 0.81440877,\n",
       "       0.73664122, 0.9287419 , 0.85227273, 0.80676329, 0.73076923,\n",
       "       0.76663452, 0.92324561, 0.78481013, 0.74545455, 0.89481166,\n",
       "       0.74449339, 0.8632287 , 0.81333333, 0.86415094, 0.85164835,\n",
       "       0.82645804, 0.91166078, 0.88862371, 0.83291771, 0.80512821,\n",
       "       0.80040323, 0.75510204, 0.84494087])"
      ]
     },
     "execution_count": 20,
     "metadata": {},
     "output_type": "execute_result"
    }
   ],
   "source": [
    "# plot accuracy rates by author from best model\n",
    "from sklearn.metrics import classification_report, accuracy_score, confusion_matrix\n",
    "import numpy as np\n",
    "\n",
    "y_pred1 = model1.predict_classes(x_test)\n",
    "# print(classification_report(y_test, y_pred4))\n",
    "\n",
    "cm = confusion_matrix(y_test, y_pred1) # only works with sparse\n",
    "cm = cm.astype('float') / cm.sum(axis=1)[:, np.newaxis]\n",
    "accuracies = cm.diagonal()\n",
    "accuracies"
   ]
  },
  {
   "cell_type": "code",
   "execution_count": 23,
   "metadata": {
    "colab": {
     "base_uri": "https://localhost:8080/",
     "height": 511
    },
    "colab_type": "code",
    "id": "oWSs3ftkIyb_",
    "outputId": "b3202717-a503-4895-e46f-fbd094163204"
   },
   "outputs": [
    {
     "data": {
      "image/png": "[encoded data removed]",
      "text/plain": [
       "<matplotlib.figure.Figure at 0x132e7ceb8>"
      ]
     },
     "metadata": {},
     "output_type": "display_data"
    }
   ],
   "source": [
    "v_lookup = df[['variety_code', 'variety']].drop_duplicates().set_index('variety_code').to_dict()\n",
    "v_lookup = v_lookup['variety']\n",
    "\n",
    "y_test_name = np.array([v_lookup[y_code] for y_code in y_test])\n",
    "y_pred_name = np.array([v_lookup[y_code] for y_code in y_pred1])\n",
    "\n",
    "to_plot = pd.crosstab(y_test_name, y_pred_name, normalize='index')\n",
    "sns.heatmap(to_plot)\n",
    "plt.show()"
   ]
  },
  {
   "cell_type": "code",
   "execution_count": 24,
   "metadata": {
    "colab": {},
    "colab_type": "code",
    "collapsed": true,
    "id": "MailyuWT5_E0"
   },
   "outputs": [],
   "source": [
    "v_labels = sorted(v_lookup.items(), key=lambda x: x[0])\n",
    "v_labels = [vv[1] for vv in v_labels]"
   ]
  },
  {
   "cell_type": "code",
   "execution_count": 25,
   "metadata": {
    "colab": {
     "base_uri": "https://localhost:8080/",
     "height": 436
    },
    "colab_type": "code",
    "id": "Jo-EO3g2oaxC",
    "outputId": "be5a2ca0-c43d-4aa8-c7ba-be962db01d6f"
   },
   "outputs": [
    {
     "data": {
      "image/png": "[encoded data removed]",
      "text/plain": [
       "<matplotlib.figure.Figure at 0x132f46748>"
      ]
     },
     "metadata": {},
     "output_type": "display_data"
    }
   ],
   "source": [
    "# plot accuracy by wine another way\n",
    "acc_order = np.argsort(-accuracies) # get index to sort by\n",
    "\n",
    "sns.barplot(y=np.array(v_labels)[acc_order], x=accuracies[acc_order], color='#d8dcd6')\n",
    "plt.title('Test Accuracy by Variety', fontweight=\"bold\")\n",
    "plt.xlabel('Accuracy')\n",
    "sns.despine()\n",
    "plt.show()"
   ]
  },
  {
   "cell_type": "code",
   "execution_count": 29,
   "metadata": {},
   "outputs": [
    {
     "name": "stdout",
     "output_type": "stream",
     "text": [
      "Chardonnay\n",
      "Nebbiolo\n",
      "Sangiovese Grosso\n",
      "Pinot Noir\n",
      "Sauvignon Blanc\n",
      "Barbera\n",
      "Riesling\n",
      "Portuguese Red\n",
      "Corvina, Rondinella, Molinara\n",
      "Rosé\n",
      "Zinfandel\n",
      "Shiraz\n",
      "Bordeaux-style Red Blend\n",
      "Sangiovese\n",
      "Cabernet Sauvignon\n",
      "Rhône-style Red Blend\n",
      "Grüner Veltliner\n",
      "Syrah\n",
      "Tempranillo\n",
      "Pinot Grigio\n",
      "Merlot\n",
      "Viognier\n",
      "Pinot Gris\n",
      "Cabernet Franc\n",
      "Port\n",
      "Champagne Blend\n",
      "Bordeaux-style White Blend\n",
      "Malbec\n"
     ]
    }
   ],
   "source": [
    "for x in (np.array(v_labels)[acc_order]):\n",
    "    print(x)"
   ]
  },
  {
   "cell_type": "code",
   "execution_count": 30,
   "metadata": {},
   "outputs": [
    {
     "name": "stdout",
     "output_type": "stream",
     "text": [
      "0.9287419024889192\n",
      "0.9232456140350878\n",
      "0.911660777385159\n",
      "0.8948116560056859\n",
      "0.888623707239459\n",
      "0.8778625954198473\n",
      "0.8641509433962264\n",
      "0.8632286995515696\n",
      "0.8522727272727273\n",
      "0.8516483516483516\n",
      "0.8449408672798949\n",
      "0.8329177057356608\n",
      "0.8270524899057874\n",
      "0.8264580369843528\n",
      "0.8144087705559906\n",
      "0.8133333333333334\n",
      "0.8067632850241546\n",
      "0.8051282051282052\n",
      "0.8004032258064516\n",
      "0.7848101265822784\n",
      "0.7666345226615237\n",
      "0.7551020408163265\n",
      "0.7454545454545455\n",
      "0.7453874538745388\n",
      "0.7444933920704846\n",
      "0.7366412213740458\n",
      "0.734375\n",
      "0.7307692307692307\n"
     ]
    }
   ],
   "source": [
    "for x in (accuracies[acc_order]):\n",
    "    print(x)"
   ]
  },
  {
   "cell_type": "code",
   "execution_count": 149,
   "metadata": {
    "colab": {
     "base_uri": "https://localhost:8080/",
     "height": 382
    },
    "colab_type": "code",
    "id": "mycdURDQ-HGe",
    "outputId": "a1eeb587-669d-4181-acd7-60a70fd3556d"
   },
   "outputs": [
    {
     "data": {
      "image/png": "[encoded data removed]",
      "text/plain": [
       "<matplotlib.figure.Figure at 0x7f6531419d68>"
      ]
     },
     "metadata": {
      "tags": []
     },
     "output_type": "display_data"
    }
   ],
   "source": [
    "# plot as histogram\n",
    "plt.hist(accuracies, bins=6, color='navy')\n",
    "plt.title('Test Accuracy by Variety', fontweight=\"bold\")\n",
    "plt.xlabel('Accuracy')\n",
    "sns.despine()\n",
    "plt.show()"
   ]
  },
  {
   "cell_type": "code",
   "execution_count": 169,
   "metadata": {
    "colab": {
     "base_uri": "https://localhost:8080/",
     "height": 493
    },
    "colab_type": "code",
    "id": "d5jQeVOB5pJe",
    "outputId": "98ac74f3-4ee5-4e61-eaf8-3fda9abebce1"
   },
   "outputs": [
    {
     "data": {
      "text/plain": [
       "{0: 'Barbera',\n",
       " 1: 'Bordeaux-style Red Blend',\n",
       " 2: 'Bordeaux-style White Blend',\n",
       " 3: 'Cabernet Franc',\n",
       " 4: 'Cabernet Sauvignon',\n",
       " 5: 'Champagne Blend',\n",
       " 6: 'Chardonnay',\n",
       " 7: 'Corvina, Rondinella, Molinara',\n",
       " 8: 'Grüner Veltliner',\n",
       " 9: 'Malbec',\n",
       " 10: 'Merlot',\n",
       " 11: 'Nebbiolo',\n",
       " 12: 'Pinot Grigio',\n",
       " 13: 'Pinot Gris',\n",
       " 14: 'Pinot Noir',\n",
       " 15: 'Port',\n",
       " 16: 'Portuguese Red',\n",
       " 17: 'Rhône-style Red Blend',\n",
       " 18: 'Riesling',\n",
       " 19: 'Rosé',\n",
       " 20: 'Sangiovese',\n",
       " 21: 'Sangiovese Grosso',\n",
       " 22: 'Sauvignon Blanc',\n",
       " 23: 'Shiraz',\n",
       " 24: 'Syrah',\n",
       " 25: 'Tempranillo',\n",
       " 26: 'Viognier',\n",
       " 27: 'Zinfandel'}"
      ]
     },
     "execution_count": 169,
     "metadata": {
      "tags": []
     },
     "output_type": "execute_result"
    }
   ],
   "source": [
    "v_lookup"
   ]
  },
  {
   "cell_type": "markdown",
   "metadata": {
    "colab_type": "text",
    "id": "WVwzZvVvqyRj"
   },
   "source": [
    "#### Save Simple Model "
   ]
  },
  {
   "cell_type": "code",
   "execution_count": 0,
   "metadata": {
    "colab": {},
    "colab_type": "code",
    "collapsed": true,
    "id": "i-02sn97q0ht"
   },
   "outputs": [],
   "source": [
    "# save model\n",
    "model1.save('/content/gdrive/My Drive/colab/wine_model_l.h5')"
   ]
  },
  {
   "cell_type": "code",
   "execution_count": 166,
   "metadata": {
    "colab": {
     "base_uri": "https://localhost:8080/",
     "height": 493
    },
    "colab_type": "code",
    "id": "63XFb95Dyqzy",
    "outputId": "7e296d28-051a-455c-ddb2-58d49d0a33cd"
   },
   "outputs": [
    {
     "data": {
      "text/plain": [
       "{0: 'Barbera',\n",
       " 1: 'Bordeaux-style Red Blend',\n",
       " 2: 'Bordeaux-style White Blend',\n",
       " 3: 'Cabernet Franc',\n",
       " 4: 'Cabernet Sauvignon',\n",
       " 5: 'Champagne Blend',\n",
       " 6: 'Chardonnay',\n",
       " 7: 'Corvina, Rondinella, Molinara',\n",
       " 8: 'Grüner Veltliner',\n",
       " 9: 'Malbec',\n",
       " 10: 'Merlot',\n",
       " 11: 'Nebbiolo',\n",
       " 12: 'Pinot Grigio',\n",
       " 13: 'Pinot Gris',\n",
       " 14: 'Pinot Noir',\n",
       " 15: 'Port',\n",
       " 16: 'Portuguese Red',\n",
       " 17: 'Rhône-style Red Blend',\n",
       " 18: 'Riesling',\n",
       " 19: 'Rosé',\n",
       " 20: 'Sangiovese',\n",
       " 21: 'Sangiovese Grosso',\n",
       " 22: 'Sauvignon Blanc',\n",
       " 23: 'Shiraz',\n",
       " 24: 'Syrah',\n",
       " 25: 'Tempranillo',\n",
       " 26: 'Viognier',\n",
       " 27: 'Zinfandel'}"
      ]
     },
     "execution_count": 166,
     "metadata": {
      "tags": []
     },
     "output_type": "execute_result"
    }
   ],
   "source": [
    "# save tokenizer\n",
    "import pickle\n",
    "tokenizer_path = '/content/gdrive/My Drive/colab/tokenizer.pkl'\n",
    "pickle.dump(tokenizer, open(tokenizer_path, 'wb'), protocol=pickle.HIGHEST_PROTOCOL)"
   ]
  }
 ],
 "metadata": {
  "accelerator": "GPU",
  "colab": {
   "name": "create_multiclass_models.ipynb",
   "provenance": [],
   "toc_visible": true,
   "version": "0.3.2"
  },
  "kernelspec": {
   "display_name": "Python 3",
   "language": "python",
   "name": "python3"
  },
  "language_info": {
   "codemirror_mode": {
    "name": "ipython",
    "version": 3
   },
   "file_extension": ".py",
   "mimetype": "text/x-python",
   "name": "python",
   "nbconvert_exporter": "python",
   "pygments_lexer": "ipython3",
   "version": "3.6.1"
  }
 },
 "nbformat": 4,
 "nbformat_minor": 1
}
