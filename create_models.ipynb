{
 "cells": [
  {
   "cell_type": "markdown",
   "metadata": {},
   "source": [
    "<center> <h3> Final Project | ANLY-580 </h3>\n",
    "<h4>  Georgetown University | Fall 2018</h4>\n",
    "<center>"
   ]
  },
  {
   "cell_type": "markdown",
   "metadata": {},
   "source": [
    "#### Prep"
   ]
  },
  {
   "cell_type": "code",
   "execution_count": 3,
   "metadata": {},
   "outputs": [],
   "source": [
    "# set working directory\n",
    "import os\n",
    "import sys\n",
    "project_root = '/Users/kgedney/Documents/georgetown/anly580/anly580-wine-project'\n",
    "os.chdir(project_root)"
   ]
  },
  {
   "cell_type": "code",
   "execution_count": 130,
   "metadata": {
    "collapsed": true
   },
   "outputs": [],
   "source": [
    "# install packages\n",
    "import numpy as np\n",
    "import pandas as pd"
   ]
  },
  {
   "cell_type": "code",
   "execution_count": 14,
   "metadata": {},
   "outputs": [],
   "source": [
    "# load data\n",
    "df = pd.read_csv('data/cellarinsider_raw.csv', encoding='utf-8')"
   ]
  },
  {
   "cell_type": "markdown",
   "metadata": {},
   "source": [
    "#### Data Preprocessing"
   ]
  },
  {
   "cell_type": "code",
   "execution_count": 16,
   "metadata": {},
   "outputs": [
    {
     "data": {
      "text/html": [
       "<div>\n",
       "<style scoped>\n",
       "    .dataframe tbody tr th:only-of-type {\n",
       "        vertical-align: middle;\n",
       "    }\n",
       "\n",
       "    .dataframe tbody tr th {\n",
       "        vertical-align: top;\n",
       "    }\n",
       "\n",
       "    .dataframe thead th {\n",
       "        text-align: right;\n",
       "    }\n",
       "</style>\n",
       "<table border=\"1\" class=\"dataframe\">\n",
       "  <thead>\n",
       "    <tr style=\"text-align: right;\">\n",
       "      <th></th>\n",
       "      <th>Unnamed: 0</th>\n",
       "      <th>note_id</th>\n",
       "      <th>rating</th>\n",
       "      <th>year</th>\n",
       "    </tr>\n",
       "  </thead>\n",
       "  <tbody>\n",
       "    <tr>\n",
       "      <th>count</th>\n",
       "      <td>17713.000000</td>\n",
       "      <td>17713.000000</td>\n",
       "      <td>17713.000000</td>\n",
       "      <td>17713.000000</td>\n",
       "    </tr>\n",
       "    <tr>\n",
       "      <th>mean</th>\n",
       "      <td>8856.000000</td>\n",
       "      <td>0.952408</td>\n",
       "      <td>91.805058</td>\n",
       "      <td>2002.216225</td>\n",
       "    </tr>\n",
       "    <tr>\n",
       "      <th>std</th>\n",
       "      <td>5113.446995</td>\n",
       "      <td>2.125400</td>\n",
       "      <td>4.609024</td>\n",
       "      <td>35.300473</td>\n",
       "    </tr>\n",
       "    <tr>\n",
       "      <th>min</th>\n",
       "      <td>0.000000</td>\n",
       "      <td>0.000000</td>\n",
       "      <td>0.000000</td>\n",
       "      <td>1001.000000</td>\n",
       "    </tr>\n",
       "    <tr>\n",
       "      <th>25%</th>\n",
       "      <td>4428.000000</td>\n",
       "      <td>0.000000</td>\n",
       "      <td>89.000000</td>\n",
       "      <td>1999.000000</td>\n",
       "    </tr>\n",
       "    <tr>\n",
       "      <th>50%</th>\n",
       "      <td>8856.000000</td>\n",
       "      <td>0.000000</td>\n",
       "      <td>92.000000</td>\n",
       "      <td>2009.000000</td>\n",
       "    </tr>\n",
       "    <tr>\n",
       "      <th>75%</th>\n",
       "      <td>13284.000000</td>\n",
       "      <td>1.000000</td>\n",
       "      <td>95.000000</td>\n",
       "      <td>2013.000000</td>\n",
       "    </tr>\n",
       "    <tr>\n",
       "      <th>max</th>\n",
       "      <td>17712.000000</td>\n",
       "      <td>23.000000</td>\n",
       "      <td>100.000000</td>\n",
       "      <td>2017.000000</td>\n",
       "    </tr>\n",
       "  </tbody>\n",
       "</table>\n",
       "</div>"
      ],
      "text/plain": [
       "         Unnamed: 0       note_id        rating          year\n",
       "count  17713.000000  17713.000000  17713.000000  17713.000000\n",
       "mean    8856.000000      0.952408     91.805058   2002.216225\n",
       "std     5113.446995      2.125400      4.609024     35.300473\n",
       "min        0.000000      0.000000      0.000000   1001.000000\n",
       "25%     4428.000000      0.000000     89.000000   1999.000000\n",
       "50%     8856.000000      0.000000     92.000000   2009.000000\n",
       "75%    13284.000000      1.000000     95.000000   2013.000000\n",
       "max    17712.000000     23.000000    100.000000   2017.000000"
      ]
     },
     "execution_count": 16,
     "metadata": {},
     "output_type": "execute_result"
    }
   ],
   "source": [
    "# check how many samples per class\n",
    "df.describe()"
   ]
  },
  {
   "cell_type": "code",
   "execution_count": 29,
   "metadata": {},
   "outputs": [],
   "source": [
    "df[df.region == 'California']\n",
    "\n",
    "df['is_pinot_noir'] = df.bottle.apply(lambda x: 'pinot noir' in x.lower())\n",
    "df['is_cabernet_sauvignon'] = df.bottle.apply(lambda x: 'cabernet sauvignon' in x.lower())"
   ]
  },
  {
   "cell_type": "code",
   "execution_count": 30,
   "metadata": {},
   "outputs": [
    {
     "name": "stdout",
     "output_type": "stream",
     "text": [
      "49\n",
      "933\n"
     ]
    }
   ],
   "source": [
    "print(df.is_pinot_noir.sum())\n",
    "print(df.is_cabernet_sauvignon.sum())"
   ]
  },
  {
   "cell_type": "code",
   "execution_count": null,
   "metadata": {
    "collapsed": true
   },
   "outputs": [],
   "source": [
    "# notes:\n",
    "# maybe use kaggle data plus bordeaux and rhone that I scraped\n",
    "# train on kaggle then test on my dataset!"
   ]
  },
  {
   "cell_type": "markdown",
   "metadata": {},
   "source": [
    "#### Text Cleaning"
   ]
  },
  {
   "cell_type": "code",
   "execution_count": null,
   "metadata": {
    "collapsed": true
   },
   "outputs": [],
   "source": [
    "# make lowercase, strip diacritics, strip punctuation"
   ]
  },
  {
   "cell_type": "code",
   "execution_count": null,
   "metadata": {
    "collapsed": true
   },
   "outputs": [],
   "source": [
    "# drop leakage words - ie. california, bordeaux, granache, etc."
   ]
  },
  {
   "cell_type": "code",
   "execution_count": null,
   "metadata": {
    "collapsed": true
   },
   "outputs": [],
   "source": []
  },
  {
   "cell_type": "markdown",
   "metadata": {},
   "source": [
    "### Bordeaux vs. Not Bordeaux"
   ]
  },
  {
   "cell_type": "markdown",
   "metadata": {},
   "source": [
    "#### Prep"
   ]
  },
  {
   "cell_type": "code",
   "execution_count": 134,
   "metadata": {},
   "outputs": [
    {
     "name": "stderr",
     "output_type": "stream",
     "text": [
      "/Users/kgedney/anaconda/lib/python3.6/site-packages/h5py/__init__.py:34: FutureWarning: Conversion of the second argument of issubdtype from `float` to `np.floating` is deprecated. In future, it will be treated as `np.float64 == np.dtype(float).type`.\n",
      "  from ._conv import register_converters as _register_converters\n",
      "Using TensorFlow backend.\n"
     ]
    }
   ],
   "source": [
    "# install packages\n",
    "import numpy as np\n",
    "\n",
    "from sklearn import metrics\n",
    "from sklearn.model_selection import train_test_split\n",
    "from sklearn.feature_extraction.text import CountVectorizer, TfidfVectorizer\n",
    "\n",
    "import tensorflow as tf\n",
    "from keras.preprocessing import sequence\n",
    "from keras.preprocessing.text import Tokenizer\n",
    "\n",
    "from keras.models import Model, Sequential\n",
    "\n",
    "from keras.layers import Input, Dense\n",
    "from keras.layers import LSTM, Embedding\n",
    "from keras.layers.core import Dense, Dropout"
   ]
  },
  {
   "cell_type": "code",
   "execution_count": 129,
   "metadata": {
    "collapsed": true
   },
   "outputs": [],
   "source": [
    "# assign classes\n",
    "df['bordeaux_class'] = (df.region == 'Bordeaux').astype(int)"
   ]
  },
  {
   "cell_type": "code",
   "execution_count": 147,
   "metadata": {
    "collapsed": true
   },
   "outputs": [],
   "source": [
    "x = df.note.values\n",
    "y = df.bordeaux_class.values"
   ]
  },
  {
   "cell_type": "code",
   "execution_count": 136,
   "metadata": {
    "collapsed": true
   },
   "outputs": [],
   "source": [
    "x_train, x_test, y_train, y_test = train_test_split(x, y, test_size=0.2, random_state=522)"
   ]
  },
  {
   "cell_type": "markdown",
   "metadata": {},
   "source": [
    "##### Baseline Model - Linear SVM"
   ]
  },
  {
   "cell_type": "code",
   "execution_count": 62,
   "metadata": {},
   "outputs": [
    {
     "name": "stderr",
     "output_type": "stream",
     "text": [
      "/Users/kgedney/anaconda/lib/python3.6/site-packages/sklearn/feature_extraction/text.py:1059: FutureWarning: Conversion of the second argument of issubdtype from `float` to `np.floating` is deprecated. In future, it will be treated as `np.float64 == np.dtype(float).type`.\n",
      "  if hasattr(X, 'dtype') and np.issubdtype(X.dtype, np.float):\n"
     ]
    },
    {
     "data": {
      "text/plain": [
       "(14170, 8462)"
      ]
     },
     "execution_count": 62,
     "metadata": {},
     "output_type": "execute_result"
    }
   ],
   "source": [
    "# data preprocess\n",
    "tfidf_vec   = TfidfVectorizer()\n",
    "x_train_vec = tfidf_vec.fit_transform(x_train)\n",
    "x_test_vec  = tfidf_vec.transform(x_test)\n",
    "x_train_vec.shape"
   ]
  },
  {
   "cell_type": "code",
   "execution_count": 104,
   "metadata": {},
   "outputs": [
    {
     "name": "stdout",
     "output_type": "stream",
     "text": [
      "predicted    0     1   All\n",
      "row_0                     \n",
      "False      424   604  1028\n",
      "True         9  2506  2515\n",
      "All        433  3110  3543\n",
      "---\n",
      "accuracy 0.8269827829523003\n",
      "auc score 0.9093924778179174\n"
     ]
    }
   ],
   "source": [
    "from sklearn.naive_bayes import MultinomialNB\n",
    "clf             = MultinomialNB().fit(x_train_vec, y_train)\n",
    "predicted       = clf.predict(x_test_vec)\n",
    "predicted_score = clf.predict_proba(x_test_vec)[:,1]\n",
    "\n",
    "print(pd.crosstab(y_test == 1, predicted, colnames=['predicted'], margins=True))\n",
    "print('---')\n",
    "print('accuracy', metrics.accuracy_score(y_test, predicted))\n",
    "print('auc score', metrics.roc_auc_score(y_test, predicted_score))"
   ]
  },
  {
   "cell_type": "code",
   "execution_count": 109,
   "metadata": {},
   "outputs": [
    {
     "name": "stdout",
     "output_type": "stream",
     "text": [
      "predicted    0     1   All\n",
      "row_0                     \n",
      "False      750   278  1028\n",
      "True       151  2364  2515\n",
      "All        901  2642  3543\n",
      "---\n",
      "accuracy 0.8789161727349704\n",
      "auc score 0.9264036404143234\n"
     ]
    }
   ],
   "source": [
    "from sklearn.svm import LinearSVC\n",
    "clf             = LinearSVC().fit(x_train_vec, y_train)\n",
    "predicted       = clf.predict(x_test_vec)\n",
    "predicted_score = clf.decision_function(x_test_vec)\n",
    "\n",
    "print(pd.crosstab(y_test == 1, predicted, colnames=['predicted'], margins=True))\n",
    "print('---')\n",
    "print('accuracy', metrics.accuracy_score(y_test, predicted))\n",
    "print('auc score', metrics.roc_auc_score(y_test, predicted_score))"
   ]
  },
  {
   "cell_type": "code",
   "execution_count": 111,
   "metadata": {},
   "outputs": [
    {
     "data": {
      "text/plain": [
       "(1, 8462)"
      ]
     },
     "execution_count": 111,
     "metadata": {},
     "output_type": "execute_result"
    }
   ],
   "source": [
    "clf.coef_.shape"
   ]
  },
  {
   "cell_type": "code",
   "execution_count": 131,
   "metadata": {},
   "outputs": [
    {
     "name": "stdout",
     "output_type": "stream",
     "text": [
      "low bordeaux words\n",
      "[['california' '1308']\n",
      " ['grenache' '3541']\n",
      " ['garrigue' '3359']\n",
      " ['pepper' '5492']\n",
      " ['kirsch' '4159']]\n",
      "--\n",
      "high bordeaux words\n",
      "[['blanc' '989']\n",
      " ['cedar' '1427']\n",
      " ['pomerol' '5711']\n",
      " ['pts' '5936']\n",
      " ['merlot' '4783']]\n"
     ]
    }
   ],
   "source": [
    "coefs = clf.coef_.squeeze()\n",
    "\n",
    "vocab = list(tfidf_vec.vocabulary_.items())\n",
    "vocab = sorted(vocab, key=lambda x: x[1])\n",
    "vocab = np.array(vocab)\n",
    "\n",
    "print('low bordeaux words')\n",
    "print(vocab[np.argsort(coefs)[:5]])\n",
    "print('--')\n",
    "print('high bordeaux words')\n",
    "print(vocab[np.argsort(coefs)[-5:]])"
   ]
  },
  {
   "cell_type": "code",
   "execution_count": null,
   "metadata": {},
   "outputs": [],
   "source": []
  },
  {
   "cell_type": "markdown",
   "metadata": {},
   "source": [
    "##### Model - LSTM"
   ]
  },
  {
   "cell_type": "code",
   "execution_count": 148,
   "metadata": {},
   "outputs": [],
   "source": [
    "# data preprocess -> create sequences\n",
    "max_features = 20000\n",
    "tokenizer    = Tokenizer(num_words = max_features)\n",
    "tokenizer.fit_on_texts(x)\n",
    "x_sequences  = tokenizer.texts_to_sequences(x)"
   ]
  },
  {
   "cell_type": "code",
   "execution_count": 149,
   "metadata": {},
   "outputs": [
    {
     "name": "stdout",
     "output_type": "stream",
     "text": [
      "256\n"
     ]
    }
   ],
   "source": [
    "# pad each sequence to be max length of 256\n",
    "maxlen = max(len(x) for x in x_sequences)\n",
    "print(maxlen)\n",
    "x_sequences = sequence.pad_sequences(x_sequences, maxlen)"
   ]
  },
  {
   "cell_type": "code",
   "execution_count": 150,
   "metadata": {},
   "outputs": [
    {
     "data": {
      "text/plain": [
       "(17713, 256)"
      ]
     },
     "execution_count": 150,
     "metadata": {},
     "output_type": "execute_result"
    }
   ],
   "source": [
    "# convert into matrix with 17713 rows, 256 cols and values 1-9523\n",
    "x_sequences = np.asmatrix(x_sequences)\n",
    "x_sequences.shape"
   ]
  },
  {
   "cell_type": "code",
   "execution_count": 152,
   "metadata": {
    "collapsed": true
   },
   "outputs": [],
   "source": [
    "# split test and train\n",
    "x_train, x_test, y_train, y_test = train_test_split(x_sequences, y, test_size=0.20, random_state=522)"
   ]
  },
  {
   "cell_type": "code",
   "execution_count": 161,
   "metadata": {},
   "outputs": [],
   "source": [
    "model = Sequential()\n",
    "\n",
    "# add embedding layer\n",
    "model.add(Embedding(input_dim=max_features,\n",
    "                    output_dim=128))\n",
    "# add rnn layer\n",
    "model.add(LSTM(128))\n",
    "model.add(Dropout(0.2))\n",
    "\n",
    "# output layer, binary classification\n",
    "model.add(Dense(1, activation=\"sigmoid\"))"
   ]
  },
  {
   "cell_type": "code",
   "execution_count": 162,
   "metadata": {
    "collapsed": true
   },
   "outputs": [],
   "source": [
    "model.compile(optimizer=\"rmsprop\", loss=\"binary_crossentropy\", metrics=[\"acc\"])"
   ]
  },
  {
   "cell_type": "code",
   "execution_count": 163,
   "metadata": {},
   "outputs": [
    {
     "name": "stdout",
     "output_type": "stream",
     "text": [
      "Train on 14170 samples, validate on 3543 samples\n",
      "Epoch 1/5\n",
      "14170/14170 [==============================] - 62s 4ms/step - loss: 0.4758 - acc: 0.7783 - val_loss: 0.3372 - val_acc: 0.8637\n",
      "Epoch 2/5\n",
      "14170/14170 [==============================] - 69s 5ms/step - loss: 0.2917 - acc: 0.8817 - val_loss: 0.3246 - val_acc: 0.8580\n",
      "Epoch 3/5\n",
      "14170/14170 [==============================] - 79s 6ms/step - loss: 0.2510 - acc: 0.8984 - val_loss: 0.2994 - val_acc: 0.8792\n",
      "Epoch 4/5\n",
      "14170/14170 [==============================] - 92s 6ms/step - loss: 0.2268 - acc: 0.9117 - val_loss: 0.3334 - val_acc: 0.8631\n",
      "Epoch 5/5\n",
      "14170/14170 [==============================] - 90s 6ms/step - loss: 0.2056 - acc: 0.9174 - val_loss: 0.3115 - val_acc: 0.8648\n"
     ]
    },
    {
     "data": {
      "text/plain": [
       "<keras.callbacks.History at 0x13a061898>"
      ]
     },
     "execution_count": 163,
     "metadata": {},
     "output_type": "execute_result"
    }
   ],
   "source": [
    "model.fit(x_train, y_train,\n",
    "            batch_size=128,\n",
    "            epochs=5,\n",
    "            validation_data=(x_test, y_test))"
   ]
  },
  {
   "cell_type": "code",
   "execution_count": 168,
   "metadata": {},
   "outputs": [
    {
     "name": "stdout",
     "output_type": "stream",
     "text": [
      "3543/3543 [==============================] - 5s 1ms/step\n",
      "accuracy 0.8648038386894827\n"
     ]
    }
   ],
   "source": [
    "print('accuracy', model.evaluate(x_test, y_test)[1])"
   ]
  },
  {
   "cell_type": "code",
   "execution_count": 166,
   "metadata": {},
   "outputs": [
    {
     "data": {
      "text/html": [
       "<div>\n",
       "<style scoped>\n",
       "    .dataframe tbody tr th:only-of-type {\n",
       "        vertical-align: middle;\n",
       "    }\n",
       "\n",
       "    .dataframe tbody tr th {\n",
       "        vertical-align: top;\n",
       "    }\n",
       "\n",
       "    .dataframe thead th {\n",
       "        text-align: right;\n",
       "    }\n",
       "</style>\n",
       "<table border=\"1\" class=\"dataframe\">\n",
       "  <thead>\n",
       "    <tr style=\"text-align: right;\">\n",
       "      <th>predicted</th>\n",
       "      <th>False</th>\n",
       "      <th>True</th>\n",
       "      <th>All</th>\n",
       "    </tr>\n",
       "    <tr>\n",
       "      <th>row_0</th>\n",
       "      <th></th>\n",
       "      <th></th>\n",
       "      <th></th>\n",
       "    </tr>\n",
       "  </thead>\n",
       "  <tbody>\n",
       "    <tr>\n",
       "      <th>0</th>\n",
       "      <td>825</td>\n",
       "      <td>203</td>\n",
       "      <td>1028</td>\n",
       "    </tr>\n",
       "    <tr>\n",
       "      <th>1</th>\n",
       "      <td>276</td>\n",
       "      <td>2239</td>\n",
       "      <td>2515</td>\n",
       "    </tr>\n",
       "    <tr>\n",
       "      <th>All</th>\n",
       "      <td>1101</td>\n",
       "      <td>2442</td>\n",
       "      <td>3543</td>\n",
       "    </tr>\n",
       "  </tbody>\n",
       "</table>\n",
       "</div>"
      ],
      "text/plain": [
       "predicted  False  True   All\n",
       "row_0                       \n",
       "0            825   203  1028\n",
       "1            276  2239  2515\n",
       "All         1101  2442  3543"
      ]
     },
     "execution_count": 166,
     "metadata": {},
     "output_type": "execute_result"
    }
   ],
   "source": [
    "# check confusion matrix\n",
    "y_test_preds       = model.predict(x_test, batch_size=64)\n",
    "y_test_preds_class = y_test_preds > 0.5\n",
    "\n",
    "pd.crosstab(y_test, y_test_preds_class[:,0], colnames=['predicted'], margins=True)"
   ]
  },
  {
   "cell_type": "markdown",
   "metadata": {},
   "source": [
    "##### Word2Vec and Fast Text"
   ]
  },
  {
   "cell_type": "code",
   "execution_count": null,
   "metadata": {
    "collapsed": true
   },
   "outputs": [],
   "source": [
    "# train word embeddings # https://towardsdatascience.com/word-embedding-with-word2vec-and-fasttext-a209c1d3e12c"
   ]
  },
  {
   "cell_type": "code",
   "execution_count": null,
   "metadata": {
    "collapsed": true
   },
   "outputs": [],
   "source": []
  },
  {
   "cell_type": "code",
   "execution_count": null,
   "metadata": {
    "collapsed": true
   },
   "outputs": [],
   "source": []
  },
  {
   "cell_type": "code",
   "execution_count": null,
   "metadata": {
    "collapsed": true
   },
   "outputs": [],
   "source": []
  },
  {
   "cell_type": "markdown",
   "metadata": {},
   "source": [
    "##### Word2Vec and T-SNE"
   ]
  },
  {
   "cell_type": "code",
   "execution_count": null,
   "metadata": {
    "collapsed": true
   },
   "outputs": [],
   "source": []
  }
 ],
 "metadata": {
  "kernelspec": {
   "display_name": "Python 3",
   "language": "python",
   "name": "python3"
  },
  "language_info": {
   "codemirror_mode": {
    "name": "ipython",
    "version": 3
   },
   "file_extension": ".py",
   "mimetype": "text/x-python",
   "name": "python",
   "nbconvert_exporter": "python",
   "pygments_lexer": "ipython3",
   "version": "3.6.1"
  }
 },
 "nbformat": 4,
 "nbformat_minor": 2
}
