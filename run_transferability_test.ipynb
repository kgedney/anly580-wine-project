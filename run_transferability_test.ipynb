{
 "cells": [
  {
   "cell_type": "markdown",
   "metadata": {},
   "source": [
    "<center> <h3> Final Project | ANLY-580 </h3>\n",
    "<h4>  Georgetown University | Fall 2018</h4>\n",
    "<center>"
   ]
  },
  {
   "cell_type": "markdown",
   "metadata": {},
   "source": [
    "Test how well models trained on Wine Enthusiast Data transfer to winecellarinsider.com data"
   ]
  },
  {
   "cell_type": "markdown",
   "metadata": {},
   "source": [
    "### Prep"
   ]
  },
  {
   "cell_type": "code",
   "execution_count": 19,
   "metadata": {
    "collapsed": true
   },
   "outputs": [],
   "source": [
    "import os\n",
    "import sys\n",
    "project_root = '/Users/kgedney/Documents/georgetown/anly580/anly580-wine-project'\n",
    "os.chdir(project_root)"
   ]
  },
  {
   "cell_type": "code",
   "execution_count": 20,
   "metadata": {
    "collapsed": true
   },
   "outputs": [],
   "source": [
    "# install packages\n",
    "import numpy as np\n",
    "import pandas as pd\n",
    "\n",
    "from sklearn import metrics\n",
    "from sklearn.model_selection import train_test_split\n",
    "from sklearn.feature_extraction.text import CountVectorizer, TfidfVectorizer"
   ]
  },
  {
   "cell_type": "code",
   "execution_count": 21,
   "metadata": {},
   "outputs": [],
   "source": [
    "# load scraped data from wine cellar to be the test set\n",
    "df_full = pd.read_csv('data/cellarinsider_raw.csv', encoding='utf8')"
   ]
  },
  {
   "cell_type": "code",
   "execution_count": 22,
   "metadata": {},
   "outputs": [],
   "source": [
    "df_full.columns\n",
    "del df_full['Unnamed: 0']"
   ]
  },
  {
   "cell_type": "markdown",
   "metadata": {},
   "source": [
    "### Prep Classes"
   ]
  },
  {
   "cell_type": "code",
   "execution_count": 23,
   "metadata": {
    "collapsed": true
   },
   "outputs": [],
   "source": [
    "# these are the 28 classes that it is trained on:\n",
    "\n",
    "# {0: 'Barbera',\n",
    "#  1: 'Bordeaux-style Red Blend',\n",
    "#  2: 'Bordeaux-style White Blend',\n",
    "#  3: 'Cabernet Franc',\n",
    "#  4: 'Cabernet Sauvignon',\n",
    "#  5: 'Champagne Blend',\n",
    "#  6: 'Chardonnay',\n",
    "#  7: 'Corvina, Rondinella, Molinara',\n",
    "#  8: 'Grüner Veltliner',\n",
    "#  9: 'Malbec',\n",
    "#  10: 'Merlot',\n",
    "#  11: 'Nebbiolo',\n",
    "#  12: 'Pinot Grigio',\n",
    "#  13: 'Pinot Gris',\n",
    "#  14: 'Pinot Noir',\n",
    "#  15: 'Port',\n",
    "#  16: 'Portuguese Red',\n",
    "#  17: 'Rhône-style Red Blend',\n",
    "#  18: 'Riesling',\n",
    "#  19: 'Rosé',\n",
    "#  20: 'Sangiovese',\n",
    "#  21: 'Sangiovese Grosso',\n",
    "#  22: 'Sauvignon Blanc',\n",
    "#  23: 'Shiraz',\n",
    "#  24: 'Syrah',\n",
    "#  25: 'Tempranillo',\n",
    "#  26: 'Viognier',\n",
    "#  27: 'Zinfandel'}"
   ]
  },
  {
   "cell_type": "code",
   "execution_count": 108,
   "metadata": {
    "collapsed": true
   },
   "outputs": [],
   "source": [
    "df_full['is_pinot_noir']         = df_full.bottle.apply(lambda x: 'pinot noir' in x.lower())\n",
    "df_full['is_cabernet_sauvignon'] = df_full.bottle.apply(lambda x: 'cabernet sauvignon' in x.lower())\n",
    "df_full['is_chardonnay']         = df_full.bottle.apply(lambda x: 'chardonnay' in x.lower())\n",
    "df_full['is_cabernet_franc']     = df_full.bottle.apply(lambda x: 'cabernet franc' in x.lower())"
   ]
  },
  {
   "cell_type": "code",
   "execution_count": 109,
   "metadata": {},
   "outputs": [
    {
     "name": "stdout",
     "output_type": "stream",
     "text": [
      "49\n",
      "933\n",
      "162\n",
      "20\n"
     ]
    }
   ],
   "source": [
    "print(df_full.is_pinot_noir.sum())\n",
    "print(df_full.is_cabernet_sauvignon.sum())\n",
    "print(df_full.is_chardonnay.sum())\n",
    "print(df_full.is_cabernet_franc.sum())"
   ]
  },
  {
   "cell_type": "code",
   "execution_count": 110,
   "metadata": {},
   "outputs": [],
   "source": [
    "df_full['variety_code'] = None"
   ]
  },
  {
   "cell_type": "code",
   "execution_count": 111,
   "metadata": {},
   "outputs": [
    {
     "name": "stderr",
     "output_type": "stream",
     "text": [
      "/Users/kgedney/anaconda/lib/python3.6/site-packages/pandas/core/indexing.py:189: SettingWithCopyWarning: \n",
      "A value is trying to be set on a copy of a slice from a DataFrame\n",
      "\n",
      "See the caveats in the documentation: http://pandas.pydata.org/pandas-docs/stable/indexing.html#indexing-view-versus-copy\n",
      "  self._setitem_with_indexer(indexer, value)\n"
     ]
    }
   ],
   "source": [
    "df_full['variety_code'].loc[df_full.is_cabernet_franc == True] = 3\n",
    "df_full['variety_code'].loc[df_full.is_cabernet_sauvignon == True] = 4\n",
    "df_full['variety_code'].loc[df_full.is_chardonnay == True] = 6\n",
    "df_full['variety_code'].loc[df_full.is_pinot_noir == True] = 14"
   ]
  },
  {
   "cell_type": "code",
   "execution_count": 112,
   "metadata": {},
   "outputs": [],
   "source": [
    "df = df_full[~df_full.variety_code.isna()].reset_index(drop=True)"
   ]
  },
  {
   "cell_type": "code",
   "execution_count": 113,
   "metadata": {},
   "outputs": [
    {
     "data": {
      "text/plain": [
       "4     933\n",
       "6     162\n",
       "14     49\n",
       "3      20\n",
       "Name: variety_code, dtype: int64"
      ]
     },
     "execution_count": 113,
     "metadata": {},
     "output_type": "execute_result"
    }
   ],
   "source": [
    "df.variety_code.value_counts()"
   ]
  },
  {
   "cell_type": "markdown",
   "metadata": {},
   "source": [
    "#### Run Baseline SVM"
   ]
  },
  {
   "cell_type": "code",
   "execution_count": 114,
   "metadata": {
    "collapsed": true
   },
   "outputs": [],
   "source": [
    "# set classes\n",
    "x = df.note.values\n",
    "y = df.variety_code.values"
   ]
  },
  {
   "cell_type": "code",
   "execution_count": 115,
   "metadata": {
    "collapsed": true
   },
   "outputs": [],
   "source": [
    "# split test and train\n",
    "x_train, x_test, y_train, y_test = train_test_split(x, y, test_size=0.2, random_state=522)"
   ]
  },
  {
   "cell_type": "code",
   "execution_count": 116,
   "metadata": {},
   "outputs": [
    {
     "data": {
      "text/plain": [
       "0.8025751072961373"
      ]
     },
     "execution_count": 116,
     "metadata": {},
     "output_type": "execute_result"
    }
   ],
   "source": [
    "# majority class prediction\n",
    "np.mean(y_test == 4)"
   ]
  },
  {
   "cell_type": "code",
   "execution_count": 117,
   "metadata": {},
   "outputs": [
    {
     "name": "stderr",
     "output_type": "stream",
     "text": [
      "/Users/kgedney/anaconda/lib/python3.6/site-packages/sklearn/feature_extraction/text.py:1059: FutureWarning: Conversion of the second argument of issubdtype from `float` to `np.floating` is deprecated. In future, it will be treated as `np.float64 == np.dtype(float).type`.\n",
      "  if hasattr(X, 'dtype') and np.issubdtype(X.dtype, np.float):\n"
     ]
    },
    {
     "data": {
      "text/plain": [
       "((931, 2330), (233, 2330))"
      ]
     },
     "execution_count": 117,
     "metadata": {},
     "output_type": "execute_result"
    }
   ],
   "source": [
    "# data preprocess\n",
    "tfidf_vec   = TfidfVectorizer()\n",
    "x_train_vec = tfidf_vec.fit_transform(x_train)\n",
    "x_test_vec  = tfidf_vec.transform(x_test)\n",
    "x_train_vec.shape, x_test_vec.shape"
   ]
  },
  {
   "cell_type": "code",
   "execution_count": 118,
   "metadata": {},
   "outputs": [],
   "source": [
    "# remap \n",
    "y_train_lookup = dict(zip(np.unique(y_train), range(len(np.unique(y_train)))))\n",
    "y_train_remap  = [y_train_lookup[yy] for yy in y_train]\n",
    "y_test_remap   = [y_train_lookup[yy] for yy in y_test]"
   ]
  },
  {
   "cell_type": "code",
   "execution_count": 119,
   "metadata": {},
   "outputs": [
    {
     "name": "stdout",
     "output_type": "stream",
     "text": [
      "accuracy 0.9484978540772532\n"
     ]
    }
   ],
   "source": [
    "# fit model\n",
    "from sklearn.svm import LinearSVC\n",
    "clf             = LinearSVC().fit(x_train_vec, y_train_remap)\n",
    "predicted       = clf.predict(x_test_vec)\n",
    "predicted_score = clf.decision_function(x_test_vec)\n",
    "print('accuracy', metrics.accuracy_score(y_test_remap, predicted))"
   ]
  },
  {
   "cell_type": "code",
   "execution_count": 122,
   "metadata": {},
   "outputs": [
    {
     "data": {
      "text/plain": [
       "(1164, 13)"
      ]
     },
     "execution_count": 122,
     "metadata": {},
     "output_type": "execute_result"
    }
   ],
   "source": [
    "df.shape"
   ]
  },
  {
   "cell_type": "markdown",
   "metadata": {},
   "source": [
    "### Keras Model"
   ]
  },
  {
   "cell_type": "markdown",
   "metadata": {},
   "source": [
    "#### Import model"
   ]
  },
  {
   "cell_type": "code",
   "execution_count": 123,
   "metadata": {},
   "outputs": [],
   "source": [
    "import keras\n",
    "from keras import optimizers\n",
    "import tensorflow as tf\n",
    "\n",
    "from keras.utils import np_utils\n",
    "from keras.preprocessing import sequence\n",
    "from keras.preprocessing.text import Tokenizer\n",
    "\n",
    "from keras.models import Model, Sequential\n",
    "from keras.layers import Input, Dense, CuDNNLSTM, LSTM, Embedding, Bidirectional, GlobalAveragePooling1D, Conv1D, Activation, Flatten, Dropout, MaxPooling1D, Embedding, GlobalMaxPooling1D\n",
    "\n",
    "from keras.layers.core import Dense, Dropout\n",
    "\n",
    "import pickle"
   ]
  },
  {
   "cell_type": "code",
   "execution_count": 124,
   "metadata": {},
   "outputs": [],
   "source": [
    "model1 = keras.models.load_model('wine_model_l.h5')\n",
    "tokenizer = pickle.load(open('tokenizer.pkl', 'rb'))"
   ]
  },
  {
   "cell_type": "markdown",
   "metadata": {},
   "source": [
    "#### Prep Data for Keras"
   ]
  },
  {
   "cell_type": "code",
   "execution_count": 125,
   "metadata": {},
   "outputs": [],
   "source": [
    "# data preprocess\n",
    "x = df.note.values\n",
    "y = df.variety_code.values\n",
    "\n",
    "# create sequences\n",
    "# max_features = 25000\n",
    "# tokenizer    = Tokenizer(num_words = max_features)\n",
    "# tokenizer.fit_on_texts(x)\n",
    "x_sequences  = tokenizer.texts_to_sequences(x)\n",
    "\n",
    "# pad each sequence to be max length\n",
    "maxlen = 136\n",
    "x_sequences = sequence.pad_sequences(x_sequences, maxlen)"
   ]
  },
  {
   "cell_type": "markdown",
   "metadata": {},
   "source": [
    "#### Run Results"
   ]
  },
  {
   "cell_type": "code",
   "execution_count": 126,
   "metadata": {},
   "outputs": [
    {
     "name": "stdout",
     "output_type": "stream",
     "text": [
      "1164/1164 [==============================] - 0s 106us/step\n",
      "accuracy 0.40034364261168387\n"
     ]
    }
   ],
   "source": [
    "print('accuracy', model1.evaluate(x_sequences, y)[1])"
   ]
  },
  {
   "cell_type": "code",
   "execution_count": 127,
   "metadata": {},
   "outputs": [
    {
     "data": {
      "image/png": "[encoded data removed]",
      "text/plain": [
       "<matplotlib.figure.Figure at 0x146e956a0>"
      ]
     },
     "metadata": {},
     "output_type": "display_data"
    }
   ],
   "source": [
    "import seaborn as sns\n",
    "from matplotlib import pyplot as plt\n",
    "\n",
    "preds = model1.predict(x_sequences)\n",
    "to_plot = pd.crosstab(y, preds.argmax(axis=-1), normalize='index')\n",
    "sns.heatmap(to_plot)\n",
    "plt.show()"
   ]
  },
  {
   "cell_type": "code",
   "execution_count": 128,
   "metadata": {},
   "outputs": [
    {
     "data": {
      "text/html": [
       "<div>\n",
       "<style scoped>\n",
       "    .dataframe tbody tr th:only-of-type {\n",
       "        vertical-align: middle;\n",
       "    }\n",
       "\n",
       "    .dataframe tbody tr th {\n",
       "        vertical-align: top;\n",
       "    }\n",
       "\n",
       "    .dataframe thead th {\n",
       "        text-align: right;\n",
       "    }\n",
       "</style>\n",
       "<table border=\"1\" class=\"dataframe\">\n",
       "  <thead>\n",
       "    <tr style=\"text-align: right;\">\n",
       "      <th>row_0</th>\n",
       "      <th>3</th>\n",
       "      <th>4</th>\n",
       "      <th>6</th>\n",
       "      <th>14</th>\n",
       "    </tr>\n",
       "    <tr>\n",
       "      <th>col_0</th>\n",
       "      <th></th>\n",
       "      <th></th>\n",
       "      <th></th>\n",
       "      <th></th>\n",
       "    </tr>\n",
       "  </thead>\n",
       "  <tbody>\n",
       "    <tr>\n",
       "      <th>0</th>\n",
       "      <td>0.05</td>\n",
       "      <td>0.012862</td>\n",
       "      <td>0.006173</td>\n",
       "      <td>0.000000</td>\n",
       "    </tr>\n",
       "    <tr>\n",
       "      <th>1</th>\n",
       "      <td>0.15</td>\n",
       "      <td>0.117899</td>\n",
       "      <td>0.006173</td>\n",
       "      <td>0.040816</td>\n",
       "    </tr>\n",
       "    <tr>\n",
       "      <th>2</th>\n",
       "      <td>0.00</td>\n",
       "      <td>0.001072</td>\n",
       "      <td>0.000000</td>\n",
       "      <td>0.000000</td>\n",
       "    </tr>\n",
       "    <tr>\n",
       "      <th>3</th>\n",
       "      <td>0.30</td>\n",
       "      <td>0.023580</td>\n",
       "      <td>0.000000</td>\n",
       "      <td>0.000000</td>\n",
       "    </tr>\n",
       "    <tr>\n",
       "      <th>4</th>\n",
       "      <td>0.20</td>\n",
       "      <td>0.365488</td>\n",
       "      <td>0.006173</td>\n",
       "      <td>0.040816</td>\n",
       "    </tr>\n",
       "    <tr>\n",
       "      <th>5</th>\n",
       "      <td>0.00</td>\n",
       "      <td>0.001072</td>\n",
       "      <td>0.000000</td>\n",
       "      <td>0.000000</td>\n",
       "    </tr>\n",
       "    <tr>\n",
       "      <th>6</th>\n",
       "      <td>0.00</td>\n",
       "      <td>0.009646</td>\n",
       "      <td>0.561728</td>\n",
       "      <td>0.000000</td>\n",
       "    </tr>\n",
       "    <tr>\n",
       "      <th>7</th>\n",
       "      <td>0.00</td>\n",
       "      <td>0.003215</td>\n",
       "      <td>0.000000</td>\n",
       "      <td>0.000000</td>\n",
       "    </tr>\n",
       "    <tr>\n",
       "      <th>8</th>\n",
       "      <td>0.00</td>\n",
       "      <td>0.001072</td>\n",
       "      <td>0.000000</td>\n",
       "      <td>0.000000</td>\n",
       "    </tr>\n",
       "    <tr>\n",
       "      <th>9</th>\n",
       "      <td>0.00</td>\n",
       "      <td>0.024652</td>\n",
       "      <td>0.000000</td>\n",
       "      <td>0.000000</td>\n",
       "    </tr>\n",
       "    <tr>\n",
       "      <th>10</th>\n",
       "      <td>0.05</td>\n",
       "      <td>0.079314</td>\n",
       "      <td>0.000000</td>\n",
       "      <td>0.122449</td>\n",
       "    </tr>\n",
       "    <tr>\n",
       "      <th>11</th>\n",
       "      <td>0.00</td>\n",
       "      <td>0.006431</td>\n",
       "      <td>0.000000</td>\n",
       "      <td>0.000000</td>\n",
       "    </tr>\n",
       "    <tr>\n",
       "      <th>12</th>\n",
       "      <td>0.00</td>\n",
       "      <td>0.000000</td>\n",
       "      <td>0.024691</td>\n",
       "      <td>0.000000</td>\n",
       "    </tr>\n",
       "    <tr>\n",
       "      <th>13</th>\n",
       "      <td>0.00</td>\n",
       "      <td>0.002144</td>\n",
       "      <td>0.049383</td>\n",
       "      <td>0.000000</td>\n",
       "    </tr>\n",
       "    <tr>\n",
       "      <th>14</th>\n",
       "      <td>0.15</td>\n",
       "      <td>0.116827</td>\n",
       "      <td>0.006173</td>\n",
       "      <td>0.571429</td>\n",
       "    </tr>\n",
       "    <tr>\n",
       "      <th>15</th>\n",
       "      <td>0.00</td>\n",
       "      <td>0.005359</td>\n",
       "      <td>0.006173</td>\n",
       "      <td>0.000000</td>\n",
       "    </tr>\n",
       "    <tr>\n",
       "      <th>16</th>\n",
       "      <td>0.00</td>\n",
       "      <td>0.017149</td>\n",
       "      <td>0.000000</td>\n",
       "      <td>0.000000</td>\n",
       "    </tr>\n",
       "    <tr>\n",
       "      <th>17</th>\n",
       "      <td>0.00</td>\n",
       "      <td>0.008574</td>\n",
       "      <td>0.000000</td>\n",
       "      <td>0.000000</td>\n",
       "    </tr>\n",
       "    <tr>\n",
       "      <th>18</th>\n",
       "      <td>0.00</td>\n",
       "      <td>0.003215</td>\n",
       "      <td>0.129630</td>\n",
       "      <td>0.000000</td>\n",
       "    </tr>\n",
       "    <tr>\n",
       "      <th>19</th>\n",
       "      <td>0.00</td>\n",
       "      <td>0.006431</td>\n",
       "      <td>0.006173</td>\n",
       "      <td>0.020408</td>\n",
       "    </tr>\n",
       "    <tr>\n",
       "      <th>20</th>\n",
       "      <td>0.00</td>\n",
       "      <td>0.038585</td>\n",
       "      <td>0.012346</td>\n",
       "      <td>0.040816</td>\n",
       "    </tr>\n",
       "    <tr>\n",
       "      <th>21</th>\n",
       "      <td>0.00</td>\n",
       "      <td>0.003215</td>\n",
       "      <td>0.000000</td>\n",
       "      <td>0.040816</td>\n",
       "    </tr>\n",
       "    <tr>\n",
       "      <th>22</th>\n",
       "      <td>0.00</td>\n",
       "      <td>0.012862</td>\n",
       "      <td>0.135802</td>\n",
       "      <td>0.000000</td>\n",
       "    </tr>\n",
       "    <tr>\n",
       "      <th>23</th>\n",
       "      <td>0.00</td>\n",
       "      <td>0.004287</td>\n",
       "      <td>0.000000</td>\n",
       "      <td>0.000000</td>\n",
       "    </tr>\n",
       "    <tr>\n",
       "      <th>24</th>\n",
       "      <td>0.10</td>\n",
       "      <td>0.100750</td>\n",
       "      <td>0.000000</td>\n",
       "      <td>0.102041</td>\n",
       "    </tr>\n",
       "    <tr>\n",
       "      <th>25</th>\n",
       "      <td>0.00</td>\n",
       "      <td>0.018221</td>\n",
       "      <td>0.000000</td>\n",
       "      <td>0.000000</td>\n",
       "    </tr>\n",
       "    <tr>\n",
       "      <th>26</th>\n",
       "      <td>0.00</td>\n",
       "      <td>0.000000</td>\n",
       "      <td>0.043210</td>\n",
       "      <td>0.000000</td>\n",
       "    </tr>\n",
       "    <tr>\n",
       "      <th>27</th>\n",
       "      <td>0.00</td>\n",
       "      <td>0.016077</td>\n",
       "      <td>0.006173</td>\n",
       "      <td>0.020408</td>\n",
       "    </tr>\n",
       "  </tbody>\n",
       "</table>\n",
       "</div>"
      ],
      "text/plain": [
       "row_0    3         4         6         14\n",
       "col_0                                    \n",
       "0      0.05  0.012862  0.006173  0.000000\n",
       "1      0.15  0.117899  0.006173  0.040816\n",
       "2      0.00  0.001072  0.000000  0.000000\n",
       "3      0.30  0.023580  0.000000  0.000000\n",
       "4      0.20  0.365488  0.006173  0.040816\n",
       "5      0.00  0.001072  0.000000  0.000000\n",
       "6      0.00  0.009646  0.561728  0.000000\n",
       "7      0.00  0.003215  0.000000  0.000000\n",
       "8      0.00  0.001072  0.000000  0.000000\n",
       "9      0.00  0.024652  0.000000  0.000000\n",
       "10     0.05  0.079314  0.000000  0.122449\n",
       "11     0.00  0.006431  0.000000  0.000000\n",
       "12     0.00  0.000000  0.024691  0.000000\n",
       "13     0.00  0.002144  0.049383  0.000000\n",
       "14     0.15  0.116827  0.006173  0.571429\n",
       "15     0.00  0.005359  0.006173  0.000000\n",
       "16     0.00  0.017149  0.000000  0.000000\n",
       "17     0.00  0.008574  0.000000  0.000000\n",
       "18     0.00  0.003215  0.129630  0.000000\n",
       "19     0.00  0.006431  0.006173  0.020408\n",
       "20     0.00  0.038585  0.012346  0.040816\n",
       "21     0.00  0.003215  0.000000  0.040816\n",
       "22     0.00  0.012862  0.135802  0.000000\n",
       "23     0.00  0.004287  0.000000  0.000000\n",
       "24     0.10  0.100750  0.000000  0.102041\n",
       "25     0.00  0.018221  0.000000  0.000000\n",
       "26     0.00  0.000000  0.043210  0.000000\n",
       "27     0.00  0.016077  0.006173  0.020408"
      ]
     },
     "execution_count": 128,
     "metadata": {},
     "output_type": "execute_result"
    }
   ],
   "source": [
    "to_plot.T"
   ]
  },
  {
   "cell_type": "code",
   "execution_count": 129,
   "metadata": {},
   "outputs": [
    {
     "data": {
      "text/plain": [
       "array([['Lemons, pears and green apples define this wine. There is freshness and sweet fruits on the backend and a pleasant touch of stone from start to finish. The wine has early drinking appeal.',\n",
       "        'Hubert de Boüard Le Chardonnay\\xa0 (Vin de France)'],\n",
       "       ['Honeyed grapefruit, with hints of tropical fruit, the wine is fresh, if not peppy, there is enough volume and length to make this a fun, early drinking, summer wine.',\n",
       "        'Hubert de Boüard Le Chardonnay\\xa0 (Vin de France)'],\n",
       "       ['Medium bodied with ripe, sweet cherries, underbrush and licorice, the wine is delectable and fresh. Drink this ten to 12 years after the vintage.',\n",
       "        'Château Mangot Cabernet Sauvignon Todeschini\\xa0 (St. Émilion Grand Cru)'],\n",
       "       ['Smoke, licorice and tobacco rise above the dark red fruits in this deeply colored wine. Polished and fresh with a concentrated dark plum center and silky tannins, the wine is produced from a parcel selection of their best four hectares of vines.',\n",
       "        'Château Mangot Cabernet Sauvignon Todeschini\\xa0 (St. Émilion Grand Cru)'],\n",
       "       ['Made from their best four hectares of vines, this wine made its debut with the 2008 vintage. From a blend of 40% Cabernet Franc, 30% Merlot and a surprising 30% Cabernet Sauvignon, the wine is fruity, tannic and packing a punch. Give this structured, Left Bank look-alike some time in the cellar to develop as the tannins are quite high. It could be much better with 3-5 years of bottle age.',\n",
       "        'Château Mangot Cabernet Sauvignon Todeschini\\xa0 (St. Émilion Grand Cru)']],\n",
       "      dtype=object)"
      ]
     },
     "execution_count": 129,
     "metadata": {},
     "output_type": "execute_result"
    }
   ],
   "source": [
    "df[['note', 'bottle']].head().values"
   ]
  },
  {
   "cell_type": "code",
   "execution_count": null,
   "metadata": {
    "collapsed": true
   },
   "outputs": [],
   "source": []
  }
 ],
 "metadata": {
  "kernelspec": {
   "display_name": "Python 3",
   "language": "python",
   "name": "python3"
  },
  "language_info": {
   "codemirror_mode": {
    "name": "ipython",
    "version": 3
   },
   "file_extension": ".py",
   "mimetype": "text/x-python",
   "name": "python",
   "nbconvert_exporter": "python",
   "pygments_lexer": "ipython3",
   "version": "3.6.1"
  }
 },
 "nbformat": 4,
 "nbformat_minor": 2
}
